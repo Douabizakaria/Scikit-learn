{
  "nbformat": 4,
  "nbformat_minor": 0,
  "metadata": {
    "colab": {
      "provenance": []
    },
    "kernelspec": {
      "name": "python3",
      "display_name": "Python 3"
    },
    "language_info": {
      "name": "python"
    }
  },
  "cells": [
    {
      "cell_type": "code",
      "execution_count": null,
      "metadata": {
        "id": "WtTL8BgfpDjx"
      },
      "outputs": [],
      "source": [
        "quiz_answers = {\n",
        "    \"Question 1\": \"B) To categorize text into predefined classes\",\n",
        "    \"Question 2\": \"B) Loads text files from a directory and prepares them for training\",\n",
        "    \"Question 3\": \"A) To standardize and tokenize the text data\",\n",
        "    \"Question 4\": \"B) To randomly set input units to 0 to prevent overfitting\",\n",
        "    \"Question 5\": \"D) Sigmoid\",\n",
        "    \"Question 6\": \"C) Stops training when the validation loss does not improve for a number of epochs\",\n",
        "    \"Question 7\": \"B) `tf.keras.preprocessing.text_dataset_from_directory`\",\n",
        "    \"Question 8\": \"A) By using TensorBoard\",\n",
        "    \"Question 9\": \"B) To convert variable-length sequences into fixed-length vectors\",\n",
        "    \"Question 10\": \"A) It generally reduces the training time per epoch but may require more memory\",\n",
        "    \"Question 11\": \"B) To ensure that I/O does not become a bottleneck during training\",\n",
        "    \"Question 13\": \"B) To help the model generalize better by preventing it from learning the order of the data\",\n",
        "    \"Question 14\": \"C) `model.evaluate()`\",\n",
        "    \"Question 15\": \"B) Overlaps data preprocessing and model execution\",\n",
        "    \"Question 16\": \"A) When the model performs well on training data but poorly on validation/test data\",\n",
        "    \"Question 17\": \"C) `tf.keras.callbacks.LearningRateScheduler`\"\n",
        "}\n",
        "\n",
        "# Affichage des réponses\n",
        "for question, answer in quiz_answers.items():\n",
        "    print(f\"{question}: {answer}\")\n"
      ]
    }
  ]
}