{
  "nbformat": 4,
  "nbformat_minor": 0,
  "metadata": {
    "colab": {
      "provenance": []
    },
    "kernelspec": {
      "name": "python3",
      "display_name": "Python 3"
    },
    "language_info": {
      "name": "python"
    }
  },
  "cells": [
    {
      "cell_type": "code",
      "execution_count": null,
      "metadata": {
        "id": "GSuPIP8t38jj"
      },
      "outputs": [],
      "source": [
        "# Réponses aux questions du quiz TensorFlow Regression Course\n",
        "\n",
        "answers = {\n",
        "    \"Question 1\": \"A\",  # Regression predicts continuous variables, while classification predicts discrete classes.\n",
        "    \"Question 2\": \"C\",  # MPG is the target variable we aim to predict.\n",
        "    \"Question 3\": \"A\",  # To convert the categorical data into a numerical format suitable for the model.\n",
        "    \"Question 4\": \"B\",  # To ensure that features have the same scale and improve training stability.\n",
        "    \"Question 5\": \"B\",  # To normalize the input features to have a mean of 0 and a standard deviation of 1.\n",
        "    \"Question 6\": \"C\",  # Using the model.compile() method.\n",
        "    \"Question 7\": \"C\",  # Adam is used in the single-variable linear regression model example.\n",
        "    \"Question 8\": \"A\",  # It specifies the percentage of the training data to be used for validation.\n",
        "    \"Question 9\": \"A\",  # To increase the model's capacity to learn complex patterns.\n",
        "    \"Question 10\": \"B\", # To prevent overfitting by penalizing large weights.\n",
        "    \"Question 11\": \"B\", # It helps to ensure the model generalizes well by averaging performance over multiple folds.\n",
        "    \"Question 12\": \"A\", # Matplotlib is used to create visualizations in the TensorFlow regression tutorial.\n",
        "    \"Question 13\": \"B\", # Using the model.save() method.\n",
        "    \"Question 14\": \"B\", # To automate the process of hyperparameter tuning.\n",
        "    \"Question 15\": \"A\"  # (1, 1) is the typical shape of the weight matrix in a single-variable linear regression model.\n",
        "}\n",
        "\n",
        "# Affichage des réponses\n",
        "for question, answer in answers.items():\n",
        "    print(f\"{question}: {answer}\")\n"
      ]
    }
  ]
}