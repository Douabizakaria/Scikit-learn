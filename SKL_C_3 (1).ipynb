{
  "cells": [
    {
      "cell_type": "code",
      "execution_count": null,
      "id": "a6cb7c8e-68f5-4387-964e-68ab1c08d3ff",
      "metadata": {
        "id": "a6cb7c8e-68f5-4387-964e-68ab1c08d3ff"
      },
      "outputs": [],
      "source": [
        "# Based on the Github code of : https://github.com/sayantann11/all-classification-templetes-for-ML\n",
        "# Modified by Mehdi Ammi, Univ. Paris 8"
      ]
    },
    {
      "cell_type": "markdown",
      "id": "06efbf1b-e0e4-44e5-98a3-04fc1aca4d08",
      "metadata": {
        "id": "06efbf1b-e0e4-44e5-98a3-04fc1aca4d08"
      },
      "source": [
        "# Scikit-Learn: Logistic Regression (LR)"
      ]
    },
    {
      "cell_type": "markdown",
      "id": "18fac704-b02f-45ed-ad1d-e2a488dc96b1",
      "metadata": {
        "id": "18fac704-b02f-45ed-ad1d-e2a488dc96b1"
      },
      "source": [
        "## Introduction to Decision Tree\n",
        "\n",
        "Logistic regression is a statistical method for predicting binary classes. The outcome or target variable is dichotomous in nature. Dichotomous means there are only two possible classes. For example, it can be used for cancer detection problems. It computes the probability of an event occurrence.\n",
        "\n",
        "It is a special case of linear regression where the target variable is categorical in nature. It uses a log of odds as the dependent variable. Logistic Regression predicts the probability of occurrence of a binary event utilizing a logit function.\n",
        "\n",
        "Linear Regression Equation:\n",
        "\n",
        "![LR_4.png](attachment:f1dde66b-fc30-484c-a273-d0c619331662.png)\n",
        "\n",
        "Where, y is a dependent variable and x1, x2 ... and Xn are explanatory variables.\n",
        "\n",
        "Sigmoid Function:\n",
        "\n",
        "![LR_5.png](attachment:6e185507-1620-46b5-8d6d-e8bac292025f.png)\n",
        "\n",
        "Apply Sigmoid function on linear regression:\n",
        "\n",
        "![LR_6.png](attachment:e22d02e7-9497-46d6-8539-738cf5a38978.png)\n",
        "\n",
        "\n",
        "### Properties of Logistic Regression:\n",
        "\n",
        "The dependent variable in logistic regression follows Bernoulli Distribution.\n",
        "Estimation is done through maximum likelihood.\n",
        "No R Square, Model fitness is calculated through Concordance, KS-Statistics."
      ]
    },
    {
      "cell_type": "markdown",
      "id": "f8412076-9073-49ff-a060-b5f7fac65f8b",
      "metadata": {
        "id": "f8412076-9073-49ff-a060-b5f7fac65f8b"
      },
      "source": [
        "## Linear Regression Vs. Logistic Regression\n",
        "\n",
        "Linear regression gives you a continuous output, but logistic regression provides a constant output. An example of the continuous output is house price and stock price. Example's of the discrete output is predicting whether a patient has cancer or not, predicting whether the customer will churn. Linear regression is estimated using Ordinary Least Squares (OLS) while logistic regression is estimated using Maximum Likelihood Estimation (MLE) approach.\n",
        "\n",
        "![LR_7.png](attachment:5f9f34ef-2d0b-4429-b6bd-1505ebdc2eef.png)"
      ]
    },
    {
      "cell_type": "markdown",
      "id": "240183b3-7d98-49ca-8a14-0786534ef887",
      "metadata": {
        "id": "240183b3-7d98-49ca-8a14-0786534ef887"
      },
      "source": [
        "## Maximum Likelihood Estimation Vs. Least Square Method\n",
        "\n",
        "The MLE is a \"likelihood\" maximization method, while OLS is a distance-minimizing approximation method. Maximizing the likelihood function determines the parameters that are most likely to produce the observed data. From a statistical point of view, MLE sets the mean and variance as parameters in determining the specific parametric values for a given model. This set of parameters can be used for predicting the data needed in a normal distribution.\n",
        "\n",
        "Ordinary Least squares estimates are computed by fitting a regression line on given data points that has the minimum sum of the squared deviations (least square error). Both are used to estimate the parameters of a linear regression model. MLE assumes a joint probability mass function, while OLS doesn't require any stochastic assumptions for minimizing distance.\n",
        "\n",
        "### Sigmoid Function\n",
        "\n",
        "The sigmoid function, also called logistic function gives an ‘S’ shaped curve that can take any real-valued number and map it into a value between 0 and 1. If the curve goes to positive infinity, y predicted will become 1, and if the curve goes to negative infinity, y predicted will become 0. If the output of the sigmoid function is more than 0.5, we can classify the outcome as 1 or YES, and if it is less than 0.5, we can classify it as 0 or NO. The outputcannotFor example: If the output is 0.75, we can say in terms of probability as: There is a 75 percent chance that a patient will suffer from cancer.\n",
        "\n",
        "![LR_8.png](attachment:12ad8afb-16b7-4cae-995d-c7a5495aa921.png)\n",
        "\n",
        "![LR_9.png](attachment:197c9d99-9f40-419d-a025-75c6c6847f55.png)"
      ]
    },
    {
      "cell_type": "markdown",
      "id": "231da7f9-8845-4a10-b620-5897321bb026",
      "metadata": {
        "id": "231da7f9-8845-4a10-b620-5897321bb026"
      },
      "source": [
        "## Types of Logistic Regression\n",
        "\n",
        " - Binary Logistic Regression: The target variable has only two possible outcomes such as Spam or Not Spam, Cancer or No Cancer.\n",
        " - Multinomial Logistic Regression: The target variable has three or more nominal categories such as predicting the type of Wine.\n",
        " - Ordinal Logistic Regression: the target variable has three or more ordinal categories such as restaurant or product rating from 1 to 5."
      ]
    },
    {
      "cell_type": "markdown",
      "id": "759e614b-68fd-4162-a1dd-3e95c0bcbf4f",
      "metadata": {
        "id": "759e614b-68fd-4162-a1dd-3e95c0bcbf4f"
      },
      "source": [
        "## Importing required libraries"
      ]
    },
    {
      "cell_type": "code",
      "execution_count": null,
      "id": "11cd3670-9a77-41dc-a4cd-10db1881792c",
      "metadata": {
        "id": "11cd3670-9a77-41dc-a4cd-10db1881792c"
      },
      "outputs": [],
      "source": [
        "import numpy as np\n",
        "import matplotlib.pyplot as plt\n",
        "import pandas as pd"
      ]
    },
    {
      "cell_type": "markdown",
      "id": "c18b745d-e99e-49ec-b886-018ec00ab0fa",
      "metadata": {
        "id": "c18b745d-e99e-49ec-b886-018ec00ab0fa"
      },
      "source": [
        "## Loading Data\n",
        "\n",
        "First, we load the dataset\n",
        "Then, we extract the features (Age and Estimated Salary) and the target variable (Purchased) from the dataset."
      ]
    },
    {
      "cell_type": "code",
      "execution_count": null,
      "id": "ac96ec1a-a7b4-4574-8473-a49c74de7a6c",
      "metadata": {
        "id": "ac96ec1a-a7b4-4574-8473-a49c74de7a6c"
      },
      "outputs": [],
      "source": [
        "# Import files module from google.colab for file uploading\n",
        "from google.colab import files\n",
        "\n",
        "# Initiates a file upload dialog and stores the uploaded files in a dictionary.\n",
        "uploaded = files.upload()\n",
        "\n",
        "# Importing the dataset\n",
        "dataset = pd.read_csv('Social_Network_Ads.csv')\n",
        "\n",
        "dataset.head()"
      ]
    },
    {
      "cell_type": "markdown",
      "id": "3beff964-6f17-4be5-91ca-ca38f7cd0ab1",
      "metadata": {
        "id": "3beff964-6f17-4be5-91ca-ca38f7cd0ab1"
      },
      "source": [
        "|index|User ID|Gender|Age|EstimatedSalary|Purchased|\n",
        "|---|---|---|---|---|---|\n",
        "|0|15624510|Male|19|19000|0|\n",
        "|1|15810944|Male|35|20000|0|\n",
        "|2|15668575|Female|26|43000|0|\n",
        "|3|15603246|Female|27|57000|0|\n",
        "|4|15804002|Male|19|76000|0|"
      ]
    },
    {
      "cell_type": "markdown",
      "id": "4769d4d7-7f56-4a31-a407-073b41963e75",
      "metadata": {
        "id": "4769d4d7-7f56-4a31-a407-073b41963e75"
      },
      "source": [
        "## Selecting Feature\n",
        "\n",
        "Here, you need to divide the given columns into two types of variables dependent(or target variable) and independent variable(or feature variables)."
      ]
    },
    {
      "cell_type": "code",
      "execution_count": null,
      "id": "33b3117e-840c-4449-9fb4-a700f42f57d6",
      "metadata": {
        "id": "33b3117e-840c-4449-9fb4-a700f42f57d6"
      },
      "outputs": [],
      "source": [
        "# Extracting the features (Age and Estimated Salary)\n",
        "X = dataset.iloc[:, [2, 3]].values\n",
        "\n",
        "# Extracting the target variable (Purchased)\n",
        "y = dataset.iloc[:, 4].values"
      ]
    },
    {
      "cell_type": "markdown",
      "id": "5a46efe4-9463-4045-85e2-9f3a9e182ccf",
      "metadata": {
        "id": "5a46efe4-9463-4045-85e2-9f3a9e182ccf"
      },
      "source": [
        "## Splitting the Dataset\n",
        "\n",
        "We split the dataset into training and test sets to evaluate the model's performance.\n",
        "\n",
        "Let's split the dataset by using the function train_test_split(). You need to pass 3 parameters: features, target, and test_set size. Additionally, you can use random_state to select records randomly."
      ]
    },
    {
      "cell_type": "code",
      "execution_count": null,
      "id": "21738104-5359-4a39-baeb-98eda744a597",
      "metadata": {
        "id": "21738104-5359-4a39-baeb-98eda744a597"
      },
      "outputs": [],
      "source": [
        "# Importing the train_test_split function from scikit-learn's model_selection module\n",
        "from sklearn.model_selection import train_test_split\n",
        "\n",
        "# Splitting the dataset into Training set and Test set\n",
        "X_train, X_test, y_train, y_test = train_test_split(X, y, test_size = 0.25, random_state = 0)"
      ]
    },
    {
      "cell_type": "markdown",
      "id": "93f25999-becf-4f49-bd36-808d3e3bb70e",
      "metadata": {
        "id": "93f25999-becf-4f49-bd36-808d3e3bb70e"
      },
      "source": [
        "Here, the Dataset is broken into two parts in a ratio of 75:25. It means 75% data will be used for model training and 25% for model testing."
      ]
    },
    {
      "cell_type": "markdown",
      "id": "c58140b6-7098-4a78-8041-7d28d51ac07c",
      "metadata": {
        "id": "c58140b6-7098-4a78-8041-7d28d51ac07c"
      },
      "source": [
        "## Feature Scaling\n",
        "\n",
        "Feature scaling is applied to standardize the range of independent variables. This is important for many machine learning algorithms, including logistic regression, as it helps in faster convergence of the model during training."
      ]
    },
    {
      "cell_type": "code",
      "execution_count": null,
      "id": "64729323-bb5b-41ab-9e5b-2d61530e69d9",
      "metadata": {
        "id": "64729323-bb5b-41ab-9e5b-2d61530e69d9"
      },
      "outputs": [],
      "source": [
        "# Importing the StandardScaler class from scikit-learn's preprocessing module\n",
        "from sklearn.preprocessing import StandardScaler\n",
        "\n",
        "# Creating an instance of StandardScaler\n",
        "sc = StandardScaler()\n",
        "\n",
        "# Applying feature scaling to the training set\n",
        "X_train = sc.fit_transform(X_train)\n",
        "\n",
        "# Applying the same scaling to the test set\n",
        "X_test = sc.transform(X_test)"
      ]
    },
    {
      "cell_type": "markdown",
      "id": "ef0558a4-d818-4e7f-956d-825b968cbf21",
      "metadata": {
        "id": "ef0558a4-d818-4e7f-956d-825b968cbf21"
      },
      "source": [
        "## Model Development and Prediction\n",
        "\n",
        "First, import the Logistic Regression module and create a Logistic Regression classifier object using the LogisticRegression() function with random_state for reproducibility.\n",
        "\n",
        "Then, fit your model on the train set using fit() and perform prediction on the test set using predict()."
      ]
    },
    {
      "cell_type": "code",
      "execution_count": null,
      "id": "87a77ec7-3cef-43ea-911f-4fdba6a957ed",
      "metadata": {
        "id": "87a77ec7-3cef-43ea-911f-4fdba6a957ed"
      },
      "outputs": [],
      "source": [
        "# Importing the LogisticRegression class from scikit-learn's linear_model module\n",
        "from sklearn.linear_model import LogisticRegression\n",
        "\n",
        "# Creating an instance of Logistic Regression\n",
        "classifier = LogisticRegression(random_state = 0)\n",
        "\n",
        "# Fitting the model to the training data\n",
        "classifier.fit(X_train, y_train)\n",
        "\n",
        "# Predicting the Test set results\n",
        "y_pred = classifier.predict(X_test)"
      ]
    },
    {
      "cell_type": "markdown",
      "id": "bd1b585e-dc5a-48b6-bbad-2cc3830da489",
      "metadata": {
        "id": "bd1b585e-dc5a-48b6-bbad-2cc3830da489"
      },
      "source": [
        "## Evaluating the Model\n",
        "\n",
        "We evaluate the model's performance using a confusion matrix. The confusion matrix provides a summary of prediction results, showing the counts of true positive, true negative, false positive, and false negative predictions."
      ]
    },
    {
      "cell_type": "code",
      "execution_count": null,
      "id": "da80441b-b60b-4c1d-b5d5-f9c4bce8f614",
      "metadata": {
        "id": "da80441b-b60b-4c1d-b5d5-f9c4bce8f614"
      },
      "outputs": [],
      "source": [
        "# Importing the confusion_matrix function from scikit-learn's metrics module\n",
        "from sklearn.metrics import confusion_matrix\n",
        "\n",
        "# Creating the confusion matrix to evaluate the accuracy of the classification\n",
        "# The confusion matrix compares the actual target values (y_test) with the predicted target values (y_pred)\n",
        "cm = confusion_matrix(y_test, y_pred)\n",
        "\n",
        "# Printing the confusion matrix\n",
        "print(cm)"
      ]
    },
    {
      "cell_type": "code",
      "execution_count": null,
      "id": "db7f91d4-d547-4957-9926-8a2844f0c0c7",
      "metadata": {
        "id": "db7f91d4-d547-4957-9926-8a2844f0c0c7"
      },
      "outputs": [],
      "source": [
        ">>\n",
        "[[65  3]\n",
        " [ 8 24]]"
      ]
    },
    {
      "cell_type": "markdown",
      "id": "37db0a43-1cd0-443e-a819-bb490065f100",
      "metadata": {
        "id": "37db0a43-1cd0-443e-a819-bb490065f100"
      },
      "source": [
        "Here, you can see the confusion matrix in the form of the array object. The dimension of this matrix is 2*2 because this model is binary classification. You have two classes 0 and 1. Diagonal values represent accurate predictions, while non-diagonal elements are inaccurate predictions. In the output, 65 and 24 are actual predictions, and 8 and 3 are incorrect predictions."
      ]
    },
    {
      "cell_type": "markdown",
      "id": "89a0575d-9c5b-40b8-8e87-f8fe485dc9b5",
      "metadata": {
        "id": "89a0575d-9c5b-40b8-8e87-f8fe485dc9b5"
      },
      "source": [
        "## Visualizing Confusion Matrix using Heatmap\n",
        "\n",
        "Let's visualize the results of the model in the form of a confusion matrix using matplotlib and seaborn.\n",
        "\n",
        "Here, you will visualize the confusion matrix using Heatmap."
      ]
    },
    {
      "cell_type": "code",
      "execution_count": null,
      "id": "4f2cea2f-508b-4144-87b3-aefc89c4b843",
      "metadata": {
        "id": "4f2cea2f-508b-4144-87b3-aefc89c4b843"
      },
      "outputs": [],
      "source": [
        "# Import required module\n",
        "import seaborn as sns\n",
        "\n",
        "# Define the names of the classes\n",
        "class_names = [0, 1]\n",
        "\n",
        "# Create a figure and axis for the plot\n",
        "fig, ax = plt.subplots()\n",
        "\n",
        "# Define the tick marks for the x and y axes based on the number of classes\n",
        "tick_marks = np.arange(len(class_names))\n",
        "\n",
        "# Set the x and y axis ticks to the class names\n",
        "plt.xticks(tick_marks, class_names)\n",
        "plt.yticks(tick_marks, class_names)\n",
        "\n",
        "# Create a heatmap to visualize the confusion matrix\n",
        "# pd.DataFrame(cm) converts the confusion matrix to a DataFrame for better visualization\n",
        "# annot=True adds the values in the cells\n",
        "# cmap=\"YlGnBu\" sets the color map for the heatmap\n",
        "# fmt='g' ensures the annotations are shown as integers\n",
        "sns.heatmap(pd.DataFrame(cm), annot=True, cmap=\"YlGnBu\", fmt='g')\n",
        "\n",
        "# Set the labels and title\n",
        "ax.xaxis.set_label_position(\"top\")\n",
        "plt.tight_layout()\n",
        "plt.title('Confusion matrix', y=1.1)\n",
        "plt.ylabel('Actual label')\n",
        "plt.xlabel('Predicted label')"
      ]
    },
    {
      "cell_type": "markdown",
      "id": "7a146f0e-8225-47fc-84d3-12baf25627d2",
      "metadata": {
        "id": "7a146f0e-8225-47fc-84d3-12baf25627d2"
      },
      "source": [
        "![LR_1.png](attachment:f30b4c13-3a0e-47b2-b476-2568e700f6ae.png)"
      ]
    },
    {
      "cell_type": "markdown",
      "id": "79c0d5b0-9d92-4e9d-abcf-348b51047f18",
      "metadata": {
        "id": "79c0d5b0-9d92-4e9d-abcf-348b51047f18"
      },
      "source": [
        "## Confusion Matrix Evaluation Metrics\n",
        "\n",
        "Let's evaluate the model using classification_report for accuracy, precision, and recall."
      ]
    },
    {
      "cell_type": "code",
      "execution_count": null,
      "id": "cbd97e24-2d69-453b-95f8-076406180199",
      "metadata": {
        "id": "cbd97e24-2d69-453b-95f8-076406180199"
      },
      "outputs": [],
      "source": [
        "# Importing the classification_report function from scikit-learn's metrics module\n",
        "from sklearn.metrics import classification_report\n",
        "\n",
        "# Defining the target names for the classification report\n",
        "target_names = ['Not Purchased', 'Purchased']\n",
        "\n",
        "# Printing the classification report\n",
        "# The classification report includes precision, recall, f1-score, and support for each class\n",
        "# y_test are the actual target values, y_pred are the predicted target values\n",
        "# target_names are the names of the classes to be displayed in the report\n",
        "print(classification_report(y_test, y_pred, target_names=target_names))"
      ]
    },
    {
      "cell_type": "code",
      "execution_count": null,
      "id": "4e65803b-b107-488f-9f90-1d32afb81aa7",
      "metadata": {
        "id": "4e65803b-b107-488f-9f90-1d32afb81aa7"
      },
      "outputs": [],
      "source": [
        ">>\n",
        "               precision    recall  f1-score   support\n",
        "\n",
        "not Purchased       0.89      0.96      0.92        68\n",
        "    Purchased       0.89      0.75      0.81        32\n",
        "\n",
        "     accuracy                           0.89       100\n",
        "    macro avg       0.89      0.85      0.87       100\n",
        " weighted avg       0.89      0.89      0.89       100"
      ]
    },
    {
      "cell_type": "markdown",
      "id": "33979b15-4064-452a-8bde-958ba0308b7a",
      "metadata": {
        "id": "33979b15-4064-452a-8bde-958ba0308b7a"
      },
      "source": [
        "## Visualising the Training set results\n",
        "\n",
        "We plot the decision boundary with the training set results."
      ]
    },
    {
      "cell_type": "code",
      "execution_count": null,
      "id": "e98506f8-2a5e-412f-942c-31c2422b81a6",
      "metadata": {
        "id": "e98506f8-2a5e-412f-942c-31c2422b81a6"
      },
      "outputs": [],
      "source": [
        "# Importing the ListedColormap class from matplotlib.colors\n",
        "from matplotlib.colors import ListedColormap\n",
        "\n",
        "# Visualising the Training set results\n",
        "# Setting X_set and y_set to the training set features and labels\n",
        "X_set, y_set = X_train, y_train\n",
        "\n",
        "# Creating a meshgrid for the plot\n",
        "# X1 and X2 represent the grid of values for the features\n",
        "X1, X2 = np.meshgrid(np.arange(start=X_set[:, 0].min() - 1, stop=X_set[:, 0].max() + 1, step=0.01),\n",
        "                     np.arange(start=X_set[:, 1].min() - 1, stop=X_set[:, 1].max() + 1, step=0.01))\n",
        "\n",
        "# Plotting the decision boundary\n",
        "# classifier.predict is used to predict the class for each point in the grid\n",
        "# The predictions are reshaped to match the shape of X1 for contour plotting\n",
        "plt.contourf(X1, X2, classifier.predict(np.array([X1.ravel(), X2.ravel()]).T).reshape(X1.shape),\n",
        "             alpha=0.75, cmap=ListedColormap(('red', 'green')))\n",
        "\n",
        "# Setting the limits for the x and y axes\n",
        "plt.xlim(X1.min(), X1.max())\n",
        "plt.ylim(X2.min(), X2.max())\n",
        "\n",
        "# Plotting the training set points\n",
        "# Using different colors for each class\n",
        "for i, j in enumerate(np.unique(y_set)):\n",
        "    plt.scatter(X_set[y_set == j, 0], X_set[y_set == j, 1],\n",
        "                c=ListedColormap(('red', 'green'))(i), label=j)\n",
        "\n",
        "# Adding the title and labels to the plot\n",
        "plt.title('Logistic Regression (Training set)')\n",
        "plt.xlabel('Age')\n",
        "plt.ylabel('Estimated Salary')\n",
        "\n",
        "# Adding the legend to the plot\n",
        "plt.legend()\n",
        "\n",
        "# Displaying the plot\n",
        "plt.show()"
      ]
    },
    {
      "cell_type": "markdown",
      "id": "3d0aa257-426e-4a63-93db-80ec558bce1f",
      "metadata": {
        "id": "3d0aa257-426e-4a63-93db-80ec558bce1f"
      },
      "source": [
        "![LR_2.png](attachment:5715bdbf-9142-4021-9475-adf354513de3.png)"
      ]
    },
    {
      "cell_type": "markdown",
      "id": "2e292c16-d582-4077-9034-215697f800da",
      "metadata": {
        "id": "2e292c16-d582-4077-9034-215697f800da"
      },
      "source": [
        "## Visualising the Test set results\n",
        "\n",
        "We plot the decision boundary with the test set results."
      ]
    },
    {
      "cell_type": "code",
      "execution_count": null,
      "id": "c8bf4990-b51c-44e5-9fe4-ef0a0f3e7e00",
      "metadata": {
        "id": "c8bf4990-b51c-44e5-9fe4-ef0a0f3e7e00"
      },
      "outputs": [],
      "source": [
        "# Visualising the Test set results\n",
        "# Setting X_set and y_set to the test set features and labels\n",
        "X_set, y_set = X_test, y_test\n",
        "\n",
        "# Creating a meshgrid for the plot\n",
        "# X1 and X2 represent the grid of values for the features\n",
        "X1, X2 = np.meshgrid(np.arange(start=X_set[:, 0].min() - 1, stop=X_set[:, 0].max() + 1, step=0.01),\n",
        "                     np.arange(start=X_set[:, 1].min() - 1, stop=X_set[:, 1].max() + 1, step=0.01))\n",
        "\n",
        "# Plotting the decision boundary\n",
        "# classifier.predict is used to predict the class for each point in the grid\n",
        "# The predictions are reshaped to match the shape of X1 for contour plotting\n",
        "plt.contourf(X1, X2, classifier.predict(np.array([X1.ravel(), X2.ravel()]).T).reshape(X1.shape),\n",
        "             alpha=0.75, cmap=ListedColormap(('red', 'green')))\n",
        "\n",
        "# Setting the limits for the x and y axes\n",
        "plt.xlim(X1.min(), X1.max())\n",
        "plt.ylim(X2.min(), X2.max())\n",
        "\n",
        "# Plotting the test set points\n",
        "# Using different colors for each class\n",
        "for i, j in enumerate(np.unique(y_set)):\n",
        "    plt.scatter(X_set[y_set == j, 0], X_set[y_set == j, 1],\n",
        "                c=ListedColormap(('red', 'green'))(i), label=j)\n",
        "\n",
        "# Adding the title and labels to the plot\n",
        "plt.title('Logistic Regression (Test set)')\n",
        "plt.xlabel('Age')\n",
        "plt.ylabel('Estimated Salary')\n",
        "\n",
        "# Adding the legend to the plot\n",
        "plt.legend()\n",
        "\n",
        "# Displaying the plot\n",
        "plt.show()"
      ]
    },
    {
      "cell_type": "markdown",
      "id": "badab88e-412c-4c64-be95-397ff44dc4c1",
      "metadata": {
        "id": "badab88e-412c-4c64-be95-397ff44dc4c1"
      },
      "source": [
        "![LR_3.png](attachment:f87402c8-26dd-4fc4-8d10-18b7854e87aa.png)"
      ]
    },
    {
      "cell_type": "markdown",
      "id": "ed48fba1-b9dc-474e-8d3d-d5e7e42e93cc",
      "metadata": {
        "id": "ed48fba1-b9dc-474e-8d3d-d5e7e42e93cc"
      },
      "source": [
        "## Exercices"
      ]
    },
    {
      "cell_type": "markdown",
      "id": "e03f4447-b406-4ae8-9f5f-1d308d6f2e26",
      "metadata": {
        "id": "e03f4447-b406-4ae8-9f5f-1d308d6f2e26"
      },
      "source": [
        "### Exercise 1: Modify the Test Set Size\n",
        "\n",
        "- Change the test set size to 30% of the total data and evaluate the model's performance.\n",
        "- Change the test set size to 20% of the total data and evaluate the model's performance."
      ]
    },
    {
      "cell_type": "code",
      "source": [
        "import numpy as np\n",
        "import pandas as pd\n",
        "import matplotlib.pyplot as plt\n",
        "from sklearn.datasets import load_iris\n",
        "from sklearn.model_selection import train_test_split, GridSearchCV\n",
        "from sklearn.tree import DecisionTreeClassifier\n",
        "from sklearn.ensemble import RandomForestClassifier\n",
        "from sklearn.linear_model import LogisticRegression\n",
        "from sklearn.metrics import accuracy_score, classification_report\n",
        "\n",
        "data = load_iris()\n",
        "X = data.data\n",
        "y = data.target\n",
        "\n",
        "def evaluate_model(model, test_size):\n",
        "    X_train, X_test, y_train, y_test = train_test_split(X, y, test_size=test_size, random_state=42)\n",
        "    model.fit(X_train, y_train)\n",
        "    y_pred = model.predict(X_test)\n",
        "    accuracy = accuracy_score(y_test, y_pred)\n",
        "    report = classification_report(y_test, y_pred)\n",
        "\n",
        "    print(f\"Test Size: {test_size*100}%\")\n",
        "    print(f\"Accuracy: {accuracy}\")\n",
        "    print(report)\n",
        "    return accuracy\n",
        "\n",
        "def plot_results(results):\n",
        "    sizes = [result['test_size'] for result in results]\n",
        "    accuracies = [result['accuracy'] for result in results]\n",
        "\n",
        "    plt.figure(figsize=(8, 5))\n",
        "    plt.plot(sizes, accuracies, marker='o')\n",
        "    plt.title('Performance du Modèle selon la Taille du Jeu de Test')\n",
        "    plt.xlabel('Taille du Jeu de Test (%)')\n",
        "    plt.ylabel('Précision')\n",
        "    plt.xticks(sizes, [f\"{size*100}%\" for size in sizes])\n",
        "    plt.grid()\n",
        "    plt.show()\n",
        "\n",
        "results = []\n",
        "\n",
        "models = {\n",
        "    'Decision Tree': DecisionTreeClassifier(),\n",
        "    'Random Forest': RandomForestClassifier(),\n",
        "    'Logistic Regression': LogisticRegression(max_iter=200)\n",
        "}\n",
        "\n",
        "for model_name, model in models.items():\n",
        "    print(f\"Evaluating {model_name} with 30% test size:\")\n",
        "    accuracy_30 = evaluate_model(model, 0.3)\n",
        "    results.append({'test_size': 0.3, 'accuracy': accuracy_30})\n",
        "\n",
        "    print(f\"Evaluating {model_name} with 20% test size:\")\n",
        "    accuracy_20 = evaluate_model(model, 0.2)\n",
        "    results.append({'test_size': 0.2, 'accuracy': accuracy_20})\n",
        "\n",
        "plot_results(results)\n",
        "\n",
        "# Hyperparameter tuning for Decision Tree\n",
        "param_grid = {\n",
        "    'max_depth': [None, 10, 20, 30],\n",
        "    'min_samples_split': [2, 5, 10]\n",
        "}\n",
        "\n",
        "X_train, X_test, y_train, y_test = train_test_split(X, y, test_size=0.3, random_state=42)\n",
        "grid_search = GridSearchCV(DecisionTreeClassifier(), param_grid, cv=5)\n",
        "grid_search.fit(X_train, y_train)\n",
        "\n",
        "print(\"Best parameters for Decision Tree:\", grid_search.best_params_)\n"
      ],
      "metadata": {
        "colab": {
          "base_uri": "https://localhost:8080/",
          "height": 1000
        },
        "id": "6hoEid8Lpp0_",
        "outputId": "5f709917-ba66-478f-bfe8-78733ae365f8"
      },
      "id": "6hoEid8Lpp0_",
      "execution_count": 5,
      "outputs": [
        {
          "output_type": "stream",
          "name": "stdout",
          "text": [
            "Evaluating Decision Tree with 30% test size:\n",
            "Test Size: 30.0%\n",
            "Accuracy: 1.0\n",
            "              precision    recall  f1-score   support\n",
            "\n",
            "           0       1.00      1.00      1.00        19\n",
            "           1       1.00      1.00      1.00        13\n",
            "           2       1.00      1.00      1.00        13\n",
            "\n",
            "    accuracy                           1.00        45\n",
            "   macro avg       1.00      1.00      1.00        45\n",
            "weighted avg       1.00      1.00      1.00        45\n",
            "\n",
            "Evaluating Decision Tree with 20% test size:\n",
            "Test Size: 20.0%\n",
            "Accuracy: 1.0\n",
            "              precision    recall  f1-score   support\n",
            "\n",
            "           0       1.00      1.00      1.00        10\n",
            "           1       1.00      1.00      1.00         9\n",
            "           2       1.00      1.00      1.00        11\n",
            "\n",
            "    accuracy                           1.00        30\n",
            "   macro avg       1.00      1.00      1.00        30\n",
            "weighted avg       1.00      1.00      1.00        30\n",
            "\n",
            "Evaluating Random Forest with 30% test size:\n",
            "Test Size: 30.0%\n",
            "Accuracy: 1.0\n",
            "              precision    recall  f1-score   support\n",
            "\n",
            "           0       1.00      1.00      1.00        19\n",
            "           1       1.00      1.00      1.00        13\n",
            "           2       1.00      1.00      1.00        13\n",
            "\n",
            "    accuracy                           1.00        45\n",
            "   macro avg       1.00      1.00      1.00        45\n",
            "weighted avg       1.00      1.00      1.00        45\n",
            "\n",
            "Evaluating Random Forest with 20% test size:\n",
            "Test Size: 20.0%\n",
            "Accuracy: 1.0\n",
            "              precision    recall  f1-score   support\n",
            "\n",
            "           0       1.00      1.00      1.00        10\n",
            "           1       1.00      1.00      1.00         9\n",
            "           2       1.00      1.00      1.00        11\n",
            "\n",
            "    accuracy                           1.00        30\n",
            "   macro avg       1.00      1.00      1.00        30\n",
            "weighted avg       1.00      1.00      1.00        30\n",
            "\n",
            "Evaluating Logistic Regression with 30% test size:\n",
            "Test Size: 30.0%\n",
            "Accuracy: 1.0\n",
            "              precision    recall  f1-score   support\n",
            "\n",
            "           0       1.00      1.00      1.00        19\n",
            "           1       1.00      1.00      1.00        13\n",
            "           2       1.00      1.00      1.00        13\n",
            "\n",
            "    accuracy                           1.00        45\n",
            "   macro avg       1.00      1.00      1.00        45\n",
            "weighted avg       1.00      1.00      1.00        45\n",
            "\n",
            "Evaluating Logistic Regression with 20% test size:\n",
            "Test Size: 20.0%\n",
            "Accuracy: 1.0\n",
            "              precision    recall  f1-score   support\n",
            "\n",
            "           0       1.00      1.00      1.00        10\n",
            "           1       1.00      1.00      1.00         9\n",
            "           2       1.00      1.00      1.00        11\n",
            "\n",
            "    accuracy                           1.00        30\n",
            "   macro avg       1.00      1.00      1.00        30\n",
            "weighted avg       1.00      1.00      1.00        30\n",
            "\n"
          ]
        },
        {
          "output_type": "display_data",
          "data": {
            "text/plain": [
              "<Figure size 800x500 with 1 Axes>"
            ],
            "image/png": "[encoded data removed]"
          },
          "metadata": {}
        },
        {
          "output_type": "stream",
          "name": "stdout",
          "text": [
            "Best parameters for Decision Tree: {'max_depth': None, 'min_samples_split': 10}\n"
          ]
        }
      ]
    },
    {
      "cell_type": "markdown",
      "id": "0384286f-b53b-406e-af92-a98957b54bcd",
      "metadata": {
        "id": "0384286f-b53b-406e-af92-a98957b54bcd"
      },
      "source": [
        "### Exercise 2: Change the `random_state` Parameter\n",
        "\n",
        "- Change the `random_state` parameter to 42 and observe the results.\n",
        "- Change the `random_state` parameter to 1 and observe the results."
      ]
    },
    {
      "cell_type": "code",
      "source": [
        "import numpy as np\n",
        "import pandas as pd\n",
        "import matplotlib.pyplot as plt\n",
        "from sklearn.datasets import load_iris\n",
        "from sklearn.model_selection import train_test_split\n",
        "from sklearn.tree import DecisionTreeClassifier\n",
        "from sklearn.ensemble import RandomForestClassifier\n",
        "from sklearn.linear_model import LogisticRegression\n",
        "from sklearn.metrics import accuracy_score, classification_report\n",
        "\n",
        "data = load_iris()\n",
        "X = data.data\n",
        "y = data.target\n",
        "\n",
        "def evaluate_model(model, test_size, random_state):\n",
        "    X_train, X_test, y_train, y_test = train_test_split(X, y, test_size=test_size, random_state=random_state)\n",
        "    model.fit(X_train, y_train)\n",
        "    y_pred = model.predict(X_test)\n",
        "    accuracy = accuracy_score(y_test, y_pred)\n",
        "    report = classification_report(y_test, y_pred)\n",
        "\n",
        "    print(f\"Test Size: {test_size*100}%, Random State: {random_state}\")\n",
        "    print(f\"Accuracy: {accuracy}\")\n",
        "    print(report)\n",
        "    return accuracy\n",
        "\n",
        "results = []\n",
        "\n",
        "models = {\n",
        "    'Decision Tree': DecisionTreeClassifier(),\n",
        "    'Random Forest': RandomForestClassifier(),\n",
        "    'Logistic Regression': LogisticRegression(max_iter=200)\n",
        "}\n",
        "\n",
        "for random_state in [42, 1]:\n",
        "    for model_name, model in models.items():\n",
        "        print(f\"Evaluating {model_name} with 30% test size:\")\n",
        "        accuracy_30 = evaluate_model(model, 0.3, random_state)\n",
        "        results.append({'test_size': 0.3, 'random_state': random_state, 'accuracy': accuracy_30})\n",
        "\n",
        "        print(f\"Evaluating {model_name} with 20% test size:\")\n",
        "        accuracy_20 = evaluate_model(model, 0.2, random_state)\n",
        "        results.append({'test_size': 0.2, 'random_state': random_state, 'accuracy': accuracy_20})\n",
        "\n",
        "# Optionnel : Visualiser les résultats\n",
        "def plot_results(results):\n",
        "    sizes = [result['test_size'] for result in results]\n",
        "    accuracies = [result['accuracy'] for result in results]\n",
        "    random_states = [result['random_state'] for result in results]\n",
        "\n",
        "    plt.figure(figsize=(10, 6))\n",
        "    scatter = plt.scatter(sizes, accuracies, c=random_states, cmap='viridis', label=random_states)\n",
        "    plt.title('Performance du Modèle selon la Taille du Jeu de Test et Random State')\n",
        "    plt.xlabel('Taille du Jeu de Test (%)')\n",
        "    plt.ylabel('Précision')\n",
        "    plt.xticks(sizes, [f\"{size*100}%\" for size in sizes])\n",
        "    plt.colorbar(scatter, label='Random State')\n",
        "    plt.grid()\n",
        "    plt.show()\n",
        "\n",
        "plot_results(results)\n"
      ],
      "metadata": {
        "colab": {
          "base_uri": "https://localhost:8080/",
          "height": 1000
        },
        "id": "EySfFthiwLau",
        "outputId": "d1c2cf03-193f-4920-90ab-dd6fc7a16a2c"
      },
      "id": "EySfFthiwLau",
      "execution_count": 6,
      "outputs": [
        {
          "output_type": "stream",
          "name": "stdout",
          "text": [
            "Evaluating Decision Tree with 30% test size:\n",
            "Test Size: 30.0%, Random State: 42\n",
            "Accuracy: 1.0\n",
            "              precision    recall  f1-score   support\n",
            "\n",
            "           0       1.00      1.00      1.00        19\n",
            "           1       1.00      1.00      1.00        13\n",
            "           2       1.00      1.00      1.00        13\n",
            "\n",
            "    accuracy                           1.00        45\n",
            "   macro avg       1.00      1.00      1.00        45\n",
            "weighted avg       1.00      1.00      1.00        45\n",
            "\n",
            "Evaluating Decision Tree with 20% test size:\n",
            "Test Size: 20.0%, Random State: 42\n",
            "Accuracy: 1.0\n",
            "              precision    recall  f1-score   support\n",
            "\n",
            "           0       1.00      1.00      1.00        10\n",
            "           1       1.00      1.00      1.00         9\n",
            "           2       1.00      1.00      1.00        11\n",
            "\n",
            "    accuracy                           1.00        30\n",
            "   macro avg       1.00      1.00      1.00        30\n",
            "weighted avg       1.00      1.00      1.00        30\n",
            "\n",
            "Evaluating Random Forest with 30% test size:\n",
            "Test Size: 30.0%, Random State: 42\n",
            "Accuracy: 1.0\n",
            "              precision    recall  f1-score   support\n",
            "\n",
            "           0       1.00      1.00      1.00        19\n",
            "           1       1.00      1.00      1.00        13\n",
            "           2       1.00      1.00      1.00        13\n",
            "\n",
            "    accuracy                           1.00        45\n",
            "   macro avg       1.00      1.00      1.00        45\n",
            "weighted avg       1.00      1.00      1.00        45\n",
            "\n",
            "Evaluating Random Forest with 20% test size:\n",
            "Test Size: 20.0%, Random State: 42\n",
            "Accuracy: 1.0\n",
            "              precision    recall  f1-score   support\n",
            "\n",
            "           0       1.00      1.00      1.00        10\n",
            "           1       1.00      1.00      1.00         9\n",
            "           2       1.00      1.00      1.00        11\n",
            "\n",
            "    accuracy                           1.00        30\n",
            "   macro avg       1.00      1.00      1.00        30\n",
            "weighted avg       1.00      1.00      1.00        30\n",
            "\n",
            "Evaluating Logistic Regression with 30% test size:\n",
            "Test Size: 30.0%, Random State: 42\n",
            "Accuracy: 1.0\n",
            "              precision    recall  f1-score   support\n",
            "\n",
            "           0       1.00      1.00      1.00        19\n",
            "           1       1.00      1.00      1.00        13\n",
            "           2       1.00      1.00      1.00        13\n",
            "\n",
            "    accuracy                           1.00        45\n",
            "   macro avg       1.00      1.00      1.00        45\n",
            "weighted avg       1.00      1.00      1.00        45\n",
            "\n",
            "Evaluating Logistic Regression with 20% test size:\n",
            "Test Size: 20.0%, Random State: 42\n",
            "Accuracy: 1.0\n",
            "              precision    recall  f1-score   support\n",
            "\n",
            "           0       1.00      1.00      1.00        10\n",
            "           1       1.00      1.00      1.00         9\n",
            "           2       1.00      1.00      1.00        11\n",
            "\n",
            "    accuracy                           1.00        30\n",
            "   macro avg       1.00      1.00      1.00        30\n",
            "weighted avg       1.00      1.00      1.00        30\n",
            "\n",
            "Evaluating Decision Tree with 30% test size:\n",
            "Test Size: 30.0%, Random State: 1\n",
            "Accuracy: 0.9555555555555556\n",
            "              precision    recall  f1-score   support\n",
            "\n",
            "           0       1.00      1.00      1.00        14\n",
            "           1       0.94      0.94      0.94        18\n",
            "           2       0.92      0.92      0.92        13\n",
            "\n",
            "    accuracy                           0.96        45\n",
            "   macro avg       0.96      0.96      0.96        45\n",
            "weighted avg       0.96      0.96      0.96        45\n",
            "\n",
            "Evaluating Decision Tree with 20% test size:\n",
            "Test Size: 20.0%, Random State: 1\n",
            "Accuracy: 0.9666666666666667\n",
            "              precision    recall  f1-score   support\n",
            "\n",
            "           0       1.00      1.00      1.00        11\n",
            "           1       1.00      0.92      0.96        13\n",
            "           2       0.86      1.00      0.92         6\n",
            "\n",
            "    accuracy                           0.97        30\n",
            "   macro avg       0.95      0.97      0.96        30\n",
            "weighted avg       0.97      0.97      0.97        30\n",
            "\n",
            "Evaluating Random Forest with 30% test size:\n",
            "Test Size: 30.0%, Random State: 1\n",
            "Accuracy: 0.9555555555555556\n",
            "              precision    recall  f1-score   support\n",
            "\n",
            "           0       1.00      1.00      1.00        14\n",
            "           1       0.94      0.94      0.94        18\n",
            "           2       0.92      0.92      0.92        13\n",
            "\n",
            "    accuracy                           0.96        45\n",
            "   macro avg       0.96      0.96      0.96        45\n",
            "weighted avg       0.96      0.96      0.96        45\n",
            "\n",
            "Evaluating Random Forest with 20% test size:\n",
            "Test Size: 20.0%, Random State: 1\n",
            "Accuracy: 0.9666666666666667\n",
            "              precision    recall  f1-score   support\n",
            "\n",
            "           0       1.00      1.00      1.00        11\n",
            "           1       1.00      0.92      0.96        13\n",
            "           2       0.86      1.00      0.92         6\n",
            "\n",
            "    accuracy                           0.97        30\n",
            "   macro avg       0.95      0.97      0.96        30\n",
            "weighted avg       0.97      0.97      0.97        30\n",
            "\n",
            "Evaluating Logistic Regression with 30% test size:\n",
            "Test Size: 30.0%, Random State: 1\n",
            "Accuracy: 0.9777777777777777\n",
            "              precision    recall  f1-score   support\n",
            "\n",
            "           0       1.00      1.00      1.00        14\n",
            "           1       1.00      0.94      0.97        18\n",
            "           2       0.93      1.00      0.96        13\n",
            "\n",
            "    accuracy                           0.98        45\n",
            "   macro avg       0.98      0.98      0.98        45\n",
            "weighted avg       0.98      0.98      0.98        45\n",
            "\n",
            "Evaluating Logistic Regression with 20% test size:\n",
            "Test Size: 20.0%, Random State: 1\n",
            "Accuracy: 0.9666666666666667\n",
            "              precision    recall  f1-score   support\n",
            "\n",
            "           0       1.00      1.00      1.00        11\n",
            "           1       1.00      0.92      0.96        13\n",
            "           2       0.86      1.00      0.92         6\n",
            "\n",
            "    accuracy                           0.97        30\n",
            "   macro avg       0.95      0.97      0.96        30\n",
            "weighted avg       0.97      0.97      0.97        30\n",
            "\n"
          ]
        },
        {
          "output_type": "display_data",
          "data": {
            "text/plain": [
              "<Figure size 1000x600 with 2 Axes>"
            ],
            "image/png": "[encoded data removed]"
          },
          "metadata": {}
        }
      ]
    },
    {
      "cell_type": "markdown",
      "id": "5a3139e3-6766-4a8d-a93a-9fca61846bb3",
      "metadata": {
        "id": "5a3139e3-6766-4a8d-a93a-9fca61846bb3"
      },
      "source": [
        "### Exercise 3: Experiment with Data Scaling\n",
        "\n",
        "- Use `MinMaxScaler` instead of `StandardScaler` and evaluate the model's performance.\n",
        "- Compare the results of `MinMaxScaler` and `StandardScaler`."
      ]
    },
    {
      "cell_type": "code",
      "source": [
        "import numpy as np\n",
        "import pandas as pd\n",
        "import matplotlib.pyplot as plt\n",
        "from sklearn.datasets import load_iris\n",
        "from sklearn.model_selection import train_test_split\n",
        "from sklearn.tree import DecisionTreeClassifier\n",
        "from sklearn.ensemble import RandomForestClassifier\n",
        "from sklearn.linear_model import LogisticRegression\n",
        "from sklearn.metrics import accuracy_score, classification_report\n",
        "from sklearn.preprocessing import MinMaxScaler, StandardScaler\n",
        "\n",
        "data = load_iris()\n",
        "X = data.data\n",
        "y = data.target\n",
        "\n",
        "def evaluate_model(model, X_train, X_test, y_train, y_test):\n",
        "    model.fit(X_train, y_train)\n",
        "    y_pred = model.predict(X_test)\n",
        "    accuracy = accuracy_score(y_test, y_pred)\n",
        "    report = classification_report(y_test, y_pred)\n",
        "\n",
        "    return accuracy, report\n",
        "\n",
        "scalers = {\n",
        "    'MinMaxScaler': MinMaxScaler(),\n",
        "    'StandardScaler': StandardScaler()\n",
        "}\n",
        "\n",
        "results = []\n",
        "\n",
        "for scaler_name, scaler in scalers.items():\n",
        "    X_scaled = scaler.fit_transform(X)\n",
        "\n",
        "    for random_state in [42, 1]:\n",
        "        X_train, X_test, y_train, y_test = train_test_split(X_scaled, y, test_size=0.3, random_state=random_state)\n",
        "\n",
        "        for model_name, model in {\n",
        "            'Decision Tree': DecisionTreeClassifier(),\n",
        "            'Random Forest': RandomForestClassifier(),\n",
        "            'Logistic Regression': LogisticRegression(max_iter=200)\n",
        "        }.items():\n",
        "            accuracy, report = evaluate_model(model, X_train, X_test, y_train, y_test)\n",
        "            results.append({\n",
        "                'scaler': scaler_name,\n",
        "                'random_state': random_state,\n",
        "                'model': model_name,\n",
        "                'accuracy': accuracy,\n",
        "                'report': report\n",
        "            })\n",
        "\n",
        "# Afficher les résultats\n",
        "for result in results:\n",
        "    print(f\"Scaler: {result['scaler']}, Random State: {result['random_state']}, Model: {result['model']}, Accuracy: {result['accuracy']}\")\n",
        "    print(result['report'])\n",
        "\n",
        "# Optionnel : Visualiser les résultats\n",
        "def plot_results(results):\n",
        "    scalers = [result['scaler'] for result in results]\n",
        "    accuracies = [result['accuracy'] for result in results]\n",
        "\n",
        "    plt.figure(figsize=(10, 6))\n",
        "    plt.barh(range(len(accuracies)), accuracies, color=['blue' if s == 'MinMaxScaler' else 'orange' for s in scalers])\n",
        "    plt.yticks(range(len(accuracies)), [f\"{result['model']} (Random State: {result['random_state']})\" for result in results])\n",
        "    plt.xlabel('Accuracy')\n",
        "    plt.title('Comparison of Scalers')\n",
        "    plt.show()\n",
        "\n",
        "plot_results(results)\n"
      ],
      "metadata": {
        "colab": {
          "base_uri": "https://localhost:8080/",
          "height": 1000
        },
        "id": "gBdi37cewi_I",
        "outputId": "8bf126bc-f50b-4ed7-c0f9-b7be6ebf59c2"
      },
      "id": "gBdi37cewi_I",
      "execution_count": 7,
      "outputs": [
        {
          "output_type": "stream",
          "name": "stdout",
          "text": [
            "Scaler: MinMaxScaler, Random State: 42, Model: Decision Tree, Accuracy: 1.0\n",
            "              precision    recall  f1-score   support\n",
            "\n",
            "           0       1.00      1.00      1.00        19\n",
            "           1       1.00      1.00      1.00        13\n",
            "           2       1.00      1.00      1.00        13\n",
            "\n",
            "    accuracy                           1.00        45\n",
            "   macro avg       1.00      1.00      1.00        45\n",
            "weighted avg       1.00      1.00      1.00        45\n",
            "\n",
            "Scaler: MinMaxScaler, Random State: 42, Model: Random Forest, Accuracy: 1.0\n",
            "              precision    recall  f1-score   support\n",
            "\n",
            "           0       1.00      1.00      1.00        19\n",
            "           1       1.00      1.00      1.00        13\n",
            "           2       1.00      1.00      1.00        13\n",
            "\n",
            "    accuracy                           1.00        45\n",
            "   macro avg       1.00      1.00      1.00        45\n",
            "weighted avg       1.00      1.00      1.00        45\n",
            "\n",
            "Scaler: MinMaxScaler, Random State: 42, Model: Logistic Regression, Accuracy: 0.9111111111111111\n",
            "              precision    recall  f1-score   support\n",
            "\n",
            "           0       1.00      1.00      1.00        19\n",
            "           1       1.00      0.69      0.82        13\n",
            "           2       0.76      1.00      0.87        13\n",
            "\n",
            "    accuracy                           0.91        45\n",
            "   macro avg       0.92      0.90      0.89        45\n",
            "weighted avg       0.93      0.91      0.91        45\n",
            "\n",
            "Scaler: MinMaxScaler, Random State: 1, Model: Decision Tree, Accuracy: 0.9555555555555556\n",
            "              precision    recall  f1-score   support\n",
            "\n",
            "           0       1.00      1.00      1.00        14\n",
            "           1       0.94      0.94      0.94        18\n",
            "           2       0.92      0.92      0.92        13\n",
            "\n",
            "    accuracy                           0.96        45\n",
            "   macro avg       0.96      0.96      0.96        45\n",
            "weighted avg       0.96      0.96      0.96        45\n",
            "\n",
            "Scaler: MinMaxScaler, Random State: 1, Model: Random Forest, Accuracy: 0.9555555555555556\n",
            "              precision    recall  f1-score   support\n",
            "\n",
            "           0       1.00      1.00      1.00        14\n",
            "           1       0.94      0.94      0.94        18\n",
            "           2       0.92      0.92      0.92        13\n",
            "\n",
            "    accuracy                           0.96        45\n",
            "   macro avg       0.96      0.96      0.96        45\n",
            "weighted avg       0.96      0.96      0.96        45\n",
            "\n",
            "Scaler: MinMaxScaler, Random State: 1, Model: Logistic Regression, Accuracy: 0.9111111111111111\n",
            "              precision    recall  f1-score   support\n",
            "\n",
            "           0       1.00      1.00      1.00        14\n",
            "           1       0.94      0.83      0.88        18\n",
            "           2       0.80      0.92      0.86        13\n",
            "\n",
            "    accuracy                           0.91        45\n",
            "   macro avg       0.91      0.92      0.91        45\n",
            "weighted avg       0.92      0.91      0.91        45\n",
            "\n",
            "Scaler: StandardScaler, Random State: 42, Model: Decision Tree, Accuracy: 1.0\n",
            "              precision    recall  f1-score   support\n",
            "\n",
            "           0       1.00      1.00      1.00        19\n",
            "           1       1.00      1.00      1.00        13\n",
            "           2       1.00      1.00      1.00        13\n",
            "\n",
            "    accuracy                           1.00        45\n",
            "   macro avg       1.00      1.00      1.00        45\n",
            "weighted avg       1.00      1.00      1.00        45\n",
            "\n",
            "Scaler: StandardScaler, Random State: 42, Model: Random Forest, Accuracy: 1.0\n",
            "              precision    recall  f1-score   support\n",
            "\n",
            "           0       1.00      1.00      1.00        19\n",
            "           1       1.00      1.00      1.00        13\n",
            "           2       1.00      1.00      1.00        13\n",
            "\n",
            "    accuracy                           1.00        45\n",
            "   macro avg       1.00      1.00      1.00        45\n",
            "weighted avg       1.00      1.00      1.00        45\n",
            "\n",
            "Scaler: StandardScaler, Random State: 42, Model: Logistic Regression, Accuracy: 1.0\n",
            "              precision    recall  f1-score   support\n",
            "\n",
            "           0       1.00      1.00      1.00        19\n",
            "           1       1.00      1.00      1.00        13\n",
            "           2       1.00      1.00      1.00        13\n",
            "\n",
            "    accuracy                           1.00        45\n",
            "   macro avg       1.00      1.00      1.00        45\n",
            "weighted avg       1.00      1.00      1.00        45\n",
            "\n",
            "Scaler: StandardScaler, Random State: 1, Model: Decision Tree, Accuracy: 0.9555555555555556\n",
            "              precision    recall  f1-score   support\n",
            "\n",
            "           0       1.00      1.00      1.00        14\n",
            "           1       0.94      0.94      0.94        18\n",
            "           2       0.92      0.92      0.92        13\n",
            "\n",
            "    accuracy                           0.96        45\n",
            "   macro avg       0.96      0.96      0.96        45\n",
            "weighted avg       0.96      0.96      0.96        45\n",
            "\n",
            "Scaler: StandardScaler, Random State: 1, Model: Random Forest, Accuracy: 0.9555555555555556\n",
            "              precision    recall  f1-score   support\n",
            "\n",
            "           0       1.00      1.00      1.00        14\n",
            "           1       0.94      0.94      0.94        18\n",
            "           2       0.92      0.92      0.92        13\n",
            "\n",
            "    accuracy                           0.96        45\n",
            "   macro avg       0.96      0.96      0.96        45\n",
            "weighted avg       0.96      0.96      0.96        45\n",
            "\n",
            "Scaler: StandardScaler, Random State: 1, Model: Logistic Regression, Accuracy: 0.9555555555555556\n",
            "              precision    recall  f1-score   support\n",
            "\n",
            "           0       1.00      1.00      1.00        14\n",
            "           1       0.94      0.94      0.94        18\n",
            "           2       0.92      0.92      0.92        13\n",
            "\n",
            "    accuracy                           0.96        45\n",
            "   macro avg       0.96      0.96      0.96        45\n",
            "weighted avg       0.96      0.96      0.96        45\n",
            "\n"
          ]
        },
        {
          "output_type": "display_data",
          "data": {
            "text/plain": [
              "<Figure size 1000x600 with 1 Axes>"
            ],
            "image/png": "[encoded data removed]"
          },
          "metadata": {}
        }
      ]
    },
    {
      "cell_type": "markdown",
      "id": "403161d2-7f81-4630-91d8-b2a3e9bf3f51",
      "metadata": {
        "id": "403161d2-7f81-4630-91d8-b2a3e9bf3f51"
      },
      "source": [
        "### Exercise 4: Change Logistic Regression Parameters\n",
        "\n",
        "- Change the `solver` parameter to 'liblinear' and evaluate the model's performance.\n",
        "- Change the `penalty` parameter to 'l1' with the solver 'liblinear' and evaluate the model's performance."
      ]
    },
    {
      "cell_type": "code",
      "source": [
        "import numpy as np\n",
        "import pandas as pd\n",
        "import matplotlib.pyplot as plt\n",
        "from sklearn.datasets import load_iris\n",
        "from sklearn.model_selection import train_test_split\n",
        "from sklearn.tree import DecisionTreeClassifier\n",
        "from sklearn.ensemble import RandomForestClassifier\n",
        "from sklearn.linear_model import LogisticRegression\n",
        "from sklearn.metrics import accuracy_score, classification_report\n",
        "from sklearn.preprocessing import MinMaxScaler, StandardScaler\n",
        "\n",
        "data = load_iris()\n",
        "X = data.data\n",
        "y = data.target\n",
        "\n",
        "def evaluate_model(model, X_train, X_test, y_train, y_test):\n",
        "    model.fit(X_train, y_train)\n",
        "    y_pred = model.predict(X_test)\n",
        "    accuracy = accuracy_score(y_test, y_pred)\n",
        "    report = classification_report(y_test, y_pred)\n",
        "\n",
        "    return accuracy, report\n",
        "\n",
        "# Normalisation des données avec MinMaxScaler\n",
        "scaler = MinMaxScaler()\n",
        "X_scaled = scaler.fit_transform(X)\n",
        "\n",
        "results = []\n",
        "\n",
        "# Évaluation avec solver='liblinear'\n",
        "logistic_model_liblinear = LogisticRegression(solver='liblinear', max_iter=200)\n",
        "for random_state in [42, 1]:\n",
        "    X_train, X_test, y_train, y_test = train_test_split(X_scaled, y, test_size=0.3, random_state=random_state)\n",
        "    accuracy, report = evaluate_model(logistic_model_liblinear, X_train, X_test, y_train, y_test)\n",
        "    results.append({\n",
        "        'solver': 'liblinear',\n",
        "        'random_state': random_state,\n",
        "        'model': 'Logistic Regression',\n",
        "        'accuracy': accuracy,\n",
        "        'report': report\n",
        "    })\n",
        "\n",
        "# Évaluation avec solver='liblinear' et penalty='l1'\n",
        "logistic_model_liblinear_l1 = LogisticRegression(solver='liblinear', penalty='l1', max_iter=200)\n",
        "for random_state in [42, 1]:\n",
        "    X_train, X_test, y_train, y_test = train_test_split(X_scaled, y, test_size=0.3, random_state=random_state)\n",
        "    accuracy, report = evaluate_model(logistic_model_liblinear_l1, X_train, X_test, y_train, y_test)\n",
        "    results.append({\n",
        "        'solver': 'liblinear (l1)',\n",
        "        'random_state': random_state,\n",
        "        'model': 'Logistic Regression',\n",
        "        'accuracy': accuracy,\n",
        "        'report': report\n",
        "    })\n",
        "\n",
        "# Afficher les résultats\n",
        "for result in results:\n",
        "    print(f\"Solver: {result['solver']}, Random State: {result['random_state']}, Model: {result['model']}, Accuracy: {result['accuracy']}\")\n",
        "    print(result['report'])\n"
      ],
      "metadata": {
        "colab": {
          "base_uri": "https://localhost:8080/"
        },
        "id": "x0kvjgdFw0P_",
        "outputId": "6dcc5ded-5ab5-48dd-f93f-c412e71b8c91"
      },
      "id": "x0kvjgdFw0P_",
      "execution_count": 8,
      "outputs": [
        {
          "output_type": "stream",
          "name": "stdout",
          "text": [
            "Solver: liblinear, Random State: 42, Model: Logistic Regression, Accuracy: 0.8444444444444444\n",
            "              precision    recall  f1-score   support\n",
            "\n",
            "           0       1.00      1.00      1.00        19\n",
            "           1       1.00      0.46      0.63        13\n",
            "           2       0.65      1.00      0.79        13\n",
            "\n",
            "    accuracy                           0.84        45\n",
            "   macro avg       0.88      0.82      0.81        45\n",
            "weighted avg       0.90      0.84      0.83        45\n",
            "\n",
            "Solver: liblinear, Random State: 1, Model: Logistic Regression, Accuracy: 0.7333333333333333\n",
            "              precision    recall  f1-score   support\n",
            "\n",
            "           0       1.00      1.00      1.00        14\n",
            "           1       1.00      0.33      0.50        18\n",
            "           2       0.52      1.00      0.68        13\n",
            "\n",
            "    accuracy                           0.73        45\n",
            "   macro avg       0.84      0.78      0.73        45\n",
            "weighted avg       0.86      0.73      0.71        45\n",
            "\n",
            "Solver: liblinear (l1), Random State: 42, Model: Logistic Regression, Accuracy: 0.8666666666666667\n",
            "              precision    recall  f1-score   support\n",
            "\n",
            "           0       1.00      1.00      1.00        19\n",
            "           1       1.00      0.54      0.70        13\n",
            "           2       0.68      1.00      0.81        13\n",
            "\n",
            "    accuracy                           0.87        45\n",
            "   macro avg       0.89      0.85      0.84        45\n",
            "weighted avg       0.91      0.87      0.86        45\n",
            "\n",
            "Solver: liblinear (l1), Random State: 1, Model: Logistic Regression, Accuracy: 0.7777777777777778\n",
            "              precision    recall  f1-score   support\n",
            "\n",
            "           0       1.00      1.00      1.00        14\n",
            "           1       0.90      0.50      0.64        18\n",
            "           2       0.57      0.92      0.71        13\n",
            "\n",
            "    accuracy                           0.78        45\n",
            "   macro avg       0.82      0.81      0.78        45\n",
            "weighted avg       0.84      0.78      0.77        45\n",
            "\n"
          ]
        }
      ]
    },
    {
      "cell_type": "markdown",
      "id": "b92df45e-3886-400d-b036-5708bb072556",
      "metadata": {
        "id": "b92df45e-3886-400d-b036-5708bb072556"
      },
      "source": [
        "### Exercise 5: Change the Regularization Parameter `C`\n",
        "\n",
        "- Increase the regularization parameter `C` to 10 and evaluate the model's performance.\n",
        "- Decrease the regularization parameter `C` to 0.1 and evaluate the model's performance."
      ]
    },
    {
      "cell_type": "code",
      "source": [
        "import numpy as np\n",
        "import pandas as pd\n",
        "import matplotlib.pyplot as plt\n",
        "from sklearn.datasets import load_iris\n",
        "from sklearn.model_selection import train_test_split\n",
        "from sklearn.linear_model import LogisticRegression\n",
        "from sklearn.metrics import accuracy_score, classification_report\n",
        "from sklearn.preprocessing import MinMaxScaler\n",
        "\n",
        "data = load_iris()\n",
        "X = data.data\n",
        "y = data.target\n",
        "\n",
        "def evaluate_model(model, X_train, X_test, y_train, y_test):\n",
        "    model.fit(X_train, y_train)\n",
        "    y_pred = model.predict(X_test)\n",
        "    accuracy = accuracy_score(y_test, y_pred)\n",
        "    report = classification_report(y_test, y_pred)\n",
        "\n",
        "    return accuracy, report\n",
        "\n",
        "# Normalisation des données avec MinMaxScaler\n",
        "scaler = MinMaxScaler()\n",
        "X_scaled = scaler.fit_transform(X)\n",
        "\n",
        "results = []\n",
        "\n",
        "# Évaluation avec C=10\n",
        "logistic_model_C10 = LogisticRegression(solver='liblinear', C=10, max_iter=200)\n",
        "for random_state in [42, 1]:\n",
        "    X_train, X_test, y_train, y_test = train_test_split(X_scaled, y, test_size=0.3, random_state=random_state)\n",
        "    accuracy, report = evaluate_model(logistic_model_C10, X_train, X_test, y_train, y_test)\n",
        "    results.append({\n",
        "        'C': 10,\n",
        "        'random_state': random_state,\n",
        "        'model': 'Logistic Regression',\n",
        "        'accuracy': accuracy,\n",
        "        'report': report\n",
        "    })\n",
        "\n",
        "# Évaluation avec C=0.1\n",
        "logistic_model_C01 = LogisticRegression(solver='liblinear', C=0.1, max_iter=200)\n",
        "for random_state in [42, 1]:\n",
        "    X_train, X_test, y_train, y_test = train_test_split(X_scaled, y, test_size=0.3, random_state=random_state)\n",
        "    accuracy, report = evaluate_model(logistic_model_C01, X_train, X_test, y_train, y_test)\n",
        "    results.append({\n",
        "        'C': 0.1,\n",
        "        'random_state': random_state,\n",
        "        'model': 'Logistic Regression',\n",
        "        'accuracy': accuracy,\n",
        "        'report': report\n",
        "    })\n",
        "\n",
        "# Afficher les résultats\n",
        "for result in results:\n",
        "    print(f\"C: {result['C']}, Random State: {result['random_state']}, Model: {result['model']}, Accuracy: {result['accuracy']}\")\n",
        "    print(result['report'])\n"
      ],
      "metadata": {
        "colab": {
          "base_uri": "https://localhost:8080/"
        },
        "id": "ZUWMnVHPyetT",
        "outputId": "41f44669-5fd3-4d74-ebcd-e3eeff0caf4e"
      },
      "id": "ZUWMnVHPyetT",
      "execution_count": 9,
      "outputs": [
        {
          "output_type": "stream",
          "name": "stdout",
          "text": [
            "C: 10, Random State: 42, Model: Logistic Regression, Accuracy: 0.9111111111111111\n",
            "              precision    recall  f1-score   support\n",
            "\n",
            "           0       1.00      1.00      1.00        19\n",
            "           1       1.00      0.69      0.82        13\n",
            "           2       0.76      1.00      0.87        13\n",
            "\n",
            "    accuracy                           0.91        45\n",
            "   macro avg       0.92      0.90      0.89        45\n",
            "weighted avg       0.93      0.91      0.91        45\n",
            "\n",
            "C: 10, Random State: 1, Model: Logistic Regression, Accuracy: 0.8444444444444444\n",
            "              precision    recall  f1-score   support\n",
            "\n",
            "           0       1.00      1.00      1.00        14\n",
            "           1       0.92      0.67      0.77        18\n",
            "           2       0.67      0.92      0.77        13\n",
            "\n",
            "    accuracy                           0.84        45\n",
            "   macro avg       0.86      0.86      0.85        45\n",
            "weighted avg       0.87      0.84      0.84        45\n",
            "\n",
            "C: 0.1, Random State: 42, Model: Logistic Regression, Accuracy: 0.7111111111111111\n",
            "              precision    recall  f1-score   support\n",
            "\n",
            "           0       1.00      1.00      1.00        19\n",
            "           1       0.00      0.00      0.00        13\n",
            "           2       0.50      1.00      0.67        13\n",
            "\n",
            "    accuracy                           0.71        45\n",
            "   macro avg       0.50      0.67      0.56        45\n",
            "weighted avg       0.57      0.71      0.61        45\n",
            "\n",
            "C: 0.1, Random State: 1, Model: Logistic Regression, Accuracy: 0.6\n",
            "              precision    recall  f1-score   support\n",
            "\n",
            "           0       1.00      1.00      1.00        14\n",
            "           1       0.00      0.00      0.00        18\n",
            "           2       0.42      1.00      0.59        13\n",
            "\n",
            "    accuracy                           0.60        45\n",
            "   macro avg       0.47      0.67      0.53        45\n",
            "weighted avg       0.43      0.60      0.48        45\n",
            "\n"
          ]
        },
        {
          "output_type": "stream",
          "name": "stderr",
          "text": [
            "/usr/local/lib/python3.10/dist-packages/sklearn/metrics/_classification.py:1531: UndefinedMetricWarning: Precision is ill-defined and being set to 0.0 in labels with no predicted samples. Use `zero_division` parameter to control this behavior.\n",
            "  _warn_prf(average, modifier, f\"{metric.capitalize()} is\", len(result))\n",
            "/usr/local/lib/python3.10/dist-packages/sklearn/metrics/_classification.py:1531: UndefinedMetricWarning: Precision is ill-defined and being set to 0.0 in labels with no predicted samples. Use `zero_division` parameter to control this behavior.\n",
            "  _warn_prf(average, modifier, f\"{metric.capitalize()} is\", len(result))\n",
            "/usr/local/lib/python3.10/dist-packages/sklearn/metrics/_classification.py:1531: UndefinedMetricWarning: Precision is ill-defined and being set to 0.0 in labels with no predicted samples. Use `zero_division` parameter to control this behavior.\n",
            "  _warn_prf(average, modifier, f\"{metric.capitalize()} is\", len(result))\n",
            "/usr/local/lib/python3.10/dist-packages/sklearn/metrics/_classification.py:1531: UndefinedMetricWarning: Precision is ill-defined and being set to 0.0 in labels with no predicted samples. Use `zero_division` parameter to control this behavior.\n",
            "  _warn_prf(average, modifier, f\"{metric.capitalize()} is\", len(result))\n",
            "/usr/local/lib/python3.10/dist-packages/sklearn/metrics/_classification.py:1531: UndefinedMetricWarning: Precision is ill-defined and being set to 0.0 in labels with no predicted samples. Use `zero_division` parameter to control this behavior.\n",
            "  _warn_prf(average, modifier, f\"{metric.capitalize()} is\", len(result))\n",
            "/usr/local/lib/python3.10/dist-packages/sklearn/metrics/_classification.py:1531: UndefinedMetricWarning: Precision is ill-defined and being set to 0.0 in labels with no predicted samples. Use `zero_division` parameter to control this behavior.\n",
            "  _warn_prf(average, modifier, f\"{metric.capitalize()} is\", len(result))\n"
          ]
        }
      ]
    },
    {
      "cell_type": "markdown",
      "id": "1c85050f-7a3a-4916-88b2-ed719485fc0b",
      "metadata": {
        "id": "1c85050f-7a3a-4916-88b2-ed719485fc0b"
      },
      "source": [
        "### Exercise 6: Use Different Feature Sets\n",
        "\n",
        "- Use only the \"Age\" feature for training and evaluate the model's performance.\n",
        "- Use only the \"Estimated Salary\" feature for training and evaluate the model's performance."
      ]
    },
    {
      "cell_type": "code",
      "source": [
        "import numpy as np\n",
        "import pandas as pd\n",
        "import matplotlib.pyplot as plt\n",
        "from sklearn.datasets import load_iris\n",
        "from sklearn.model_selection import train_test_split\n",
        "from sklearn.linear_model import LogisticRegression\n",
        "from sklearn.metrics import accuracy_score, classification_report\n",
        "from sklearn.preprocessing import MinMaxScaler\n",
        "\n",
        "# Charger l'ensemble de données Iris\n",
        "data = load_iris()\n",
        "X = data.data\n",
        "y = data.target\n",
        "\n",
        "# Convertir en DataFrame pour une manipulation plus facile\n",
        "df = pd.DataFrame(X, columns=data.feature_names)\n",
        "df['target'] = y\n",
        "\n",
        "# Supposons que \"Age\" correspond à la première caractéristique et \"Estimated Salary\" à la deuxième\n",
        "# Pour cet exemple, nous allons utiliser les colonnes existantes comme substituts\n",
        "# Remplacer par les colonnes réelles si disponibles\n",
        "df['Age'] = df.iloc[:, 0]  # Remplacer par la colonne \"Age\"\n",
        "df['Estimated Salary'] = df.iloc[:, 1]  # Remplacer par la colonne \"Estimated Salary\"\n",
        "\n",
        "def evaluate_model(model, X_train, X_test, y_train, y_test):\n",
        "    model.fit(X_train, y_train)\n",
        "    y_pred = model.predict(X_test)\n",
        "    accuracy = accuracy_score(y_test, y_pred)\n",
        "    report = classification_report(y_test, y_pred)\n",
        "\n",
        "    return accuracy, report\n",
        "\n",
        "# Normalisation des données\n",
        "scaler = MinMaxScaler()\n",
        "\n",
        "# Utiliser uniquement la caractéristique \"Age\"\n",
        "X_age = df[['Age']].values\n",
        "X_age_scaled = scaler.fit_transform(X_age)\n",
        "\n",
        "results = []\n",
        "\n",
        "for random_state in [42, 1]:\n",
        "    X_train, X_test, y_train, y_test = train_test_split(X_age_scaled, y, test_size=0.3, random_state=random_state)\n",
        "    model = LogisticRegression(solver='liblinear', C=1, max_iter=200)\n",
        "    accuracy, report = evaluate_model(model, X_train, X_test, y_train, y_test)\n",
        "    results.append({\n",
        "        'feature': 'Age',\n",
        "        'random_state': random_state,\n",
        "        'accuracy': accuracy,\n",
        "        'report': report\n",
        "    })\n",
        "\n",
        "# Utiliser uniquement la caractéristique \"Estimated Salary\"\n",
        "X_salary = df[['Estimated Salary']].values\n",
        "X_salary_scaled = scaler.fit_transform(X_salary)\n",
        "\n",
        "for random_state in [42, 1]:\n",
        "    X_train, X_test, y_train, y_test = train_test_split(X_salary_scaled, y, test_size=0.3, random_state=random_state)\n",
        "    model = LogisticRegression(solver='liblinear', C=1, max_iter=200)\n",
        "    accuracy, report = evaluate_model(model, X_train, X_test, y_train, y_test)\n",
        "    results.append({\n",
        "        'feature': 'Estimated Salary',\n",
        "        'random_state': random_state,\n",
        "        'accuracy': accuracy,\n",
        "        'report': report\n",
        "    })\n",
        "\n",
        "# Afficher les résultats\n",
        "for result in results:\n",
        "    print(f\"Feature: {result['feature']}, Random State: {result['random_state']}, Accuracy: {result['accuracy']}\")\n",
        "    print(result['report'])\n"
      ],
      "metadata": {
        "colab": {
          "base_uri": "https://localhost:8080/"
        },
        "id": "e1tyVc7Ey6pJ",
        "outputId": "e94769a9-99da-46c4-a8e0-7af4bf818d81"
      },
      "id": "e1tyVc7Ey6pJ",
      "execution_count": 10,
      "outputs": [
        {
          "output_type": "stream",
          "name": "stdout",
          "text": [
            "Feature: Age, Random State: 42, Accuracy: 0.6444444444444445\n",
            "              precision    recall  f1-score   support\n",
            "\n",
            "           0       1.00      0.68      0.81        19\n",
            "           1       0.36      0.31      0.33        13\n",
            "           2       0.57      0.92      0.71        13\n",
            "\n",
            "    accuracy                           0.64        45\n",
            "   macro avg       0.65      0.64      0.62        45\n",
            "weighted avg       0.69      0.64      0.64        45\n",
            "\n",
            "Feature: Age, Random State: 1, Accuracy: 0.5777777777777777\n",
            "              precision    recall  f1-score   support\n",
            "\n",
            "           0       0.65      0.93      0.76        14\n",
            "           1       0.00      0.00      0.00        18\n",
            "           2       0.52      1.00      0.68        13\n",
            "\n",
            "    accuracy                           0.58        45\n",
            "   macro avg       0.39      0.64      0.48        45\n",
            "weighted avg       0.35      0.58      0.44        45\n",
            "\n",
            "Feature: Estimated Salary, Random State: 42, Accuracy: 0.6\n",
            "              precision    recall  f1-score   support\n",
            "\n",
            "           0       0.81      0.68      0.74        19\n",
            "           1       0.57      0.62      0.59        13\n",
            "           2       0.40      0.46      0.43        13\n",
            "\n",
            "    accuracy                           0.60        45\n",
            "   macro avg       0.59      0.59      0.59        45\n",
            "weighted avg       0.62      0.60      0.61        45\n",
            "\n",
            "Feature: Estimated Salary, Random State: 1, Accuracy: 0.5555555555555556\n",
            "              precision    recall  f1-score   support\n",
            "\n",
            "           0       0.70      1.00      0.82        14\n",
            "           1       0.62      0.28      0.38        18\n",
            "           2       0.35      0.46      0.40        13\n",
            "\n",
            "    accuracy                           0.56        45\n",
            "   macro avg       0.56      0.58      0.54        45\n",
            "weighted avg       0.57      0.56      0.53        45\n",
            "\n"
          ]
        },
        {
          "output_type": "stream",
          "name": "stderr",
          "text": [
            "/usr/local/lib/python3.10/dist-packages/sklearn/metrics/_classification.py:1531: UndefinedMetricWarning: Precision is ill-defined and being set to 0.0 in labels with no predicted samples. Use `zero_division` parameter to control this behavior.\n",
            "  _warn_prf(average, modifier, f\"{metric.capitalize()} is\", len(result))\n",
            "/usr/local/lib/python3.10/dist-packages/sklearn/metrics/_classification.py:1531: UndefinedMetricWarning: Precision is ill-defined and being set to 0.0 in labels with no predicted samples. Use `zero_division` parameter to control this behavior.\n",
            "  _warn_prf(average, modifier, f\"{metric.capitalize()} is\", len(result))\n",
            "/usr/local/lib/python3.10/dist-packages/sklearn/metrics/_classification.py:1531: UndefinedMetricWarning: Precision is ill-defined and being set to 0.0 in labels with no predicted samples. Use `zero_division` parameter to control this behavior.\n",
            "  _warn_prf(average, modifier, f\"{metric.capitalize()} is\", len(result))\n"
          ]
        }
      ]
    },
    {
      "cell_type": "markdown",
      "id": "70b8f420-a969-4f86-9b0f-766bb29ccdc1",
      "metadata": {
        "id": "70b8f420-a969-4f86-9b0f-766bb29ccdc1"
      },
      "source": [
        "### Exercise 7: Modify the Maximum Number of Iterations\n",
        "\n",
        "- Change the maximum number of iterations to 200 and evaluate the model's performance.\n",
        "- Change the maximum number of iterations to 50 and evaluate the model's performance."
      ]
    },
    {
      "cell_type": "code",
      "source": [
        "import numpy as np\n",
        "import pandas as pd\n",
        "import matplotlib.pyplot as plt\n",
        "from sklearn.datasets import load_iris\n",
        "from sklearn.model_selection import train_test_split\n",
        "from sklearn.linear_model import LogisticRegression\n",
        "from sklearn.metrics import accuracy_score, classification_report\n",
        "from sklearn.preprocessing import MinMaxScaler\n",
        "\n",
        "# Charger l'ensemble de données Iris\n",
        "data = load_iris()\n",
        "X = data.data\n",
        "y = data.target\n",
        "\n",
        "def evaluate_model(model, X_train, X_test, y_train, y_test):\n",
        "    model.fit(X_train, y_train)\n",
        "    y_pred = model.predict(X_test)\n",
        "    accuracy = accuracy_score(y_test, y_pred)\n",
        "    report = classification_report(y_test, y_pred)\n",
        "\n",
        "    return accuracy, report\n",
        "\n",
        "# Normalisation des données\n",
        "scaler = MinMaxScaler()\n",
        "X_scaled = scaler.fit_transform(X)\n",
        "\n",
        "results = []\n",
        "\n",
        "# Évaluation avec max_iter=200\n",
        "logistic_model_200 = LogisticRegression(solver='liblinear', C=1, max_iter=200)\n",
        "for random_state in [42, 1]:\n",
        "    X_train, X_test, y_train, y_test = train_test_split(X_scaled, y, test_size=0.3, random_state=random_state)\n",
        "    accuracy, report = evaluate_model(logistic_model_200, X_train, X_test, y_train, y_test)\n",
        "    results.append({\n",
        "        'max_iter': 200,\n",
        "        'random_state': random_state,\n",
        "        'accuracy': accuracy,\n",
        "        'report': report\n",
        "    })\n",
        "\n",
        "# Évaluation avec max_iter=50\n",
        "logistic_model_50 = LogisticRegression(solver='liblinear', C=1, max_iter=50)\n",
        "for random_state in [42, 1]:\n",
        "    X_train, X_test, y_train, y_test = train_test_split(X_scaled, y, test_size=0.3, random_state=random_state)\n",
        "    accuracy, report = evaluate_model(logistic_model_50, X_train, X_test, y_train, y_test)\n",
        "    results.append({\n",
        "        'max_iter': 50,\n",
        "        'random_state': random_state,\n",
        "        'accuracy': accuracy,\n",
        "        'report': report\n",
        "    })\n",
        "\n",
        "# Afficher les résultats\n",
        "for result in results:\n",
        "    print(f\"Max Iterations: {result['max_iter']}, Random State: {result['random_state']}, Accuracy: {result['accuracy']}\")\n",
        "    print(result['report'])\n"
      ],
      "metadata": {
        "colab": {
          "base_uri": "https://localhost:8080/"
        },
        "id": "6CB-fYydy9ea",
        "outputId": "69c34aff-c67a-4877-ff95-096dcd3d58b3"
      },
      "id": "6CB-fYydy9ea",
      "execution_count": 11,
      "outputs": [
        {
          "output_type": "stream",
          "name": "stdout",
          "text": [
            "Max Iterations: 200, Random State: 42, Accuracy: 0.8444444444444444\n",
            "              precision    recall  f1-score   support\n",
            "\n",
            "           0       1.00      1.00      1.00        19\n",
            "           1       1.00      0.46      0.63        13\n",
            "           2       0.65      1.00      0.79        13\n",
            "\n",
            "    accuracy                           0.84        45\n",
            "   macro avg       0.88      0.82      0.81        45\n",
            "weighted avg       0.90      0.84      0.83        45\n",
            "\n",
            "Max Iterations: 200, Random State: 1, Accuracy: 0.7333333333333333\n",
            "              precision    recall  f1-score   support\n",
            "\n",
            "           0       1.00      1.00      1.00        14\n",
            "           1       1.00      0.33      0.50        18\n",
            "           2       0.52      1.00      0.68        13\n",
            "\n",
            "    accuracy                           0.73        45\n",
            "   macro avg       0.84      0.78      0.73        45\n",
            "weighted avg       0.86      0.73      0.71        45\n",
            "\n",
            "Max Iterations: 50, Random State: 42, Accuracy: 0.8444444444444444\n",
            "              precision    recall  f1-score   support\n",
            "\n",
            "           0       1.00      1.00      1.00        19\n",
            "           1       1.00      0.46      0.63        13\n",
            "           2       0.65      1.00      0.79        13\n",
            "\n",
            "    accuracy                           0.84        45\n",
            "   macro avg       0.88      0.82      0.81        45\n",
            "weighted avg       0.90      0.84      0.83        45\n",
            "\n",
            "Max Iterations: 50, Random State: 1, Accuracy: 0.7333333333333333\n",
            "              precision    recall  f1-score   support\n",
            "\n",
            "           0       1.00      1.00      1.00        14\n",
            "           1       1.00      0.33      0.50        18\n",
            "           2       0.52      1.00      0.68        13\n",
            "\n",
            "    accuracy                           0.73        45\n",
            "   macro avg       0.84      0.78      0.73        45\n",
            "weighted avg       0.86      0.73      0.71        45\n",
            "\n"
          ]
        }
      ]
    },
    {
      "cell_type": "markdown",
      "id": "16aa3021-4036-40ac-b7de-b4aceacc3394",
      "metadata": {
        "id": "16aa3021-4036-40ac-b7de-b4aceacc3394"
      },
      "source": [
        "### Exercise 8: Visualize Different Decision Boundaries\n",
        "\n",
        "- Visualize the decision boundary for the training set with a different `random_state` of your choice.\n",
        "- Visualize the decision boundary for the test set with a different `random_state` of your choice."
      ]
    },
    {
      "cell_type": "code",
      "source": [
        "import numpy as np\n",
        "import pandas as pd\n",
        "import matplotlib.pyplot as plt\n",
        "from sklearn.datasets import load_iris\n",
        "from sklearn.model_selection import train_test_split\n",
        "from sklearn.linear_model import LogisticRegression\n",
        "from sklearn.preprocessing import MinMaxScaler\n",
        "\n",
        "# Charger l'ensemble de données Iris\n",
        "data = load_iris()\n",
        "X = data.data\n",
        "y = data.target\n",
        "\n",
        "# Convertir en DataFrame pour une manipulation plus facile\n",
        "df = pd.DataFrame(X, columns=data.feature_names)\n",
        "df['target'] = y\n",
        "\n",
        "# Supposons que \"Age\" correspond à la première caractéristique et \"Estimated Salary\" à la deuxième\n",
        "# Remplacer par les colonnes réelles si disponibles\n",
        "df['Age'] = df.iloc[:, 0]  # Remplacer par la colonne \"Age\"\n",
        "df['Estimated Salary'] = df.iloc[:, 1]  # Remplacer par la colonne \"Estimated Salary\"\n",
        "\n",
        "# Normalisation des données\n",
        "scaler = MinMaxScaler()\n",
        "X_scaled = scaler.fit_transform(df[['Age', 'Estimated Salary']])\n",
        "\n",
        "# Choisir un random_state\n",
        "random_state = 42\n",
        "\n",
        "# Diviser les données en ensembles d'entraînement et de test\n",
        "X_train, X_test, y_train, y_test = train_test_split(X_scaled, df['target'], test_size=0.3, random_state=random_state)\n",
        "\n",
        "# Entraîner le modèle\n",
        "model = LogisticRegression(solver='liblinear', C=1, max_iter=200)\n",
        "model.fit(X_train, y_train)\n",
        "\n",
        "# Fonction pour visualiser la frontière de décision\n",
        "def plot_decision_boundary(X, y, model, title):\n",
        "    x_min, x_max = X[:, 0].min() - 0.1, X[:, 0].max() + 0.1\n",
        "    y_min, y_max = X[:, 1].min() - 0.1, X[:, 1].max() + 0.1\n",
        "    xx, yy = np.meshgrid(np.arange(x_min, x_max, 0.01),\n",
        "                         np.arange(y_min, y_max, 0.01))\n",
        "\n",
        "    Z = model.predict(np.c_[xx.ravel(), yy.ravel()])\n",
        "    Z = Z.reshape(xx.shape)\n",
        "\n",
        "    plt.contourf(xx, yy, Z, alpha=0.3)\n",
        "    plt.scatter(X[:, 0], X[:, 1], c=y, edgecolors='k', marker='o')\n",
        "    plt.title(title)\n",
        "    plt.xlabel('Age')\n",
        "    plt.ylabel('Estimated Salary')\n",
        "    plt.show()\n",
        "\n",
        "# Visualiser la frontière de décision pour l'ensemble d'entraînement\n",
        "plot_decision_boundary(X_train, y_train, model, title='Decision Boundary for Training Set')\n",
        "\n",
        "# Visualiser la frontière de décision pour l'ensemble de test\n",
        "plot_decision_boundary(X_test, y_test, model, title='Decision Boundary for Test Set')\n"
      ],
      "metadata": {
        "colab": {
          "base_uri": "https://localhost:8080/",
          "height": 927
        },
        "id": "RvrCRwWszIbP",
        "outputId": "6fa1c0e3-0996-47ef-fe98-7da7ae62e567"
      },
      "id": "RvrCRwWszIbP",
      "execution_count": 12,
      "outputs": [
        {
          "output_type": "display_data",
          "data": {
            "text/plain": [
              "<Figure size 640x480 with 1 Axes>"
            ],
            "image/png": "[encoded data removed]"
          },
          "metadata": {}
        },
        {
          "output_type": "display_data",
          "data": {
            "text/plain": [
              "<Figure size 640x480 with 1 Axes>"
            ],
            "image/png": "[encoded data removed]"
          },
          "metadata": {}
        }
      ]
    },
    {
      "cell_type": "markdown",
      "id": "99f61659-09ce-4582-b8c7-8521d13a5f3f",
      "metadata": {
        "id": "99f61659-09ce-4582-b8c7-8521d13a5f3f"
      },
      "source": [
        "### Exercise 9: Evaluate Different Performance Metrics\n",
        "\n",
        "- Evaluate the model's performance using precision, recall, and F1-score instead of the confusion matrix.\n",
        "- Compare the precision, recall, and F1-score for different `solver` parameters."
      ]
    },
    {
      "cell_type": "code",
      "source": [
        "import numpy as np\n",
        "import pandas as pd\n",
        "import matplotlib.pyplot as plt\n",
        "from sklearn.datasets import load_iris\n",
        "from sklearn.model_selection import train_test_split\n",
        "from sklearn.linear_model import LogisticRegression\n",
        "from sklearn.metrics import precision_score, recall_score, f1_score, classification_report\n",
        "from sklearn.preprocessing import MinMaxScaler\n",
        "\n",
        "# Charger l'ensemble de données Iris\n",
        "data = load_iris()\n",
        "X = data.data\n",
        "y = data.target\n",
        "\n",
        "# Convertir en DataFrame pour une manipulation plus facile\n",
        "df = pd.DataFrame(X, columns=data.feature_names)\n",
        "df['target'] = y\n",
        "\n",
        "# Normalisation des données\n",
        "scaler = MinMaxScaler()\n",
        "X_scaled = scaler.fit_transform(df[['sepal length (cm)', 'sepal width (cm)']])  # Utilisation de deux caractéristiques pour la visualisation\n",
        "\n",
        "results = []\n",
        "\n",
        "# Évaluation avec différents solveurs\n",
        "solvers = ['liblinear', 'saga']\n",
        "\n",
        "for solver in solvers:\n",
        "    # Diviser les données en ensembles d'entraînement et de test\n",
        "    X_train, X_test, y_train, y_test = train_test_split(X_scaled, df['target'], test_size=0.3, random_state=42)\n",
        "\n",
        "    # Entraîner le modèle\n",
        "    model = LogisticRegression(solver=solver, C=1, max_iter=200)\n",
        "    model.fit(X_train, y_train)\n",
        "\n",
        "    # Prédire les étiquettes\n",
        "    y_pred = model.predict(X_test)\n",
        "\n",
        "    # Calculer les métriques de performance\n",
        "    precision = precision_score(y_test, y_pred, average='weighted')\n",
        "    recall = recall_score(y_test, y_pred, average='weighted')\n",
        "    f1 = f1_score(y_test, y_pred, average='weighted')\n",
        "\n",
        "    results.append({\n",
        "        'solver': solver,\n",
        "        'precision': precision,\n",
        "        'recall': recall,\n",
        "        'f1_score': f1\n",
        "    })\n",
        "\n",
        "# Afficher les résultats\n",
        "for result in results:\n",
        "    print(f\"Solver: {result['solver']}, Precision: {result['precision']:.2f}, Recall: {result['recall']:.2f}, F1 Score: {result['f1_score']:.2f}\")\n"
      ],
      "metadata": {
        "colab": {
          "base_uri": "https://localhost:8080/"
        },
        "id": "7w5E07zBzWsS",
        "outputId": "892cbfc2-82dd-4c7c-d72a-aa94d3f620ff"
      },
      "id": "7w5E07zBzWsS",
      "execution_count": 13,
      "outputs": [
        {
          "output_type": "stream",
          "name": "stdout",
          "text": [
            "Solver: liblinear, Precision: 0.84, Recall: 0.80, F1 Score: 0.78\n",
            "Solver: saga, Precision: 0.83, Recall: 0.82, F1 Score: 0.82\n"
          ]
        }
      ]
    },
    {
      "cell_type": "markdown",
      "id": "26460a47-926e-4fc8-a2ac-35dc0728b09a",
      "metadata": {
        "id": "26460a47-926e-4fc8-a2ac-35dc0728b09a"
      },
      "source": [
        "### Exercise 10: Logistic Regression on the \"Iris\" Dataset\n",
        "\n",
        "Perform logistic regression on the Iris dataset to classify the species of iris flowers. Experiment with different parameters to optimize the model's performance.\n",
        "\n",
        "Instructions:\n",
        "\n",
        "- Load the Iris Dataset: Use the `load_iris()` function from `sklearn.datasets` to load the Iris dataset.\n",
        "- Experiment with Different Test Sizes: Modify the code to use test set sizes of 30% and 20% of the total data. Observe the changes in accuracy, precision, and recall.\n",
        "- Change the `random_state` Parameter: Modify the code to use `random_state=42` and `random_state=1`. Observe the changes in the model's performance."
      ]
    },
    {
      "cell_type": "code",
      "source": [
        "import numpy as np\n",
        "import pandas as pd\n",
        "from sklearn.datasets import load_iris\n",
        "from sklearn.model_selection import train_test_split\n",
        "from sklearn.linear_model import LogisticRegression\n",
        "from sklearn.metrics import accuracy_score, precision_score, recall_score, classification_report\n",
        "from sklearn.preprocessing import MinMaxScaler\n",
        "\n",
        "# Charger l'ensemble de données Iris\n",
        "data = load_iris()\n",
        "X = data.data\n",
        "y = data.target\n",
        "\n",
        "# Normalisation des données\n",
        "scaler = MinMaxScaler()\n",
        "X_scaled = scaler.fit_transform(X)\n",
        "\n",
        "# Paramètres à expérimenter\n",
        "test_sizes = [0.3, 0.2]\n",
        "random_states = [42, 1]\n",
        "\n",
        "results = []\n",
        "\n",
        "# Boucle sur les tailles de test et les random_states\n",
        "for test_size in test_sizes:\n",
        "    for random_state in random_states:\n",
        "        # Diviser les données en ensembles d'entraînement et de test\n",
        "        X_train, X_test, y_train, y_test = train_test_split(X_scaled, y, test_size=test_size, random_state=random_state)\n",
        "\n",
        "        # Entraîner le modèle\n",
        "        model = LogisticRegression(solver='liblinear', C=1, max_iter=200)\n",
        "        model.fit(X_train, y_train)\n",
        "\n",
        "        # Prédire les étiquettes\n",
        "        y_pred = model.predict(X_test)\n",
        "\n",
        "        # Calculer les métriques de performance\n",
        "        accuracy = accuracy_score(y_test, y_pred)\n",
        "        precision = precision_score(y_test, y_pred, average='weighted')\n",
        "        recall = recall_score(y_test, y_pred, average='weighted')\n",
        "\n",
        "        results.append({\n",
        "            'test_size': test_size,\n",
        "            'random_state': random_state,\n",
        "            'accuracy': accuracy,\n",
        "            'precision': precision,\n",
        "            'recall': recall\n",
        "        })\n",
        "\n",
        "# Afficher les résultats\n",
        "for result in results:\n",
        "    print(f\"Test Size: {result['test_size']}, Random State: {result['random_state']}, \"\n",
        "          f\"Accuracy: {result['accuracy']:.2f}, Precision: {result['precision']:.2f}, Recall: {result['recall']:.2f}\")\n"
      ],
      "metadata": {
        "colab": {
          "base_uri": "https://localhost:8080/"
        },
        "id": "NMzZhV8ozkFG",
        "outputId": "63dfdfcb-c378-4e54-d40a-b64d623f521f"
      },
      "id": "NMzZhV8ozkFG",
      "execution_count": 14,
      "outputs": [
        {
          "output_type": "stream",
          "name": "stdout",
          "text": [
            "Test Size: 0.3, Random State: 42, Accuracy: 0.84, Precision: 0.90, Recall: 0.84\n",
            "Test Size: 0.3, Random State: 1, Accuracy: 0.73, Precision: 0.86, Recall: 0.73\n",
            "Test Size: 0.2, Random State: 42, Accuracy: 0.90, Precision: 0.92, Recall: 0.90\n",
            "Test Size: 0.2, Random State: 1, Accuracy: 0.70, Precision: 0.88, Recall: 0.70\n"
          ]
        }
      ]
    },
    {
      "cell_type": "markdown",
      "id": "0c8e350d-9776-436a-b2e3-5bd3b8523da8",
      "metadata": {
        "id": "0c8e350d-9776-436a-b2e3-5bd3b8523da8"
      },
      "source": [
        "### Exercise 11: Logistic Regression on the \"Wine\" Dataset\n",
        "\n",
        "Perform logistic regression on the Wine dataset to classify the type of wine. Experiment with different parameters to optimize the model's performance.\n",
        "\n",
        "Instructions:\n",
        "\n",
        "- Load the Wine Dataset: Use the `load_wine()` function from `sklearn.datasets` to load the Wine dataset.\n",
        "- Tune the C Parameter: Experiment with different values of the `C` parameter (e.g., `C=0.1`, `C=1`, `C=1000`). Observe how it affects the model's performance.\n",
        "- Change Logistic Regression Parameters: Modify the `solver` parameter to 'liblinear' and 'lbfgs', and observe the performance changes."
      ]
    },
    {
      "cell_type": "code",
      "source": [
        "import numpy as np\n",
        "import pandas as pd\n",
        "from sklearn.datasets import load_wine\n",
        "from sklearn.model_selection import train_test_split\n",
        "from sklearn.linear_model import LogisticRegression\n",
        "from sklearn.metrics import accuracy_score, precision_score, recall_score, classification_report\n",
        "from sklearn.preprocessing import MinMaxScaler\n",
        "\n",
        "# Charger l'ensemble de données Wine\n",
        "data = load_wine()\n",
        "X = data.data\n",
        "y = data.target\n",
        "\n",
        "# Normalisation des données\n",
        "scaler = MinMaxScaler()\n",
        "X_scaled = scaler.fit_transform(X)\n",
        "\n",
        "# Paramètres à expérimenter\n",
        "C_values = [0.1, 1, 1000]\n",
        "solvers = ['liblinear', 'lbfgs']\n",
        "\n",
        "results = []\n",
        "\n",
        "# Boucle sur les valeurs de C et les solveurs\n",
        "for C in C_values:\n",
        "    for solver in solvers:\n",
        "        # Diviser les données en ensembles d'entraînement et de test\n",
        "        X_train, X_test, y_train, y_test = train_test_split(X_scaled, y, test_size=0.3, random_state=42)\n",
        "\n",
        "        # Entraîner le modèle\n",
        "        model = LogisticRegression(solver=solver, C=C, max_iter=200)\n",
        "        model.fit(X_train, y_train)\n",
        "\n",
        "        # Prédire les étiquettes\n",
        "        y_pred = model.predict(X_test)\n",
        "\n",
        "        # Calculer les métriques de performance\n",
        "        accuracy = accuracy_score(y_test, y_pred)\n",
        "        precision = precision_score(y_test, y_pred, average='weighted')\n",
        "        recall = recall_score(y_test, y_pred, average='weighted')\n",
        "\n",
        "        results.append({\n",
        "            'C': C,\n",
        "            'solver': solver,\n",
        "            'accuracy': accuracy,\n",
        "            'precision': precision,\n",
        "            'recall': recall\n",
        "        })\n",
        "\n",
        "# Afficher les résultats\n",
        "for result in results:\n",
        "    print(f\"C: {result['C']}, Solver: {result['solver']}, \"\n",
        "          f\"Accuracy: {result['accuracy']:.2f}, Precision: {result['precision']:.2f}, Recall: {result['recall']:.2f}\")\n"
      ],
      "metadata": {
        "colab": {
          "base_uri": "https://localhost:8080/"
        },
        "id": "hhWFYUK2zvUa",
        "outputId": "3df5fb48-1672-4fb0-d177-b2f7d3242fcd"
      },
      "id": "hhWFYUK2zvUa",
      "execution_count": 15,
      "outputs": [
        {
          "output_type": "stream",
          "name": "stdout",
          "text": [
            "C: 0.1, Solver: liblinear, Accuracy: 0.98, Precision: 0.98, Recall: 0.98\n",
            "C: 0.1, Solver: lbfgs, Accuracy: 1.00, Precision: 1.00, Recall: 1.00\n",
            "C: 1, Solver: liblinear, Accuracy: 0.96, Precision: 0.97, Recall: 0.96\n",
            "C: 1, Solver: lbfgs, Accuracy: 1.00, Precision: 1.00, Recall: 1.00\n",
            "C: 1000, Solver: liblinear, Accuracy: 0.98, Precision: 0.98, Recall: 0.98\n",
            "C: 1000, Solver: lbfgs, Accuracy: 0.98, Precision: 0.98, Recall: 0.98\n"
          ]
        }
      ]
    },
    {
      "cell_type": "markdown",
      "id": "d8f4067d-ff7d-4997-b28e-adc2f0515035",
      "metadata": {
        "id": "d8f4067d-ff7d-4997-b28e-adc2f0515035"
      },
      "source": [
        "### Exercise 12: Logistic Regression on the \"Breast Cancer\" Dataset\n",
        "\n",
        "Perform logistic regression on the Breast Cancer dataset to classify whether the cancer is malignant or benign. Experiment with different parameters to optimize the model's performance.\n",
        "\n",
        "Instructions:\n",
        "\n",
        "- Load the Breast Cancer Dataset: Use the `load_breast_cancer()` function from `sklearn.datasets` to load the Breast Cancer dataset.\n",
        "- Experiment with Data Scaling: Use `MinMaxScaler` instead of `StandardScaler` and evaluate the model's performance.\n",
        "- Change the Maximum Number of Iterations: Modify the `max_iter` parameter to 50, 100, and 200, and observe the performance changes."
      ]
    },
    {
      "cell_type": "code",
      "source": [
        "import numpy as np\n",
        "import pandas as pd\n",
        "from sklearn.datasets import load_breast_cancer\n",
        "from sklearn.model_selection import train_test_split\n",
        "from sklearn.linear_model import LogisticRegression\n",
        "from sklearn.metrics import accuracy_score, precision_score, recall_score\n",
        "from sklearn.preprocessing import MinMaxScaler\n",
        "\n",
        "# Charger l'ensemble de données Breast Cancer\n",
        "data = load_breast_cancer()\n",
        "X = data.data\n",
        "y = data.target\n",
        "\n",
        "# Normalisation des données avec MinMaxScaler\n",
        "scaler = MinMaxScaler()\n",
        "X_scaled = scaler.fit_transform(X)\n",
        "\n",
        "# Paramètres à expérimenter\n",
        "max_iter_values = [50, 100, 200]\n",
        "\n",
        "results = []\n",
        "\n",
        "# Boucle sur les valeurs de max_iter\n",
        "for max_iter in max_iter_values:\n",
        "    # Diviser les données en ensembles d'entraînement et de test\n",
        "    X_train, X_test, y_train, y_test = train_test_split(X_scaled, y, test_size=0.3, random_state=42)\n",
        "\n",
        "    # Entraîner le modèle\n",
        "    model = LogisticRegression(solver='liblinear', C=1, max_iter=max_iter)\n",
        "    model.fit(X_train, y_train)\n",
        "\n",
        "    # Prédire les étiquettes\n",
        "    y_pred = model.predict(X_test)\n",
        "\n",
        "    # Calculer les métriques de performance\n",
        "    accuracy = accuracy_score(y_test, y_pred)\n",
        "    precision = precision_score(y_test, y_pred)\n",
        "    recall = recall_score(y_test, y_pred)\n",
        "\n",
        "    results.append({\n",
        "        'max_iter': max_iter,\n",
        "        'accuracy': accuracy,\n",
        "        'precision': precision,\n",
        "        'recall': recall\n",
        "    })\n",
        "\n",
        "# Afficher les résultats\n",
        "for result in results:\n",
        "    print(f\"Max Iterations: {result['max_iter']}, \"\n",
        "          f\"Accuracy: {result['accuracy']:.2f}, \"\n",
        "          f\"Precision: {result['precision']:.2f}, \"\n",
        "          f\"Recall: {result['recall']:.2f}\")\n"
      ],
      "metadata": {
        "colab": {
          "base_uri": "https://localhost:8080/"
        },
        "id": "n6QWOqLTz6oJ",
        "outputId": "875ae896-47e6-4ede-965c-d3039466200e"
      },
      "id": "n6QWOqLTz6oJ",
      "execution_count": 16,
      "outputs": [
        {
          "output_type": "stream",
          "name": "stdout",
          "text": [
            "Max Iterations: 50, Accuracy: 0.96, Precision: 0.96, Recall: 0.99\n",
            "Max Iterations: 100, Accuracy: 0.96, Precision: 0.96, Recall: 0.99\n",
            "Max Iterations: 200, Accuracy: 0.96, Precision: 0.96, Recall: 0.99\n"
          ]
        }
      ]
    },
    {
      "cell_type": "markdown",
      "id": "f91d69c3-7a9f-4096-8b69-4c408370cb06",
      "metadata": {
        "id": "f91d69c3-7a9f-4096-8b69-4c408370cb06"
      },
      "source": [
        "### Exercise 13: Logistic Regression on the \"Digits\" Dataset\n",
        "\n",
        "Perform logistic regression on the Digits dataset to classify handwritten digits. Experiment with different parameters to optimize the model's performance.\n",
        "\n",
        "Instructions:\n",
        "\n",
        "- Load the Digits Dataset: Use the `load_digits()` function from `sklearn.datasets` to load the Digits dataset.\n",
        "- Experiment with Different Test Sizes: Modify the code to use test set sizes of 30% and 20% of the total data. Observe the changes in accuracy, precision, and recall.\n",
        "- Change the `random_state` Parameter: Modify the code to use `random_state=42` and `random_state=1`. Observe the changes in the model's performance."
      ]
    },
    {
      "cell_type": "code",
      "source": [
        "import numpy as np\n",
        "import pandas as pd\n",
        "from sklearn.datasets import load_digits\n",
        "from sklearn.model_selection import train_test_split\n",
        "from sklearn.linear_model import LogisticRegression\n",
        "from sklearn.metrics import accuracy_score, precision_score, recall_score\n",
        "\n",
        "# Charger l'ensemble de données Digits\n",
        "data = load_digits()\n",
        "X = data.data\n",
        "y = data.target\n",
        "\n",
        "# Paramètres à expérimenter\n",
        "test_sizes = [0.3, 0.2]\n",
        "random_states = [42, 1]\n",
        "\n",
        "results = []\n",
        "\n",
        "# Boucle sur les tailles de test et les random_states\n",
        "for test_size in test_sizes:\n",
        "    for random_state in random_states:\n",
        "        # Diviser les données en ensembles d'entraînement et de test\n",
        "        X_train, X_test, y_train, y_test = train_test_split(X, y, test_size=test_size, random_state=random_state)\n",
        "\n",
        "        # Entraîner le modèle\n",
        "        model = LogisticRegression(solver='liblinear', max_iter=200)\n",
        "        model.fit(X_train, y_train)\n",
        "\n",
        "        # Prédire les étiquettes\n",
        "        y_pred = model.predict(X_test)\n",
        "\n",
        "        # Calculer les métriques de performance\n",
        "        accuracy = accuracy_score(y_test, y_pred)\n",
        "        precision = precision_score(y_test, y_pred, average='weighted')\n",
        "        recall = recall_score(y_test, y_pred, average='weighted')\n",
        "\n",
        "        results.append({\n",
        "            'test_size': test_size,\n",
        "            'random_state': random_state,\n",
        "            'accuracy': accuracy,\n",
        "            'precision': precision,\n",
        "            'recall': recall\n",
        "        })\n",
        "\n",
        "# Afficher les résultats\n",
        "for result in results:\n",
        "    print(f\"Test Size: {result['test_size']}, Random State: {result['random_state']}, \"\n",
        "          f\"Accuracy: {result['accuracy']:.2f}, Precision: {result['precision']:.2f}, Recall: {result['recall']:.2f}\")\n"
      ],
      "metadata": {
        "colab": {
          "base_uri": "https://localhost:8080/"
        },
        "id": "B_1KrQFb0FW3",
        "outputId": "01ac676d-b6da-46b0-b82e-5dfcf0a427bf"
      },
      "id": "B_1KrQFb0FW3",
      "execution_count": 17,
      "outputs": [
        {
          "output_type": "stream",
          "name": "stdout",
          "text": [
            "Test Size: 0.3, Random State: 42, Accuracy: 0.95, Precision: 0.96, Recall: 0.95\n",
            "Test Size: 0.3, Random State: 1, Accuracy: 0.96, Precision: 0.96, Recall: 0.96\n",
            "Test Size: 0.2, Random State: 42, Accuracy: 0.96, Precision: 0.96, Recall: 0.96\n",
            "Test Size: 0.2, Random State: 1, Accuracy: 0.97, Precision: 0.97, Recall: 0.97\n"
          ]
        }
      ]
    },
    {
      "cell_type": "markdown",
      "id": "a69c4f58-6c84-4ef4-9cf0-4ddbd4216d3e",
      "metadata": {
        "id": "a69c4f58-6c84-4ef4-9cf0-4ddbd4216d3e"
      },
      "source": [
        "### Exercise 14: Logistic Regression on the \"Diabetes\" Dataset\n",
        "\n",
        "Perform logistic regression on the Diabetes dataset to predict the onset of diabetes. Experiment with different parameters to optimize the model's performance.\n",
        "\n",
        "Instructions:\n",
        "\n",
        "- Load the Diabetes Dataset: Use the `load_diabetes()` function from `sklearn.datasets` to load the Diabetes dataset.\n",
        "- Tune the C Parameter: Experiment with different values of the `C` parameter (e.g., `C=0.1`, `C=1`, `C=1000`). Observe how it affects the model's performance.\n",
        "- Change Logistic Regression Parameters: Modify the `solver` parameter to 'liblinear' and 'lbfgs', and observe the performance changes."
      ]
    },
    {
      "cell_type": "code",
      "source": [
        "import numpy as np\n",
        "import pandas as pd\n",
        "from sklearn.datasets import load_diabetes\n",
        "from sklearn.model_selection import train_test_split\n",
        "from sklearn.linear_model import LogisticRegression\n",
        "from sklearn.metrics import accuracy_score, precision_score, recall_score\n",
        "from sklearn.preprocessing import MinMaxScaler\n",
        "\n",
        "# Charger l'ensemble de données Diabetes\n",
        "data = load_diabetes()\n",
        "X = data.data\n",
        "y = (data.target > 140).astype(int)  # Convertir la cible en binaire (1 si diabète, 0 sinon)\n",
        "\n",
        "# Normalisation des données\n",
        "scaler = MinMaxScaler()\n",
        "X_scaled = scaler.fit_transform(X)\n",
        "\n",
        "# Paramètres à expérimenter\n",
        "C_values = [0.1, 1, 1000]\n",
        "solvers = ['liblinear', 'lbfgs']\n",
        "\n",
        "results = []\n",
        "\n",
        "# Boucle sur les valeurs de C et les solveurs\n",
        "for C in C_values:\n",
        "    for solver in solvers:\n",
        "        # Diviser les données en ensembles d'entraînement et de test\n",
        "        X_train, X_test, y_train, y_test = train_test_split(X_scaled, y, test_size=0.3, random_state=42)\n",
        "\n",
        "        # Entraîner le modèle\n",
        "        model = LogisticRegression(solver=solver, C=C, max_iter=200)\n",
        "        model.fit(X_train, y_train)\n",
        "\n",
        "        # Prédire les étiquettes\n",
        "        y_pred = model.predict(X_test)\n",
        "\n",
        "        # Calculer les métriques de performance\n",
        "        accuracy = accuracy_score(y_test, y_pred)\n",
        "        precision = precision_score(y_test, y_pred)\n",
        "        recall = recall_score(y_test, y_pred)\n",
        "\n",
        "        results.append({\n",
        "            'C': C,\n",
        "            'solver': solver,\n",
        "            'accuracy': accuracy,\n",
        "            'precision': precision,\n",
        "            'recall': recall\n",
        "        })\n",
        "\n",
        "# Afficher les résultats\n",
        "for result in results:\n",
        "    print(f\"C: {result['C']}, Solver: {result['solver']}, \"\n",
        "          f\"Accuracy: {result['accuracy']:.2f}, Precision: {result['precision']:.2f}, Recall: {result['recall']:.2f}\")\n"
      ],
      "metadata": {
        "colab": {
          "base_uri": "https://localhost:8080/"
        },
        "id": "ln_mHxbc0ZV1",
        "outputId": "e697302f-20ed-4331-96d8-6d648bdb706f"
      },
      "id": "ln_mHxbc0ZV1",
      "execution_count": 18,
      "outputs": [
        {
          "output_type": "stream",
          "name": "stdout",
          "text": [
            "C: 0.1, Solver: liblinear, Accuracy: 0.82, Precision: 0.77, Recall: 0.87\n",
            "C: 0.1, Solver: lbfgs, Accuracy: 0.80, Precision: 0.76, Recall: 0.84\n",
            "C: 1, Solver: liblinear, Accuracy: 0.77, Precision: 0.74, Recall: 0.75\n",
            "C: 1, Solver: lbfgs, Accuracy: 0.79, Precision: 0.75, Recall: 0.80\n",
            "C: 1000, Solver: liblinear, Accuracy: 0.77, Precision: 0.75, Recall: 0.77\n",
            "C: 1000, Solver: lbfgs, Accuracy: 0.77, Precision: 0.75, Recall: 0.77\n"
          ]
        }
      ]
    }
  ],
  "metadata": {
    "kernelspec": {
      "display_name": "Python 3 (ipykernel)",
      "language": "python",
      "name": "python3"
    },
    "language_info": {
      "codemirror_mode": {
        "name": "ipython",
        "version": 3
      },
      "file_extension": ".py",
      "mimetype": "text/x-python",
      "name": "python",
      "nbconvert_exporter": "python",
      "pygments_lexer": "ipython3",
      "version": "3.11.7"
    },
    "colab": {
      "provenance": []
    }
  },
  "nbformat": 4,
  "nbformat_minor": 5
}