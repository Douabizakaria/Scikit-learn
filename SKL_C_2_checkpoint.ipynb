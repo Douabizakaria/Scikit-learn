{
  "cells": [
    {
      "cell_type": "code",
      "execution_count": null,
      "id": "dbbe07c8-280a-497e-ae2f-d039285c5268",
      "metadata": {
        "id": "dbbe07c8-280a-497e-ae2f-d039285c5268"
      },
      "outputs": [],
      "source": [
        "# Based on the Datacamp tutirial : https://www.datacamp.com/tutorial/svm-classification-scikit-learn-python\n",
        "# Modified by Mehdi Ammi, Univ. Paris 8"
      ]
    },
    {
      "cell_type": "markdown",
      "id": "79b520e4-6f55-437d-915b-406702986d83",
      "metadata": {
        "id": "79b520e4-6f55-437d-915b-406702986d83"
      },
      "source": [
        "# Scikit-Learn: Support Vector Machines (SVM)"
      ]
    },
    {
      "cell_type": "markdown",
      "id": "26af9bb6-5c1f-462d-9566-3f9eec49bb94",
      "metadata": {
        "id": "26af9bb6-5c1f-462d-9566-3f9eec49bb94"
      },
      "source": [
        "## Introduction\n",
        "\n",
        "In this notebook, you'll learn about Support Vector Machines, one of the most popular and widely used supervised machine learning algorithms.\n",
        "\n",
        "SVM offers very high accuracy compared to other classifiers such as logistic regression, and decision trees. It is known for its kernel trick to handle nonlinear input spaces. It is used in a variety of applications such as face detection, intrusion detection, classification of emails, news articles and web pages, classification of genes, and handwriting recognition.\n",
        "\n",
        "Generally, Support Vector Machines is considered to be a classification approach, it but can be employed in both types of classification and regression problems. It can easily handle multiple continuous and categorical variables. SVM constructs a hyperplane in multidimensional space to separate different classes. SVM generates optimal hyperplane in an iterative manner, which is used to minimize an error. The core idea of SVM is to find a maximum marginal hyperplane(MMH) that best divides the dataset into classes.\n",
        "\n",
        "![SVM.png](attachment:edbccaac-af32-444c-9fc5-08245135f30e.png)\n",
        "\n",
        "\n",
        " - Support Vectors : Support vectors are the data points, which are closest to the hyperplane. These points will define the separating line better by calculating margins. These points are more relevant to the construction of the classifier.\n",
        "\n",
        " - Hyperplane : A hyperplane is a decision plane which separates between a set of objects having different class memberships.\n",
        "\n",
        " - Margin : A margin is a gap between the two lines on the closest class points. This is calculated as the perpendicular distance from the line to support vectors or closest points. If the margin is larger in between the classes, then it is considered a good margin, a smaller margin is a bad margin."
      ]
    },
    {
      "cell_type": "markdown",
      "id": "d5f9d12f-3b75-47df-a7ae-509fe1200591",
      "metadata": {
        "id": "d5f9d12f-3b75-47df-a7ae-509fe1200591"
      },
      "source": [
        "## How does SVM work?\n",
        "The main objective is to segregate the given dataset in the best possible way. The distance between the either nearest points is known as the margin. The objective is to select a hyperplane with the maximum possible margin between support vectors in the given dataset. SVM searches for the maximum marginal hyperplane in the following steps:\n",
        "\n",
        "1. Generate hyperplanes which segregates the classes in the best way. Left-hand side figure showing three hyperplanes black, blue and orange. Here, the blue and orange have higher classification error, but the black is separating the two classes correctly.\n",
        "\n",
        "2. Select the right hyperplane with the maximum segregation from the either nearest data points as shown in the right-hand side figure.\n",
        "\n",
        "![SVM_1.png](attachment:8fded9b0-a036-4e89-b091-8c6cab5e4a3a.png)"
      ]
    },
    {
      "cell_type": "markdown",
      "id": "d5bb8bec-abe6-459b-a271-84ef70f8b0d1",
      "metadata": {
        "id": "d5bb8bec-abe6-459b-a271-84ef70f8b0d1"
      },
      "source": [
        "## Dealing with non-linear and inseparable planes\n",
        "Some problems can’t be solved using linear hyperplane, as shown in the figure below (left-hand side).\n",
        "\n",
        "In such situation, SVM uses a kernel trick to transform the input space to a higher dimensional space as shown on the right. The data points are plotted on the x-axis and z-axis (Z is the squared sum of both x and y: z=x^2=y^2). Now you can easily segregate these points using linear separation.\n",
        "\n",
        "![SVM_2.png](attachment:ff35e35a-3c37-4476-8f76-353fb421e6d7.png)"
      ]
    },
    {
      "cell_type": "markdown",
      "id": "61f6ce49-c273-4cd3-8407-375660023b19",
      "metadata": {
        "id": "61f6ce49-c273-4cd3-8407-375660023b19"
      },
      "source": [
        "## SVM Kernels\n",
        "\n",
        "The SVM algorithm is implemented in practice using a kernel. A kernel transforms an input data space into the required form. SVM uses a technique called the kernel trick. Here, the kernel takes a low-dimensional input space and transforms it into a higher dimensional space. In other words, you can say that it converts nonseparable problem to separable problems by adding more dimension to it. It is most useful in non-linear separation problem. Kernel trick helps you to build a more accurate classifier.\n",
        "\n",
        " - Linear Kernel A linear kernel can be used as normal dot product any two given observations. The product between two vectors is the sum of the multiplication of each pair of input values.\n",
        "\n",
        "    K(x,xi) = 1 + sum(x * xi)^d\n",
        "\n",
        " - Polynomial Kernel A polynomial kernel is a more generalized form of the linear kernel. The polynomial kernel can distinguish curved or nonlinear input space.\n",
        "\n",
        "    K(x,xi) = 1 + sum(x * xi)^d\n",
        "\n",
        "    Where d is the degree of the polynomial. d=1 is similar to the linear transformation. The degree needs to be manually specified in the learning algorithm.\n",
        "\n",
        " - Radial Basis Function Kernel The Radial basis function kernel is a popular kernel function commonly used in support vector machine classification. RBF can map an input space in infinite dimensional space.\n",
        "\n",
        "    K(x,xi) = exp(-gamma * sum((x – xi^2))\n",
        "    \n",
        "    Here gamma is a parameter, which ranges from 0 to 1. A higher value of gamma will perfectly fit the training dataset, which causes over-fitting. Gamma=0.1 is considered to be a good default value. The value of gamma needs to be manually specified in the learning algorithm.\n",
        "    \n",
        "## Key Concepts:\n",
        "\n",
        "- **Kernel Trick**: SVMs can efficiently perform a non-linear classification using what is called the kernel trick, implicitly mapping their inputs into high-dimensional feature spaces. Common kernels include polynomial, radial basis function (RBF), and sigmoid.\n",
        "- **C Parameter**: This regularization parameter determines the trade-off between maximizing the margin and minimizing classification errors on the training data. A smaller C makes the margin larger but allows more misclassified data points.\n",
        "\n",
        "\n",
        "## Advantages of SVM:\n",
        "1. **Effective in High-Dimensional Spaces**: SVMs are particularly useful in applications with high-dimensional data, where the number of features is large compared to the number of data points.\n",
        "2. **Memory Efficient**: Only a subset of training points (the support vectors) are used in the decision function, making SVM memory efficient.\n",
        "3. **Versatility**: By using different kernel functions, SVMs can be adapted to a variety of data types and distributions.\n",
        "4. **Robust to Overfitting**: Especially in high-dimensional space, SVMs are less prone to overfitting compared to other classifiers, especially when the number of dimensions exceeds the number of samples.\n",
        "\n",
        "## Limitations of SVM:\n",
        "1. **Computational Complexity**: Training an SVM can be computationally intensive, especially with large datasets. The complexity is between quadratic and cubic, making SVMs less suitable for very large datasets.\n",
        "2. **Choice of Kernel**: The performance of an SVM classifier is highly dependent on the choice of the kernel and its parameters. Finding the right kernel and parameters can be challenging and often requires a lot of experimentation.\n",
        "3. **Not Probabilistic**: SVM does not directly provide probability estimates, though methods like Platt scaling can be used to convert SVM outputs into probability scores.\n",
        "4. **Scalability**: While SVMs perform well with smaller datasets, their training time becomes impractical with larger datasets due to their high computational cost."
      ]
    },
    {
      "cell_type": "markdown",
      "id": "bd3d345c-2ffb-4cdb-b12c-8a85676212ea",
      "metadata": {
        "id": "bd3d345c-2ffb-4cdb-b12c-8a85676212ea"
      },
      "source": [
        "## Classifier Building in Scikit-learn\n",
        "\n",
        "Until now, you have learned about the theoretical background of SVM. Now you will learn about its implementation in Python using scikit-learn.\n",
        "\n",
        "In the model the building part, you can use the cancer dataset, which is a very famous multi-class classification problem. This dataset is computed from a digitized image of a fine needle aspirate (FNA) of a breast mass. They describe characteristics of the cell nuclei present in the image.\n",
        "\n",
        "The dataset comprises 30 features (mean radius, mean texture, mean perimeter, mean area, mean smoothness, mean compactness, mean concavity, mean concave points, mean symmetry, mean fractal dimension, radius error, texture error, perimeter error, area error, smoothness error, compactness error, concavity error, concave points error, symmetry error, fractal dimension error, worst radius, worst texture, worst perimeter, worst area, worst smoothness, worst compactness, worst concavity, worst concave points, worst symmetry, and worst fractal dimension) and a target (type of cancer).\n",
        "\n",
        "This data has two types of cancer classes: malignant (harmful) and benign (not harmful). Here, you can build a model to classify the type of cancer. The dataset is available in the scikit-learn library or you can also download it from the UCI Machine Learning Library."
      ]
    },
    {
      "cell_type": "markdown",
      "id": "4a579b48-ce4f-44da-8e53-a0c95b2ef4df",
      "metadata": {
        "id": "4a579b48-ce4f-44da-8e53-a0c95b2ef4df"
      },
      "source": [
        "## Installing Scikit-Learn"
      ]
    },
    {
      "cell_type": "code",
      "execution_count": 1,
      "id": "6147a718-cf59-4940-a2ff-fcdd5575156c",
      "metadata": {
        "colab": {
          "base_uri": "https://localhost:8080/"
        },
        "id": "6147a718-cf59-4940-a2ff-fcdd5575156c",
        "outputId": "f308e625-272a-4387-d45a-1343960b244f"
      },
      "outputs": [
        {
          "output_type": "stream",
          "name": "stdout",
          "text": [
            "Requirement already satisfied: scikit-learn in /usr/local/lib/python3.10/dist-packages (1.5.2)\n",
            "Requirement already satisfied: numpy>=1.19.5 in /usr/local/lib/python3.10/dist-packages (from scikit-learn) (1.26.4)\n",
            "Requirement already satisfied: scipy>=1.6.0 in /usr/local/lib/python3.10/dist-packages (from scikit-learn) (1.13.1)\n",
            "Requirement already satisfied: joblib>=1.2.0 in /usr/local/lib/python3.10/dist-packages (from scikit-learn) (1.4.2)\n",
            "Requirement already satisfied: threadpoolctl>=3.1.0 in /usr/local/lib/python3.10/dist-packages (from scikit-learn) (3.5.0)\n"
          ]
        }
      ],
      "source": [
        "!pip install scikit-learn"
      ]
    },
    {
      "cell_type": "markdown",
      "id": "2c638f42-cf97-4a49-b733-880ba9835a74",
      "metadata": {
        "id": "2c638f42-cf97-4a49-b733-880ba9835a74"
      },
      "source": [
        "## Loading Data\n",
        "\n",
        "Let's first load the required dataset you will use."
      ]
    },
    {
      "cell_type": "code",
      "execution_count": null,
      "id": "02367d21-f761-4bd1-9ab6-a8b730d87ba9",
      "metadata": {
        "id": "02367d21-f761-4bd1-9ab6-a8b730d87ba9"
      },
      "outputs": [],
      "source": [
        "# Import scikit-learn dataset library\n",
        "from sklearn import datasets\n",
        "\n",
        "# Load the breast cancer dataset\n",
        "cancer = datasets.load_breast_cancer()"
      ]
    },
    {
      "cell_type": "markdown",
      "id": "57e5e6a2-5838-49da-a451-5336fbdd9082",
      "metadata": {
        "id": "57e5e6a2-5838-49da-a451-5336fbdd9082"
      },
      "source": [
        "## Exploring Data\n",
        "\n",
        "After you have loaded the dataset, you might want to know a little bit more about it. You can check feature and target names."
      ]
    },
    {
      "cell_type": "code",
      "execution_count": null,
      "id": "e54cb7db-ea92-4f82-a217-e18b920761a0",
      "metadata": {
        "id": "e54cb7db-ea92-4f82-a217-e18b920761a0"
      },
      "outputs": [],
      "source": [
        "# Print the names of the 13 features in the dataset\n",
        "print(\"Features: \", cancer.feature_names)\n",
        "\n",
        "# Print the label types of cancer ('malignant' and 'benign')\n",
        "print(\"Labels: \", cancer.target_names)"
      ]
    },
    {
      "cell_type": "code",
      "execution_count": null,
      "id": "dc2f7338-3f7b-44b9-aa31-0331b303ea3b",
      "metadata": {
        "id": "dc2f7338-3f7b-44b9-aa31-0331b303ea3b"
      },
      "outputs": [],
      "source": [
        ">>\n",
        "Features:  ['mean radius' 'mean texture' 'mean perimeter' 'mean area'\n",
        " 'mean smoothness' 'mean compactness' 'mean concavity'\n",
        " 'mean concave points' 'mean symmetry' 'mean fractal dimension'\n",
        " 'radius error' 'texture error' 'perimeter error' 'area error'\n",
        " 'smoothness error' 'compactness error' 'concavity error'\n",
        " 'concave points error' 'symmetry error' 'fractal dimension error'\n",
        " 'worst radius' 'worst texture' 'worst perimeter' 'worst area'\n",
        " 'worst smoothness' 'worst compactness' 'worst concavity'\n",
        " 'worst concave points' 'worst symmetry' 'worst fractal dimension']\n",
        "Labels:  ['malignant' 'benign']"
      ]
    },
    {
      "cell_type": "markdown",
      "id": "687e186f-1531-4a63-8633-befd3439f1a6",
      "metadata": {
        "id": "687e186f-1531-4a63-8633-befd3439f1a6"
      },
      "source": [
        "Let's explore it for a bit more. You can also check the shape of the dataset using shape."
      ]
    },
    {
      "cell_type": "code",
      "execution_count": null,
      "id": "b02d1be0-14bf-4b7a-8b6a-1a88752a2cd8",
      "metadata": {
        "id": "b02d1be0-14bf-4b7a-8b6a-1a88752a2cd8"
      },
      "outputs": [],
      "source": [
        "# print data(feature)shape\n",
        "cancer.data.shape"
      ]
    },
    {
      "cell_type": "code",
      "execution_count": null,
      "id": "a802be9a-8bde-46eb-b2e4-7019e55c3ebc",
      "metadata": {
        "id": "a802be9a-8bde-46eb-b2e4-7019e55c3ebc"
      },
      "outputs": [],
      "source": [
        ">>\n",
        "(569, 30)"
      ]
    },
    {
      "cell_type": "markdown",
      "id": "e7a7681b-c9f6-4e00-beff-c29cb87d0635",
      "metadata": {
        "id": "e7a7681b-c9f6-4e00-beff-c29cb87d0635"
      },
      "source": [
        "Let's check top 5 records of the feature set."
      ]
    },
    {
      "cell_type": "code",
      "execution_count": null,
      "id": "daa11ad4-5785-4e2e-ac44-9b99eb3555f2",
      "metadata": {
        "id": "daa11ad4-5785-4e2e-ac44-9b99eb3555f2"
      },
      "outputs": [],
      "source": [
        "# print the cancer data features (top 5 records)\n",
        "print(cancer.data[0:5])"
      ]
    },
    {
      "cell_type": "code",
      "execution_count": null,
      "id": "5234cd32-ab78-4195-bddd-111d0f9d687b",
      "metadata": {
        "id": "5234cd32-ab78-4195-bddd-111d0f9d687b"
      },
      "outputs": [],
      "source": [
        ">>\n",
        "[[1.799e+01 1.038e+01 1.228e+02 1.001e+03 1.184e-01 2.776e-01 3.001e-01\n",
        "  1.471e-01 2.419e-01 7.871e-02 1.095e+00 9.053e-01 8.589e+00 1.534e+02\n",
        "  6.399e-03 4.904e-02 5.373e-02 1.587e-02 3.003e-02 6.193e-03 2.538e+01\n",
        "  1.733e+01 1.846e+02 2.019e+03 1.622e-01 6.656e-01 7.119e-01 2.654e-01\n",
        "  4.601e-01 1.189e-01]\n",
        " [2.057e+01 1.777e+01 1.329e+02 1.326e+03 8.474e-02 7.864e-02 8.690e-02\n",
        "  7.017e-02 1.812e-01 5.667e-02 5.435e-01 7.339e-01 3.398e+00 7.408e+01\n",
        "  5.225e-03 1.308e-02 1.860e-02 1.340e-02 1.389e-02 3.532e-03 2.499e+01\n",
        "  2.341e+01 1.588e+02 1.956e+03 1.238e-01 1.866e-01 2.416e-01 1.860e-01\n",
        "  2.750e-01 8.902e-02]\n",
        " [1.969e+01 2.125e+01 1.300e+02 1.203e+03 1.096e-01 1.599e-01 1.974e-01\n",
        "  1.279e-01 2.069e-01 5.999e-02 7.456e-01 7.869e-01 4.585e+00 9.403e+01\n",
        "  6.150e-03 4.006e-02 3.832e-02 2.058e-02 2.250e-02 4.571e-03 2.357e+01\n",
        "  2.553e+01 1.525e+02 1.709e+03 1.444e-01 4.245e-01 4.504e-01 2.430e-01\n",
        "  3.613e-01 8.758e-02]\n",
        " [1.142e+01 2.038e+01 7.758e+01 3.861e+02 1.425e-01 2.839e-01 2.414e-01\n",
        "  1.052e-01 2.597e-01 9.744e-02 4.956e-01 1.156e+00 3.445e+00 2.723e+01\n",
        "  9.110e-03 7.458e-02 5.661e-02 1.867e-02 5.963e-02 9.208e-03 1.491e+01\n",
        "  2.650e+01 9.887e+01 5.677e+02 2.098e-01 8.663e-01 6.869e-01 2.575e-01\n",
        "  6.638e-01 1.730e-01]\n",
        " [2.029e+01 1.434e+01 1.351e+02 1.297e+03 1.003e-01 1.328e-01 1.980e-01\n",
        "  1.043e-01 1.809e-01 5.883e-02 7.572e-01 7.813e-01 5.438e+00 9.444e+01\n",
        "  1.149e-02 2.461e-02 5.688e-02 1.885e-02 1.756e-02 5.115e-03 2.254e+01\n",
        "  1.667e+01 1.522e+02 1.575e+03 1.374e-01 2.050e-01 4.000e-01 1.625e-01\n",
        "  2.364e-01 7.678e-02]]"
      ]
    },
    {
      "cell_type": "markdown",
      "id": "0570e6ed-4a3d-4a9b-8b56-981664953707",
      "metadata": {
        "id": "0570e6ed-4a3d-4a9b-8b56-981664953707"
      },
      "source": [
        "Let's take a look at the target set."
      ]
    },
    {
      "cell_type": "code",
      "execution_count": null,
      "id": "a624c404-3e13-4fcd-9891-56a153612a28",
      "metadata": {
        "id": "a624c404-3e13-4fcd-9891-56a153612a28"
      },
      "outputs": [],
      "source": [
        "# print the cancer labels (0:malignant, 1:benign)\n",
        "print(cancer.target)"
      ]
    },
    {
      "cell_type": "code",
      "execution_count": null,
      "id": "f6784dc7-1771-4dac-b90e-ce40d44482d0",
      "metadata": {
        "id": "f6784dc7-1771-4dac-b90e-ce40d44482d0"
      },
      "outputs": [],
      "source": [
        ">>\n",
        "[0 0 0 0 0 0 0 0 0 0 0 0 0 0 0 0 0 0 0 1 1 1 0 0 0 0 0 0 0 0 0 0 0 0 0 0 0\n",
        " 1 0 0 0 0 0 0 0 0 1 0 1 1 1 1 1 0 0 1 0 0 1 1 1 1 0 1 0 0 1 1 1 1 0 1 0 0\n",
        " 1 0 1 0 0 1 1 1 0 0 1 0 0 0 1 1 1 0 1 1 0 0 1 1 1 0 0 1 1 1 1 0 1 1 0 1 1\n",
        " 1 1 1 1 1 1 0 0 0 1 0 0 1 1 1 0 0 1 0 1 0 0 1 0 0 1 1 0 1 1 0 1 1 1 1 0 1\n",
        " 1 1 1 1 1 1 1 1 0 1 1 1 1 0 0 1 0 1 1 0 0 1 1 0 0 1 1 1 1 0 1 1 0 0 0 1 0\n",
        " 1 0 1 1 1 0 1 1 0 0 1 0 0 0 0 1 0 0 0 1 0 1 0 1 1 0 1 0 0 0 0 1 1 0 0 1 1\n",
        " 1 0 1 1 1 1 1 0 0 1 1 0 1 1 0 0 1 0 1 1 1 1 0 1 1 1 1 1 0 1 0 0 0 0 0 0 0\n",
        " 0 0 0 0 0 0 0 1 1 1 1 1 1 0 1 0 1 1 0 1 1 0 1 0 0 1 1 1 1 1 1 1 1 1 1 1 1\n",
        " 1 0 1 1 0 1 0 1 1 1 1 1 1 1 1 1 1 1 1 1 1 0 1 1 1 0 1 0 1 1 1 1 0 0 0 1 1\n",
        " 1 1 0 1 0 1 0 1 1 1 0 1 1 1 1 1 1 1 0 0 0 1 1 1 1 1 1 1 1 1 1 1 0 0 1 0 0\n",
        " 0 1 0 0 1 1 1 1 1 0 1 1 1 1 1 0 1 1 1 0 1 1 0 0 1 1 1 1 1 1 0 1 1 1 1 1 1\n",
        " 1 0 1 1 1 1 1 0 1 1 0 1 1 1 1 1 1 1 1 1 1 1 1 0 1 0 0 1 0 1 1 1 1 1 0 1 1\n",
        " 0 1 0 1 1 0 1 0 1 1 1 1 1 1 1 1 0 0 1 1 1 1 1 1 0 1 1 1 1 1 1 1 1 1 1 0 1\n",
        " 1 1 1 1 1 1 0 1 0 1 1 0 1 1 1 1 1 0 0 1 0 1 0 1 1 1 1 1 0 1 1 0 1 0 1 0 0\n",
        " 1 1 1 0 1 1 1 1 1 1 1 1 1 1 1 0 1 0 0 1 1 1 1 1 1 1 1 1 1 1 1 1 1 1 1 1 1\n",
        " 1 1 1 1 1 1 1 0 0 0 0 0 0 1]"
      ]
    },
    {
      "cell_type": "markdown",
      "id": "46bcfab3-9253-47c2-ac23-088a6f2923a1",
      "metadata": {
        "id": "46bcfab3-9253-47c2-ac23-088a6f2923a1"
      },
      "source": [
        "## Splitting Data\n",
        "\n",
        "To understand model performance, dividing the dataset into a training set and a test set is a good strategy.\n",
        "\n",
        "Split the dataset by using the function train_test_split(). you need to pass 3 parameters features, target, and test_set size. Additionally, you can use random_state to select records randomly."
      ]
    },
    {
      "cell_type": "code",
      "execution_count": null,
      "id": "51606be1-d129-4b15-8acf-2d18736943d3",
      "metadata": {
        "id": "51606be1-d129-4b15-8acf-2d18736943d3"
      },
      "outputs": [],
      "source": [
        "# Import train_test_split function\n",
        "from sklearn.model_selection import train_test_split\n",
        "\n",
        "# Split dataset into training set and test set\n",
        "X_train, X_test, y_train, y_test = train_test_split(cancer.data, cancer.target, test_size=0.3,random_state=109) # 70% training and 30% test"
      ]
    },
    {
      "cell_type": "markdown",
      "id": "a051a4d6-324d-46ff-85d7-0c00c66fa16b",
      "metadata": {
        "id": "a051a4d6-324d-46ff-85d7-0c00c66fa16b"
      },
      "source": [
        "## Generating Model\n",
        "\n",
        "Let's build support vector machine model. First, import the SVM module and create support vector classifier object by passing argument kernel as the linear kernel in SVC() function.\n",
        "\n",
        "Then, fit your model on train set using fit() and perform prediction on the test set using predict()."
      ]
    },
    {
      "cell_type": "code",
      "execution_count": null,
      "id": "de868360-7214-45cf-9777-c31e08ba44bc",
      "metadata": {
        "id": "de868360-7214-45cf-9777-c31e08ba44bc"
      },
      "outputs": [],
      "source": [
        "#Import svm model\n",
        "from sklearn import svm\n",
        "\n",
        "#Create a svm Classifier\n",
        "clf = svm.SVC(kernel='linear') # Linear Kernel\n",
        "\n",
        "#Train the model using the training sets\n",
        "clf.fit(X_train, y_train)\n",
        "\n",
        "#Predict the response for test dataset\n",
        "y_pred = clf.predict(X_test)"
      ]
    },
    {
      "cell_type": "markdown",
      "id": "cab99c6f-9cba-4a9f-9f6f-13d49d0cf2d3",
      "metadata": {
        "id": "cab99c6f-9cba-4a9f-9f6f-13d49d0cf2d3"
      },
      "source": [
        "## Evaluating the Model\n",
        "\n",
        "Let's estimate how accurately the classifier or model can predict the breast cancer of patients.\n",
        "\n",
        "Accuracy can be computed by comparing actual test set values and predicted values."
      ]
    },
    {
      "cell_type": "code",
      "execution_count": null,
      "id": "4840ec49-7601-4e51-8af2-079cafa965c0",
      "metadata": {
        "id": "4840ec49-7601-4e51-8af2-079cafa965c0"
      },
      "outputs": [],
      "source": [
        "#Import scikit-learn metrics module for accuracy calculation\n",
        "from sklearn import metrics\n",
        "\n",
        "# Model Accuracy: how often is the classifier correct?\n",
        "print(\"Accuracy:\",metrics.accuracy_score(y_test, y_pred))"
      ]
    },
    {
      "cell_type": "code",
      "execution_count": null,
      "id": "8fdee951-4c3e-4f88-9ca9-4a26d3563e8a",
      "metadata": {
        "id": "8fdee951-4c3e-4f88-9ca9-4a26d3563e8a"
      },
      "outputs": [],
      "source": [
        ">>\n",
        "Accuracy: 0.9649122807017544"
      ]
    },
    {
      "cell_type": "markdown",
      "id": "52648180-df06-456a-a0e2-f84fa659be30",
      "metadata": {
        "id": "52648180-df06-456a-a0e2-f84fa659be30"
      },
      "source": [
        "Well, you got a classification rate of 96.49%, considered as very good accuracy.\n",
        "\n",
        "For further evaluation, you can also check precision and recall of model."
      ]
    },
    {
      "cell_type": "code",
      "execution_count": null,
      "id": "2ab4bbaa-f796-4793-9ba9-b5454119ede4",
      "metadata": {
        "id": "2ab4bbaa-f796-4793-9ba9-b5454119ede4"
      },
      "outputs": [],
      "source": [
        "# Model Precision: what percentage of positive tuples are labeled as such?\n",
        "print(\"Precision:\",metrics.precision_score(y_test, y_pred))\n",
        "\n",
        "# Model Recall: what percentage of positive tuples are labelled as such?\n",
        "print(\"Recall:\",metrics.recall_score(y_test, y_pred))"
      ]
    },
    {
      "cell_type": "code",
      "execution_count": null,
      "id": "7d72f29c-3c8d-42d0-b743-a52338d235b2",
      "metadata": {
        "id": "7d72f29c-3c8d-42d0-b743-a52338d235b2"
      },
      "outputs": [],
      "source": [
        ">>\n",
        "Precision: 0.9811320754716981\n",
        "Recall: 0.9629629629629629"
      ]
    },
    {
      "cell_type": "markdown",
      "id": "23a6fbaa-7296-42b2-9f58-699401c54b0d",
      "metadata": {
        "id": "23a6fbaa-7296-42b2-9f58-699401c54b0d"
      },
      "source": [
        "Well, you got a precision of 98% and recall of 96%, which are considered as very good values."
      ]
    },
    {
      "cell_type": "markdown",
      "id": "aa1b23b2-85fb-47a4-b987-1845c3073ac3",
      "metadata": {
        "id": "aa1b23b2-85fb-47a4-b987-1845c3073ac3"
      },
      "source": [
        "## Tuning Hyperparameters\n",
        "\n",
        " - Kernel: The main function of the kernel is to transform the given dataset input data into the required form. There are various types of functions such as linear, polynomial, and radial basis function (RBF). Polynomial and RBF are useful for non-linear hyperplane. Polynomial and RBF kernels compute the separation line in the higher dimension. In some of the applications, it is suggested to use a more complex kernel to separate the classes that are curved or nonlinear. This transformation can lead to more accurate classifiers.\n",
        " - Regularization: Regularization parameter in python's Scikit-learn C parameter used to maintain regularization. Here C is the penalty parameter, which represents misclassification or error term. The misclassification or error term tells the SVM optimization how much error is bearable. This is how you can control the trade-off between decision boundary and misclassification term. A smaller value of C creates a small-margin hyperplane and a larger value of C creates a larger-margin hyperplane.\n",
        " - Gamma: A lower value of Gamma will loosely fit the training dataset, whereas a higher value of gamma will exactly fit the training dataset, which causes over-fitting. In other words, you can say a low value of gamma considers only nearby points in calculating the separation line, while the a value of gamma considers all the data points in the calculation of the separation line."
      ]
    },
    {
      "cell_type": "markdown",
      "id": "2a2d21e2-7f68-4317-921a-54d0ddae6565",
      "metadata": {
        "id": "2a2d21e2-7f68-4317-921a-54d0ddae6565"
      },
      "source": [
        "## Exercises"
      ]
    },
    {
      "cell_type": "markdown",
      "id": "647d3cfa-146f-436b-81ef-45cfe4b5b38a",
      "metadata": {
        "id": "647d3cfa-146f-436b-81ef-45cfe4b5b38a"
      },
      "source": [
        "### Exercise 1: Experimenting with Different Kernels\n",
        "\n",
        "1. **Polynomial Kernel**: Modify the code to use a polynomial kernel (`kernel='poly'`) and observe the changes in accuracy, precision, and recall.\n",
        "2. **RBF Kernel**: Modify the code to use an RBF kernel (`kernel='rbf'`) and observe the changes in accuracy, precision, and recall.\n",
        "3. **Sigmoid Kernel**: Modify the code to use a sigmoid kernel (`kernel='sigmoid'`) and observe the changes in accuracy, precision, and recall.\n"
      ]
    },
    {
      "cell_type": "code",
      "source": [
        "import pandas as pd\n",
        "from sklearn.model_selection import train_test_split\n",
        "from sklearn.svm import SVC\n",
        "from sklearn.metrics import accuracy_score, precision_score, recall_score\n",
        "\n",
        "# Load your dataset\n",
        "data = pd.read_csv('fraudulent_transactions.csv')\n",
        "X = data.drop('fraud', axis=1)\n",
        "y = data['fraud']\n",
        "\n",
        "X_train, X_test, y_train, y_test = train_test_split(X, y, test_size=0.2, random_state=42)\n",
        "\n",
        "# Polynomial Kernel\n",
        "svm_poly = SVC(kernel='poly')\n",
        "svm_poly.fit(X_train, y_train)\n",
        "y_pred_poly = svm_poly.predict(X_test)\n",
        "\n",
        "accuracy_poly = accuracy_score(y_test, y_pred_poly)\n",
        "precision_poly = precision_score(y_test, y_pred_poly, average='weighted')\n",
        "recall_poly = recall_score(y_test, y_pred_poly, average='weighted')\n",
        "\n",
        "print(\"Polynomial Kernel:\")\n",
        "print(f\"Accuracy: {accuracy_poly:.2f}, Precision: {precision_poly:.2f}, Recall: {recall_poly:.2f}\")\n",
        "\n",
        "# RBF Kernel\n",
        "svm_rbf = SVC(kernel='rbf')\n",
        "svm_rbf.fit(X_train, y_train)\n",
        "y_pred_rbf = svm_rbf.predict(X_test)\n",
        "\n",
        "accuracy_rbf = accuracy_score(y_test, y_pred_rbf)\n",
        "precision_rbf = precision_score(y_test, y_pred_rbf, average='weighted')\n",
        "recall_rbf = recall_score(y_test, y_pred_rbf, average='weighted')\n",
        "\n",
        "print(\"\\nRBF Kernel:\")\n",
        "print(f\"Accuracy: {accuracy_rbf:.2f}, Precision: {precision_rbf:.2f}, Recall: {recall_rbf:.2f}\")\n",
        "\n",
        "# Sigmoid Kernel\n",
        "svm_sigmoid = SVC(kernel='sigmoid')\n",
        "svm_sigmoid.fit(X_train, y_train)\n",
        "y_pred_sigmoid = svm_sigmoid.predict(X_test)\n",
        "\n",
        "accuracy_sigmoid = accuracy_score(y_test, y_pred_sigmoid)\n",
        "precision_sigmoid = precision_score(y_test, y_pred_sigmoid, average='weighted')\n",
        "recall_sigmoid = recall_score(y_test, y_pred_sigmoid, average='weighted')\n",
        "\n",
        "print(\"\\nSigmoid Kernel:\")\n",
        "print(f\"Accuracy: {accuracy_sigmoid:.2f}, Precision: {precision_sigmoid:.2f}, Recall: {recall_sigmoid:.2f}\")\n"
      ],
      "metadata": {
        "colab": {
          "base_uri": "https://localhost:8080/"
        },
        "id": "K8E2MoZ-cPWc",
        "outputId": "85c63001-2e6d-4317-ccc0-a8ac6e3c5534"
      },
      "id": "K8E2MoZ-cPWc",
      "execution_count": 7,
      "outputs": [
        {
          "output_type": "stream",
          "name": "stdout",
          "text": [
            "Polynomial Kernel:\n",
            "Accuracy: 1.00, Precision: 1.00, Recall: 1.00\n",
            "\n",
            "RBF Kernel:\n",
            "Accuracy: 1.00, Precision: 1.00, Recall: 1.00\n",
            "\n",
            "Sigmoid Kernel:\n",
            "Accuracy: 0.50, Precision: 0.50, Recall: 0.50\n"
          ]
        }
      ]
    },
    {
      "cell_type": "markdown",
      "id": "d3d7d1c7-9b72-42f1-bef9-c003c94eb6c7",
      "metadata": {
        "id": "d3d7d1c7-9b72-42f1-bef9-c003c94eb6c7"
      },
      "source": [
        "### Exercise 2: Tuning the C Parameter\n",
        "\n",
        "1. **Low C Value**: Modify the code to set a low value for the `C` parameter (e.g., `C=0.1`) and observe how it affects the model's accuracy, precision, and recall.\n",
        "2. **High C Value**: Modify the code to set a high value for the `C` parameter (e.g., `C=1000`) and observe how it affects the model's accuracy, precision, and recall.\n",
        "3. **Intermediate C Value**: Modify the code to set an intermediate value for the `C` parameter (e.g., `C=1`) and observe how it affects the model's accuracy, precision, and recall.\n"
      ]
    },
    {
      "cell_type": "code",
      "source": [
        "import pandas as pd\n",
        "from sklearn.model_selection import train_test_split\n",
        "from sklearn.svm import SVC\n",
        "from sklearn.metrics import accuracy_score, precision_score, recall_score\n",
        "\n",
        "# Load your dataset\n",
        "data = pd.read_csv('fraudulent_transactions.csv')\n",
        "X = data.drop('fraud', axis=1)\n",
        "y = data['fraud']\n",
        "\n",
        "X_train, X_test, y_train, y_test = train_test_split(X, y, test_size=0.2, random_state=42)\n",
        "\n",
        "# Low C Value\n",
        "svm_low_c = SVC(C=0.1)\n",
        "svm_low_c.fit(X_train, y_train)\n",
        "y_pred_low_c = svm_low_c.predict(X_test)\n",
        "\n",
        "accuracy_low_c = accuracy_score(y_test, y_pred_low_c)\n",
        "precision_low_c = precision_score(y_test, y_pred_low_c, average='weighted')\n",
        "recall_low_c = recall_score(y_test, y_pred_low_c, average='weighted')\n",
        "\n",
        "print(\"Low C Value (C=0.1):\")\n",
        "print(f\"Accuracy: {accuracy_low_c:.2f}, Precision: {precision_low_c:.2f}, Recall: {recall_low_c:.2f}\")\n",
        "\n",
        "# High C Value\n",
        "svm_high_c = SVC(C=1000)\n",
        "svm_high_c.fit(X_train, y_train)\n",
        "y_pred_high_c = svm_high_c.predict(X_test)\n",
        "\n",
        "accuracy_high_c = accuracy_score(y_test, y_pred_high_c)\n",
        "precision_high_c = precision_score(y_test, y_pred_high_c, average='weighted')\n",
        "recall_high_c = recall_score(y_test, y_pred_high_c, average='weighted')\n",
        "\n",
        "print(\"\\nHigh C Value (C=1000):\")\n",
        "print(f\"Accuracy: {accuracy_high_c:.2f}, Precision: {precision_high_c:.2f}, Recall: {recall_high_c:.2f}\")\n",
        "\n",
        "# Intermediate C Value\n",
        "svm_intermediate_c = SVC(C=1)\n",
        "svm_intermediate_c.fit(X_train, y_train)\n",
        "y_pred_intermediate_c = svm_intermediate_c.predict(X_test)\n",
        "\n",
        "accuracy_intermediate_c = accuracy_score(y_test, y_pred_intermediate_c)\n",
        "precision_intermediate_c = precision_score(y_test, y_pred_intermediate_c, average='weighted')\n",
        "recall_intermediate_c = recall_score(y_test, y_pred_intermediate_c, average='weighted')\n",
        "\n",
        "print(\"\\nIntermediate C Value (C=1):\")\n",
        "print(f\"Accuracy: {accuracy_intermediate_c:.2f}, Precision: {precision_intermediate_c:.2f}, Recall: {recall_intermediate_c:.2f}\")\n"
      ],
      "metadata": {
        "colab": {
          "base_uri": "https://localhost:8080/"
        },
        "id": "cXbEjX15dT-r",
        "outputId": "e3349a49-d51b-4779-fce2-96635f4779b3"
      },
      "id": "cXbEjX15dT-r",
      "execution_count": 10,
      "outputs": [
        {
          "output_type": "stream",
          "name": "stdout",
          "text": [
            "Low C Value (C=0.1):\n",
            "Accuracy: 0.75, Precision: 0.56, Recall: 0.75\n",
            "\n",
            "High C Value (C=1000):\n",
            "Accuracy: 0.88, Precision: 0.89, Recall: 0.88\n",
            "\n",
            "Intermediate C Value (C=1):\n",
            "Accuracy: 1.00, Precision: 1.00, Recall: 1.00\n"
          ]
        },
        {
          "output_type": "stream",
          "name": "stderr",
          "text": [
            "/usr/local/lib/python3.10/dist-packages/sklearn/metrics/_classification.py:1531: UndefinedMetricWarning: Precision is ill-defined and being set to 0.0 in labels with no predicted samples. Use `zero_division` parameter to control this behavior.\n",
            "  _warn_prf(average, modifier, f\"{metric.capitalize()} is\", len(result))\n"
          ]
        }
      ]
    },
    {
      "cell_type": "markdown",
      "id": "ebd0ff95-3223-4f3b-8827-aeec7d0c3386",
      "metadata": {
        "id": "ebd0ff95-3223-4f3b-8827-aeec7d0c3386"
      },
      "source": [
        "### Exercise 3: Tuning the Gamma Parameter\n",
        "\n",
        "1. **Low Gamma Value**: Modify the code to set a low value for the `gamma` parameter (e.g., `gamma=0.01`) when using the RBF kernel and observe how it affects the model's accuracy, precision, and recall.\n",
        "2. **High Gamma Value**: Modify the code to set a high value for the `gamma` parameter (e.g., `gamma=1`) when using the RBF kernel and observe how it affects the model's accuracy, precision, and recall.\n",
        "3. **Default Gamma Value**: Modify the code to use the default value for the `gamma` parameter (`gamma='scale'`) when using the RBF kernel and observe how it affects the model's accuracy, precision, and recall."
      ]
    },
    {
      "cell_type": "code",
      "source": [
        "import pandas as pd\n",
        "from sklearn.model_selection import train_test_split\n",
        "from sklearn.svm import SVC\n",
        "from sklearn.metrics import accuracy_score, precision_score, recall_score\n",
        "\n",
        "# Charger le dataset\n",
        "data = pd.read_csv('fraudulent_transactions.csv')\n",
        "X = data.drop('fraud', axis=1)  # Suppression de la colonne cible\n",
        "y = data['fraud']  # Colonne cible\n",
        "\n",
        "X_train, X_test, y_train, y_test = train_test_split(X, y, test_size=0.2, random_state=42)\n",
        "\n",
        "# Valeur faible de gamma\n",
        "svm_low_gamma = SVC(kernel='rbf', gamma=0.01)\n",
        "svm_low_gamma.fit(X_train, y_train)\n",
        "y_pred_low_gamma = svm_low_gamma.predict(X_test)\n",
        "\n",
        "accuracy_low_gamma = accuracy_score(y_test, y_pred_low_gamma)\n",
        "precision_low_gamma = precision_score(y_test, y_pred_low_gamma, average='weighted')\n",
        "recall_low_gamma = recall_score(y_test, y_pred_low_gamma, average='weighted')\n",
        "\n",
        "print(\"Low Gamma Value (gamma=0.01):\")\n",
        "print(f\"Accuracy: {accuracy_low_gamma:.2f}, Precision: {precision_low_gamma:.2f}, Recall: {recall_low_gamma:.2f}\")\n",
        "\n",
        "# Valeur élevée de gamma\n",
        "svm_high_gamma = SVC(kernel='rbf', gamma=1)\n",
        "svm_high_gamma.fit(X_train, y_train)\n",
        "y_pred_high_gamma = svm_high_gamma.predict(X_test)\n",
        "\n",
        "accuracy_high_gamma = accuracy_score(y_test, y_pred_high_gamma)\n",
        "precision_high_gamma = precision_score(y_test, y_pred_high_gamma, average='weighted')\n",
        "recall_high_gamma = recall_score(y_test, y_pred_high_gamma, average='weighted')\n",
        "\n",
        "print(\"\\nHigh Gamma Value (gamma=1):\")\n",
        "print(f\"Accuracy: {accuracy_high_gamma:.2f}, Precision: {precision_high_gamma:.2f}, Recall: {recall_high_gamma:.2f}\")\n",
        "\n",
        "# Valeur par défaut de gamma\n",
        "svm_default_gamma = SVC(kernel='rbf', gamma='scale')\n",
        "svm_default_gamma.fit(X_train, y_train)\n",
        "y_pred_default_gamma = svm_default_gamma.predict(X_test)\n",
        "\n",
        "accuracy_default_gamma = accuracy_score(y_test, y_pred_default_gamma)\n",
        "precision_default_gamma = precision_score(y_test, y_pred_default_gamma, average='weighted')\n",
        "recall_default_gamma = recall_score(y_test, y_pred_default_gamma, average='weighted')\n",
        "\n",
        "print(\"\\nDefault Gamma Value (gamma='scale'):\")\n",
        "print(f\"Accuracy: {accuracy_default_gamma:.2f}, Precision: {precision_default_gamma:.2f}, Recall: {recall_default_gamma:.2f}\")\n"
      ],
      "metadata": {
        "colab": {
          "base_uri": "https://localhost:8080/"
        },
        "id": "9SjX3EcJfa3k",
        "outputId": "80da6cf8-6207-472b-b500-d1e8cd2acac1"
      },
      "id": "9SjX3EcJfa3k",
      "execution_count": 12,
      "outputs": [
        {
          "output_type": "stream",
          "name": "stdout",
          "text": [
            "Low Gamma Value (gamma=0.01):\n",
            "Accuracy: 1.00, Precision: 1.00, Recall: 1.00\n",
            "\n",
            "High Gamma Value (gamma=1):\n",
            "Accuracy: 0.88, Precision: 0.89, Recall: 0.88\n",
            "\n",
            "Default Gamma Value (gamma='scale'):\n",
            "Accuracy: 1.00, Precision: 1.00, Recall: 1.00\n"
          ]
        }
      ]
    },
    {
      "cell_type": "markdown",
      "id": "c8cb9eeb-d472-40f7-bad6-7cc460ce95e9",
      "metadata": {
        "id": "c8cb9eeb-d472-40f7-bad6-7cc460ce95e9"
      },
      "source": [
        "### Exercise 4: Combining Parameter Changes\n",
        "\n",
        "1. **Combination 1**: Modify the code to use a polynomial kernel with `degree=3` and `C=1`. Observe the changes in accuracy, precision, and recall.\n",
        "2. **Combination 2**: Modify the code to use an RBF kernel with `gamma=0.1` and `C=10`. Observe the changes in accuracy, precision, and recall.\n",
        "3. **Combination 3**: Modify the code to use a sigmoid kernel with `C=0.5` and `gamma=0.5`. Observe the changes in accuracy, precision, and recall."
      ]
    },
    {
      "cell_type": "code",
      "source": [
        "import pandas as pd\n",
        "from sklearn.model_selection import train_test_split\n",
        "from sklearn.svm import SVC\n",
        "from sklearn.metrics import accuracy_score, precision_score, recall_score\n",
        "\n",
        "# Charger le dataset\n",
        "data = pd.read_csv('fraudulent_transactions.csv')\n",
        "X = data.drop('fraud', axis=1)  # Suppression de la colonne cible\n",
        "y = data['fraud']  # Colonne cible\n",
        "\n",
        "X_train, X_test, y_train, y_test = train_test_split(X, y, test_size=0.2, random_state=42)\n",
        "\n",
        "# Combination 1: Polynomial Kernel with degree=3 and C=1\n",
        "svm_poly = SVC(kernel='poly', degree=3, C=1)\n",
        "svm_poly.fit(X_train, y_train)\n",
        "y_pred_poly = svm_poly.predict(X_test)\n",
        "\n",
        "accuracy_poly = accuracy_score(y_test, y_pred_poly)\n",
        "precision_poly = precision_score(y_test, y_pred_poly, average='weighted')\n",
        "recall_poly = recall_score(y_test, y_pred_poly, average='weighted')\n",
        "\n",
        "print(\"Combination 1 (Polynomial Kernel, degree=3, C=1):\")\n",
        "print(f\"Accuracy: {accuracy_poly:.2f}, Precision: {precision_poly:.2f}, Recall: {recall_poly:.2f}\")\n",
        "\n",
        "# Combination 2: RBF Kernel with gamma=0.1 and C=10\n",
        "svm_rbf = SVC(kernel='rbf', gamma=0.1, C=10)\n",
        "svm_rbf.fit(X_train, y_train)\n",
        "y_pred_rbf = svm_rbf.predict(X_test)\n",
        "\n",
        "accuracy_rbf = accuracy_score(y_test, y_pred_rbf)\n",
        "precision_rbf = precision_score(y_test, y_pred_rbf, average='weighted')\n",
        "recall_rbf = recall_score(y_test, y_pred_rbf, average='weighted')\n",
        "\n",
        "print(\"\\nCombination 2 (RBF Kernel, gamma=0.1, C=10):\")\n",
        "print(f\"Accuracy: {accuracy_rbf:.2f}, Precision: {precision_rbf:.2f}, Recall: {recall_rbf:.2f}\")\n",
        "\n",
        "# Combination 3: Sigmoid Kernel with C=0.5 and gamma=0.5\n",
        "svm_sigmoid = SVC(kernel='sigmoid', C=0.5, gamma=0.5)\n",
        "svm_sigmoid.fit(X_train, y_train)\n",
        "y_pred_sigmoid = svm_sigmoid.predict(X_test)\n",
        "\n",
        "accuracy_sigmoid = accuracy_score(y_test, y_pred_sigmoid)\n",
        "precision_sigmoid = precision_score(y_test, y_pred_sigmoid, average='weighted')\n",
        "recall_sigmoid = recall_score(y_test, y_pred_sigmoid, average='weighted')\n",
        "\n",
        "print(\"\\nCombination 3 (Sigmoid Kernel, C=0.5, gamma=0.5):\")\n",
        "print(f\"Accuracy: {accuracy_sigmoid:.2f}, Precision: {precision_sigmoid:.2f}, Recall: {recall_sigmoid:.2f}\")\n"
      ],
      "metadata": {
        "colab": {
          "base_uri": "https://localhost:8080/"
        },
        "id": "xotEA6CVgTv0",
        "outputId": "3ccf60ad-2fb1-4e44-deca-46ac093891a1"
      },
      "id": "xotEA6CVgTv0",
      "execution_count": 13,
      "outputs": [
        {
          "output_type": "stream",
          "name": "stdout",
          "text": [
            "Combination 1 (Polynomial Kernel, degree=3, C=1):\n",
            "Accuracy: 1.00, Precision: 1.00, Recall: 1.00\n",
            "\n",
            "Combination 2 (RBF Kernel, gamma=0.1, C=10):\n",
            "Accuracy: 0.88, Precision: 0.89, Recall: 0.88\n",
            "\n",
            "Combination 3 (Sigmoid Kernel, C=0.5, gamma=0.5):\n",
            "Accuracy: 0.75, Precision: 0.56, Recall: 0.75\n"
          ]
        },
        {
          "output_type": "stream",
          "name": "stderr",
          "text": [
            "/usr/local/lib/python3.10/dist-packages/sklearn/metrics/_classification.py:1531: UndefinedMetricWarning: Precision is ill-defined and being set to 0.0 in labels with no predicted samples. Use `zero_division` parameter to control this behavior.\n",
            "  _warn_prf(average, modifier, f\"{metric.capitalize()} is\", len(result))\n"
          ]
        }
      ]
    },
    {
      "cell_type": "markdown",
      "id": "c5a156ad-3f55-4caf-ac70-49d0eaaa45f8",
      "metadata": {
        "id": "c5a156ad-3f55-4caf-ac70-49d0eaaa45f8"
      },
      "source": [
        "### Exercise 5: Cross-Validation\n",
        "\n",
        "1. **Cross-Validation with Linear Kernel**: Modify the code to use cross-validation with a linear kernel and observe the changes in the model's performance metrics.\n",
        "2. **Cross-Validation with RBF Kernel**: Modify the code to use cross-validation with an RBF kernel and different values of `gamma` and `C`. Observe the changes in the model's performance metrics.\n",
        "3. **Cross-Validation with Polynomial Kernel**: Modify the code to use cross-validation with a polynomial kernel and different values of `degree` and `C`. Observe the changes in the model's performance metrics."
      ]
    },
    {
      "cell_type": "code",
      "source": [
        "import pandas as pd\n",
        "from sklearn.model_selection import train_test_split, cross_val_score\n",
        "from sklearn.svm import SVC\n",
        "from sklearn.metrics import make_scorer, accuracy_score, precision_score, recall_score\n",
        "\n",
        "# Charger le dataset\n",
        "data = pd.read_csv('fraudulent_transactions.csv')\n",
        "X = data.drop('fraud', axis=1)  # Suppression de la colonne cible\n",
        "y = data['fraud']  # Colonne cible\n",
        "\n",
        "# Cross-Validation with Linear Kernel\n",
        "svm_linear = SVC(kernel='linear', C=1)\n",
        "scores_linear = cross_val_score(svm_linear, X, y, cv=5, scoring='accuracy')\n",
        "\n",
        "print(\"Cross-Validation with Linear Kernel:\")\n",
        "print(f\"Accuracy: {scores_linear.mean():.2f} ± {scores_linear.std():.2f}\")\n",
        "\n",
        "# Cross-Validation with RBF Kernel\n",
        "gamma_values = [0.01, 0.1, 1]\n",
        "C_values = [1, 10]\n",
        "\n",
        "for gamma in gamma_values:\n",
        "    for C in C_values:\n",
        "        svm_rbf = SVC(kernel='rbf', gamma=gamma, C=C)\n",
        "        scores_rbf = cross_val_score(svm_rbf, X, y, cv=5, scoring='accuracy')\n",
        "        print(f\"\\nCross-Validation with RBF Kernel (gamma={gamma}, C={C}):\")\n",
        "        print(f\"Accuracy: {scores_rbf.mean():.2f} ± {scores_rbf.std():.2f}\")\n",
        "\n",
        "# Cross-Validation with Polynomial Kernel\n",
        "degree_values = [2, 3]\n",
        "C_values_poly = [1, 10]\n",
        "\n",
        "for degree in degree_values:\n",
        "    for C in C_values_poly:\n",
        "        svm_poly = SVC(kernel='poly', degree=degree, C=C)\n",
        "        scores_poly = cross_val_score(svm_poly, X, y, cv=5, scoring='accuracy')\n",
        "        print(f\"\\nCross-Validation with Polynomial Kernel (degree={degree}, C={C}):\")\n",
        "        print(f\"Accuracy: {scores_poly.mean():.2f} ± {scores_poly.std():.2f}\")\n"
      ],
      "metadata": {
        "colab": {
          "base_uri": "https://localhost:8080/"
        },
        "id": "mcdQjll9gZbA",
        "outputId": "363bce4d-13e3-4ae5-fe97-cbaa36fb3fdb"
      },
      "id": "mcdQjll9gZbA",
      "execution_count": 14,
      "outputs": [
        {
          "output_type": "stream",
          "name": "stdout",
          "text": [
            "Cross-Validation with Linear Kernel:\n",
            "Accuracy: 0.95 ± 0.10\n",
            "\n",
            "Cross-Validation with RBF Kernel (gamma=0.01, C=1):\n",
            "Accuracy: 0.95 ± 0.10\n",
            "\n",
            "Cross-Validation with RBF Kernel (gamma=0.01, C=10):\n",
            "Accuracy: 0.95 ± 0.10\n",
            "\n",
            "Cross-Validation with RBF Kernel (gamma=0.1, C=1):\n",
            "Accuracy: 0.95 ± 0.10\n",
            "\n",
            "Cross-Validation with RBF Kernel (gamma=0.1, C=10):\n",
            "Accuracy: 0.95 ± 0.10\n",
            "\n",
            "Cross-Validation with RBF Kernel (gamma=1, C=1):\n",
            "Accuracy: 0.93 ± 0.10\n",
            "\n",
            "Cross-Validation with RBF Kernel (gamma=1, C=10):\n",
            "Accuracy: 0.93 ± 0.10\n",
            "\n",
            "Cross-Validation with Polynomial Kernel (degree=2, C=1):\n",
            "Accuracy: 0.95 ± 0.10\n",
            "\n",
            "Cross-Validation with Polynomial Kernel (degree=2, C=10):\n",
            "Accuracy: 0.95 ± 0.10\n",
            "\n",
            "Cross-Validation with Polynomial Kernel (degree=3, C=1):\n",
            "Accuracy: 0.95 ± 0.10\n",
            "\n",
            "Cross-Validation with Polynomial Kernel (degree=3, C=10):\n",
            "Accuracy: 0.95 ± 0.10\n"
          ]
        }
      ]
    },
    {
      "cell_type": "markdown",
      "id": "bbf5964a-3802-4502-9a41-eee7f9e8523a",
      "metadata": {
        "id": "bbf5964a-3802-4502-9a41-eee7f9e8523a"
      },
      "source": [
        "### Exercise 6: Feature Scaling\n",
        "\n",
        "1. **Without Scaling**: Observe the SVM model performance without scaling the features.\n",
        "2. **With Standard Scaling**: Use `StandardScaler` from `sklearn.preprocessing` to scale the features and observe the changes in model performance.\n",
        "3. **With MinMax Scaling**: Use `MinMaxScaler` from `sklearn.preprocessing` to scale the features and observe the changes in model performance."
      ]
    },
    {
      "cell_type": "code",
      "source": [
        "import pandas as pd\n",
        "from sklearn.model_selection import train_test_split, cross_val_score\n",
        "from sklearn.svm import SVC\n",
        "from sklearn.preprocessing import StandardScaler, MinMaxScaler\n",
        "from sklearn.metrics import accuracy_score, precision_score, recall_score\n",
        "\n",
        "# Charger le dataset\n",
        "data = pd.read_csv('fraudulent_transactions.csv')\n",
        "X = data.drop('fraud', axis=1)  # Suppression de la colonne cible\n",
        "y = data['fraud']  # Colonne cible\n",
        "\n",
        "# 1. Without Scaling\n",
        "svm_no_scaling = SVC(kernel='rbf', gamma=0.1, C=10)\n",
        "scores_no_scaling = cross_val_score(svm_no_scaling, X, y, cv=5, scoring='accuracy')\n",
        "print(\"Without Scaling:\")\n",
        "print(f\"Accuracy: {scores_no_scaling.mean():.2f} ± {scores_no_scaling.std():.2f}\")\n",
        "\n",
        "# 2. With Standard Scaling\n",
        "scaler_standard = StandardScaler()\n",
        "X_standard_scaled = scaler_standard.fit_transform(X)\n",
        "\n",
        "svm_standard_scaling = SVC(kernel='rbf', gamma=0.1, C=10)\n",
        "scores_standard_scaling = cross_val_score(svm_standard_scaling, X_standard_scaled, y, cv=5, scoring='accuracy')\n",
        "print(\"\\nWith Standard Scaling:\")\n",
        "print(f\"Accuracy: {scores_standard_scaling.mean():.2f} ± {scores_standard_scaling.std():.2f}\")\n",
        "\n",
        "# 3. With MinMax Scaling\n",
        "scaler_minmax = MinMaxScaler()\n",
        "X_minmax_scaled = scaler_minmax.fit_transform(X)\n",
        "\n",
        "svm_minmax_scaling = SVC(kernel='rbf', gamma=0.1, C=10)\n",
        "scores_minmax_scaling = cross_val_score(svm_minmax_scaling, X_minmax_scaled, y, cv=5, scoring='accuracy')\n",
        "print(\"\\nWith MinMax Scaling:\")\n",
        "print(f\"Accuracy: {scores_minmax_scaling.mean():.2f} ± {scores_minmax_scaling.std():.2f}\")\n"
      ],
      "metadata": {
        "colab": {
          "base_uri": "https://localhost:8080/"
        },
        "id": "kwyLgY3KhBiF",
        "outputId": "ffe8a27d-4a91-4059-a53e-fd24b3aef236"
      },
      "id": "kwyLgY3KhBiF",
      "execution_count": 15,
      "outputs": [
        {
          "output_type": "stream",
          "name": "stdout",
          "text": [
            "Without Scaling:\n",
            "Accuracy: 0.95 ± 0.10\n",
            "\n",
            "With Standard Scaling:\n",
            "Accuracy: 0.97 ± 0.05\n",
            "\n",
            "With MinMax Scaling:\n",
            "Accuracy: 0.95 ± 0.07\n"
          ]
        }
      ]
    },
    {
      "cell_type": "markdown",
      "id": "577d05ea-ab54-4c8b-bc07-95844e6e38ef",
      "metadata": {
        "id": "577d05ea-ab54-4c8b-bc07-95844e6e38ef"
      },
      "source": [
        "### Exercise 7: Handling Imbalanced Data\n",
        "\n",
        "1. **Class Weights Adjustment**: Modify the `class_weight` parameter to handle imbalanced data and observe the changes in model performance.\n",
        "2. **SMOTE (Synthetic Minority Over-sampling Technique)**: Use the `SMOTE` technique to balance the dataset and observe the changes in model performance."
      ]
    },
    {
      "cell_type": "code",
      "source": [
        "import pandas as pd\n",
        "from sklearn.model_selection import train_test_split, cross_val_score\n",
        "from sklearn.svm import SVC\n",
        "from sklearn.metrics import accuracy_score, precision_score, recall_score\n",
        "\n",
        "# Charger le dataset\n",
        "data = pd.read_csv('fraudulent_transactions.csv')\n",
        "X = data.drop('fraud', axis=1)  # Suppression de la colonne cible\n",
        "y = data['fraud']  # Colonne cible\n",
        "\n",
        "# Cross-Validation with Class Weights Adjustment\n",
        "svm_class_weight = SVC(kernel='rbf', gamma=0.1, C=10, class_weight='balanced')\n",
        "scores_class_weight = cross_val_score(svm_class_weight, X, y, cv=5, scoring='accuracy')\n",
        "\n",
        "print(\"Class Weights Adjustment:\")\n",
        "print(f\"Accuracy: {scores_class_weight.mean():.2f} ± {scores_class_weight.std():.2f}\")\n",
        "\n"
      ],
      "metadata": {
        "colab": {
          "base_uri": "https://localhost:8080/"
        },
        "id": "JWbvMY83hdrg",
        "outputId": "765ce2bb-a256-4b8e-9a0b-1b8db915dbd4"
      },
      "id": "JWbvMY83hdrg",
      "execution_count": 16,
      "outputs": [
        {
          "output_type": "stream",
          "name": "stdout",
          "text": [
            "Class Weights Adjustment:\n",
            "Accuracy: 0.95 ± 0.10\n"
          ]
        }
      ]
    },
    {
      "cell_type": "code",
      "source": [
        "from imblearn.over_sampling import SMOTE\n",
        "\n",
        "# Appliquer SMOTE pour équilibrer le dataset\n",
        "smote = SMOTE(random_state=42)\n",
        "X_resampled, y_resampled = smote.fit_resample(X, y)\n",
        "\n",
        "# Cross-Validation with SMOTE\n",
        "svm_smote = SVC(kernel='rbf', gamma=0.1, C=10)\n",
        "scores_smote = cross_val_score(svm_smote, X_resampled, y_resampled, cv=5, scoring='accuracy')\n",
        "\n",
        "print(\"\\nSMOTE Technique:\")\n",
        "print(f\"Accuracy: {scores_smote.mean():.2f} ± {scores_smote.std():.2f}\")\n"
      ],
      "metadata": {
        "colab": {
          "base_uri": "https://localhost:8080/"
        },
        "id": "82AubbXtiOwq",
        "outputId": "c9a87cad-42b2-4791-957c-ba58bc6d29c2"
      },
      "id": "82AubbXtiOwq",
      "execution_count": 17,
      "outputs": [
        {
          "output_type": "stream",
          "name": "stdout",
          "text": [
            "\n",
            "SMOTE Technique:\n",
            "Accuracy: 0.96 ± 0.08\n"
          ]
        }
      ]
    },
    {
      "cell_type": "markdown",
      "id": "8f3f774b-cc3a-4d4c-b930-10533ce770cb",
      "metadata": {
        "id": "8f3f774b-cc3a-4d4c-b930-10533ce770cb"
      },
      "source": [
        "### Exercise 8: Learning Curves\n",
        "\n",
        "1. **Plot Learning Curves**: Modify the code to plot learning curves to visualize the training and validation scores.\n",
        "2. **Analyze Overfitting and Underfitting**: Use the learning curves to analyze if the model is overfitting or underfitting."
      ]
    },
    {
      "cell_type": "code",
      "source": [
        "import pandas as pd\n",
        "import numpy as np\n",
        "import matplotlib.pyplot as plt\n",
        "from sklearn.model_selection import train_test_split, learning_curve\n",
        "from sklearn.svm import SVC\n",
        "from sklearn.preprocessing import StandardScaler\n",
        "\n",
        "# Charger le dataset\n",
        "data = pd.read_csv('fraudulent_transactions.csv')\n",
        "X = data.drop('fraud', axis=1)  # Suppression de la colonne cible\n",
        "y = data['fraud']  # Colonne cible\n",
        "\n",
        "# Mise à l'échelle des caractéristiques\n",
        "scaler = StandardScaler()\n",
        "X_scaled = scaler.fit_transform(X)\n",
        "\n",
        "# Définir le modèle SVM\n",
        "svm_model = SVC(kernel='rbf', gamma=0.1, C=10)\n",
        "\n",
        "# Tracer les courbes d'apprentissage\n",
        "train_sizes, train_scores, test_scores = learning_curve(svm_model, X_scaled, y, cv=5, n_jobs=-1,\n",
        "                                                          train_sizes=np.linspace(0.1, 1.0, 10))\n",
        "\n",
        "# Calculer les moyennes et les écarts types\n",
        "train_scores_mean = np.mean(train_scores, axis=1)\n",
        "train_scores_std = np.std(train_scores, axis=1)\n",
        "test_scores_mean = np.mean(test_scores, axis=1)\n",
        "test_scores_std = np.std(test_scores, axis=1)\n",
        "\n",
        "# Tracer les courbes\n",
        "plt.figure(figsize=(10, 6))\n",
        "plt.plot(train_sizes, train_scores_mean, 'o-', color='r', label='Training score')\n",
        "plt.plot(train_sizes, test_scores_mean, 'o-', color='g', label='Validation score')\n",
        "\n",
        "# Tracer les intervalles de confiance\n",
        "plt.fill_between(train_sizes, train_scores_mean - train_scores_std, train_scores_mean + train_scores_std,\n",
        "                 color='r', alpha=0.1)\n",
        "plt.fill_between(train_sizes, test_scores_mean - test_scores_std, test_scores_mean + test_scores_std,\n",
        "                 color='g', alpha=0.1)\n",
        "\n",
        "plt.title('Learning Curves (SVM)')\n",
        "plt.xlabel('Training Size')\n",
        "plt.ylabel('Score')\n",
        "plt.legend(loc='best')\n",
        "plt.grid()\n",
        "plt.show()\n"
      ],
      "metadata": {
        "colab": {
          "base_uri": "https://localhost:8080/",
          "height": 911
        },
        "id": "Tr1GHXrtiVpB",
        "outputId": "225b5079-7398-4c85-a205-96d11c3180a5"
      },
      "id": "Tr1GHXrtiVpB",
      "execution_count": 18,
      "outputs": [
        {
          "output_type": "stream",
          "name": "stderr",
          "text": [
            "/usr/local/lib/python3.10/dist-packages/sklearn/model_selection/_validation.py:540: FitFailedWarning: \n",
            "5 fits failed out of a total of 50.\n",
            "The score on these train-test partitions for these parameters will be set to nan.\n",
            "If these failures are not expected, you can try to debug them by setting error_score='raise'.\n",
            "\n",
            "Below are more details about the failures:\n",
            "--------------------------------------------------------------------------------\n",
            "5 fits failed with the following error:\n",
            "Traceback (most recent call last):\n",
            "  File \"/usr/local/lib/python3.10/dist-packages/sklearn/model_selection/_validation.py\", line 888, in _fit_and_score\n",
            "    estimator.fit(X_train, y_train, **fit_params)\n",
            "  File \"/usr/local/lib/python3.10/dist-packages/sklearn/base.py\", line 1473, in wrapper\n",
            "    return fit_method(estimator, *args, **kwargs)\n",
            "  File \"/usr/local/lib/python3.10/dist-packages/sklearn/svm/_base.py\", line 199, in fit\n",
            "    y = self._validate_targets(y)\n",
            "  File \"/usr/local/lib/python3.10/dist-packages/sklearn/svm/_base.py\", line 742, in _validate_targets\n",
            "    raise ValueError(\n",
            "ValueError: The number of classes has to be greater than one; got 1 class\n",
            "\n",
            "  warnings.warn(some_fits_failed_message, FitFailedWarning)\n"
          ]
        },
        {
          "output_type": "display_data",
          "data": {
            "text/plain": [
              "<Figure size 1000x600 with 1 Axes>"
            ],
            "image/png": "[encoded data removed]"
          },
          "metadata": {}
        }
      ]
    },
    {
      "cell_type": "markdown",
      "id": "54db9d90-e825-49c5-8eda-c1a920d58366",
      "metadata": {
        "id": "54db9d90-e825-49c5-8eda-c1a920d58366"
      },
      "source": [
        "### Exercise 9: Grid Search for Hyperparameter Tuning\n",
        "\n",
        "1. **Grid Search with Linear Kernel**: Use `GridSearchCV` to find the best parameters for an SVM with a linear kernel.\n",
        "2. **Grid Search with RBF Kernel**: Use `GridSearchCV` to find the best parameters for an SVM with an RBF kernel.\n",
        "3. **Grid Search with Polynomial Kernel**: Use `GridSearchCV` to find the best parameters for an SVM with a polynomial kernel."
      ]
    },
    {
      "cell_type": "code",
      "source": [
        "import pandas as pd\n",
        "from sklearn.model_selection import GridSearchCV\n",
        "from sklearn.svm import SVC\n",
        "\n",
        "# Charger le dataset\n",
        "data = pd.read_csv('fraudulent_transactions.csv')\n",
        "X = data.drop('fraud', axis=1)  # Suppression de la colonne cible\n",
        "y = data['fraud']  # Colonne cible\n",
        "\n",
        "# Définir le modèle SVM avec un noyau linéaire\n",
        "svm_linear = SVC(kernel='linear')\n",
        "\n",
        "# Définir les paramètres à tester\n",
        "param_grid_linear = {\n",
        "    'C': [0.1, 1, 10, 100],\n",
        "    'class_weight': [None, 'balanced']\n",
        "}\n",
        "\n",
        "# Grid Search\n",
        "grid_search_linear = GridSearchCV(svm_linear, param_grid_linear, cv=5, scoring='accuracy')\n",
        "grid_search_linear.fit(X, y)\n",
        "\n",
        "print(\"Best parameters for Linear Kernel:\")\n",
        "print(grid_search_linear.best_params_)\n",
        "print(f\"Best cross-validation accuracy: {grid_search_linear.best_score_:.2f}\")\n"
      ],
      "metadata": {
        "colab": {
          "base_uri": "https://localhost:8080/"
        },
        "id": "B_zsZctiiheV",
        "outputId": "7ee596cc-dfa5-4dc3-a85d-c329f8b320b0"
      },
      "id": "B_zsZctiiheV",
      "execution_count": 19,
      "outputs": [
        {
          "output_type": "stream",
          "name": "stdout",
          "text": [
            "Best parameters for Linear Kernel:\n",
            "{'C': 0.1, 'class_weight': None}\n",
            "Best cross-validation accuracy: 0.95\n"
          ]
        }
      ]
    },
    {
      "cell_type": "code",
      "source": [
        "# Définir le modèle SVM avec un noyau RBF\n",
        "svm_rbf = SVC(kernel='rbf')\n",
        "\n",
        "# Définir les paramètres à tester\n",
        "param_grid_rbf = {\n",
        "    'C': [0.1, 1, 10, 100],\n",
        "    'gamma': [0.01, 0.1, 1, 10],\n",
        "    'class_weight': [None, 'balanced']\n",
        "}\n",
        "\n",
        "# Grid Search\n",
        "grid_search_rbf = GridSearchCV(svm_rbf, param_grid_rbf, cv=5, scoring='accuracy')\n",
        "grid_search_rbf.fit(X, y)\n",
        "\n",
        "print(\"\\nBest parameters for RBF Kernel:\")\n",
        "print(grid_search_rbf.best_params_)\n",
        "print(f\"Best cross-validation accuracy: {grid_search_rbf.best_score_:.2f}\")\n"
      ],
      "metadata": {
        "colab": {
          "base_uri": "https://localhost:8080/"
        },
        "id": "RQcZcFkliqWT",
        "outputId": "9f71033d-18b3-485d-fe60-4ce6993c8780"
      },
      "id": "RQcZcFkliqWT",
      "execution_count": 20,
      "outputs": [
        {
          "output_type": "stream",
          "name": "stdout",
          "text": [
            "\n",
            "Best parameters for RBF Kernel:\n",
            "{'C': 0.1, 'class_weight': 'balanced', 'gamma': 0.1}\n",
            "Best cross-validation accuracy: 0.95\n"
          ]
        }
      ]
    },
    {
      "cell_type": "code",
      "source": [
        "# Définir le modèle SVM avec un noyau polynomial\n",
        "svm_poly = SVC(kernel='poly')\n",
        "\n",
        "# Définir les paramètres à tester\n",
        "param_grid_poly = {\n",
        "    'C': [0.1, 1, 10, 100],\n",
        "    'degree': [2, 3, 4],\n",
        "    'class_weight': [None, 'balanced']\n",
        "}\n",
        "\n",
        "# Grid Search\n",
        "grid_search_poly = GridSearchCV(svm_poly, param_grid_poly, cv=5, scoring='accuracy')\n",
        "grid_search_poly.fit(X, y)\n",
        "\n",
        "print(\"\\nBest parameters for Polynomial Kernel:\")\n",
        "print(grid_search_poly.best_params_)\n",
        "print(f\"Best cross-validation accuracy: {grid_search_poly.best_score_:.2f}\")\n"
      ],
      "metadata": {
        "colab": {
          "base_uri": "https://localhost:8080/"
        },
        "id": "wfeRZVdyiuKz",
        "outputId": "52062831-a89b-4496-96e7-d9a29fe2dc3c"
      },
      "id": "wfeRZVdyiuKz",
      "execution_count": 21,
      "outputs": [
        {
          "output_type": "stream",
          "name": "stdout",
          "text": [
            "\n",
            "Best parameters for Polynomial Kernel:\n",
            "{'C': 1, 'class_weight': None, 'degree': 2}\n",
            "Best cross-validation accuracy: 0.95\n"
          ]
        }
      ]
    },
    {
      "cell_type": "markdown",
      "id": "932a51b3-3806-4396-90aa-6ae347665674",
      "metadata": {
        "id": "932a51b3-3806-4396-90aa-6ae347665674"
      },
      "source": [
        "### Exercise 10: SVM for Regression\n",
        "\n",
        "1. **SVR (Support Vector Regression)**: Modify the code to use SVR for a regression problem and observe the model's performance.\n",
        "2. **Tuning SVR Parameters**: Experiment with different parameters for SVR and observe the changes in model performance."
      ]
    },
    {
      "cell_type": "code",
      "source": [
        "import numpy as np\n",
        "import pandas as pd\n",
        "from sklearn.model_selection import train_test_split\n",
        "from sklearn.svm import SVR\n",
        "from sklearn.metrics import mean_squared_error, r2_score\n",
        "import matplotlib.pyplot as plt\n",
        "\n",
        "# Générer un dataset synthétique pour la régression\n",
        "X = np.random.rand(100, 1) * 10  # 100 échantillons, 1 caractéristique\n",
        "y = 2.5 * X.flatten() + np.random.randn(100) * 2  # Relation linéaire avec bruit\n",
        "\n",
        "# Diviser le dataset\n",
        "X_train, X_test, y_train, y_test = train_test_split(X, y, test_size=0.2, random_state=42)\n",
        "\n",
        "# Utiliser SVR\n",
        "svr_model = SVR(kernel='rbf', C=1.0, gamma='scale')\n",
        "svr_model.fit(X_train, y_train)\n",
        "\n",
        "# Prédictions\n",
        "y_pred = svr_model.predict(X_test)\n",
        "\n",
        "# Évaluer le modèle\n",
        "mse = mean_squared_error(y_test, y_pred)\n",
        "r2 = r2_score(y_test, y_pred)\n",
        "\n",
        "print(\"SVR Model Performance:\")\n",
        "print(f\"Mean Squared Error: {mse:.2f}\")\n",
        "print(f\"R^2 Score: {r2:.2f}\")\n",
        "\n",
        "# Tracer les résultats\n",
        "plt.scatter(X_test, y_test, color='red', label='Actual')\n",
        "plt.scatter(X_test, y_pred, color='blue', label='Predicted')\n",
        "plt.title('SVR Predictions')\n",
        "plt.xlabel('Feature')\n",
        "plt.ylabel('Target')\n",
        "plt.legend()\n",
        "plt.show()\n"
      ],
      "metadata": {
        "colab": {
          "base_uri": "https://localhost:8080/",
          "height": 524
        },
        "id": "tRkFZSmiiyau",
        "outputId": "8affa5f8-cf5d-4ce0-8316-e2bf5f68225b"
      },
      "id": "tRkFZSmiiyau",
      "execution_count": 22,
      "outputs": [
        {
          "output_type": "stream",
          "name": "stdout",
          "text": [
            "SVR Model Performance:\n",
            "Mean Squared Error: 3.84\n",
            "R^2 Score: 0.93\n"
          ]
        },
        {
          "output_type": "display_data",
          "data": {
            "text/plain": [
              "<Figure size 640x480 with 1 Axes>"
            ],
            "image/png": "[encoded data removed]"
          },
          "metadata": {}
        }
      ]
    },
    {
      "cell_type": "code",
      "source": [
        "from sklearn.model_selection import GridSearchCV\n",
        "\n",
        "# Définir le modèle SVR\n",
        "svr = SVR()\n",
        "\n",
        "# Définir les paramètres à tester\n",
        "param_grid = {\n",
        "    'C': [0.1, 1, 10, 100],\n",
        "    'gamma': ['scale', 'auto', 0.01, 0.1, 1],\n",
        "    'kernel': ['linear', 'rbf', 'poly']\n",
        "}\n",
        "\n",
        "# Grid Search\n",
        "grid_search = GridSearchCV(svr, param_grid, cv=5, scoring='neg_mean_squared_error')\n",
        "grid_search.fit(X_train, y_train)\n",
        "\n",
        "print(\"\\nBest parameters for SVR:\")\n",
        "print(grid_search.best_params_)\n",
        "print(f\"Best cross-validation MSE: {-grid_search.best_score_:.2f}\")\n",
        "\n",
        "# Évaluer le meilleur modèle\n",
        "best_svr = grid_search.best_estimator_\n",
        "y_pred_best = best_svr.predict(X_test)\n",
        "\n",
        "mse_best = mean_squared_error(y_test, y_pred_best)\n",
        "r2_best = r2_score(y_test, y_pred_best)\n",
        "\n",
        "print(f\"Best SVR Model Performance:\")\n",
        "print(f\"Mean Squared Error: {mse_best:.2f}\")\n",
        "print(f\"R^2 Score: {r2_best:.2f}\")\n"
      ],
      "metadata": {
        "colab": {
          "base_uri": "https://localhost:8080/"
        },
        "id": "31sfN6HSi8o6",
        "outputId": "ad7d13be-d7a6-4345-d666-07fb6e3ad50e"
      },
      "id": "31sfN6HSi8o6",
      "execution_count": 25,
      "outputs": [
        {
          "output_type": "stream",
          "name": "stdout",
          "text": [
            "\n",
            "Best parameters for SVR:\n",
            "{'C': 1, 'gamma': 'auto', 'kernel': 'rbf'}\n",
            "Best cross-validation MSE: 0.04\n",
            "Best SVR Model Performance:\n",
            "Mean Squared Error: 0.03\n",
            "R^2 Score: 0.96\n"
          ]
        }
      ]
    },
    {
      "cell_type": "markdown",
      "id": "3ea70a89-ecbc-41a7-a832-37b302fe73ff",
      "metadata": {
        "id": "3ea70a89-ecbc-41a7-a832-37b302fe73ff"
      },
      "source": [
        "### Exercise 11: SVM Classification on the \"Iris\" Dataset\n",
        "Perform SVM classification on the famous Iris dataset to classify the species of iris flowers. Experiment with different kernels and parameters to optimize the model's performance.\n",
        "\n",
        "Instructions:\n",
        "\n",
        "1. **Load the Iris Dataset**: Use the `load_iris()` function from `sklearn.datasets` to load the Iris dataset.\n",
        "2. **Experiment with Different Kernels**: Modify the code to use polynomial (`kernel='poly'`), RBF (`kernel='rbf'`), and sigmoid (`kernel='sigmoid'`) kernels. Observe the changes in accuracy, precision, and recall.\n",
        "3. **Tune the C Parameter**: Experiment with different values of the `C` parameter (e.g., `C=0.1`, `C=1`, `C=1000`). Observe how it affects the model's performance.\n",
        "4. **Tune the Gamma Parameter**: For the RBF kernel, experiment with different values of the `gamma` parameter (e.g., `gamma=0.01`, `gamma=0.1`, `gamma=1`). Observe how it affects the model's performance.\n"
      ]
    },
    {
      "cell_type": "code",
      "source": [
        "import numpy as np\n",
        "import pandas as pd\n",
        "from sklearn.datasets import load_iris\n",
        "from sklearn.model_selection import train_test_split, cross_val_score\n",
        "from sklearn.svm import SVC\n",
        "from sklearn.metrics import accuracy_score, precision_score, recall_score\n",
        "\n",
        "# Charger le dataset Iris\n",
        "iris = load_iris()\n",
        "X = iris.data\n",
        "y = iris.target\n",
        "\n",
        "# Diviser le dataset\n",
        "X_train, X_test, y_train, y_test = train_test_split(X, y, test_size=0.2, random_state=42)\n"
      ],
      "metadata": {
        "id": "V7vWKQ3CjqKh"
      },
      "id": "V7vWKQ3CjqKh",
      "execution_count": 24,
      "outputs": []
    },
    {
      "cell_type": "code",
      "source": [
        "# SVM avec noyau polynomial\n",
        "svm_poly = SVC(kernel='poly', C=1)\n",
        "svm_poly.fit(X_train, y_train)\n",
        "y_pred_poly = svm_poly.predict(X_test)\n",
        "\n",
        "print(\"Polynomial Kernel:\")\n",
        "print(f\"Accuracy: {accuracy_score(y_test, y_pred_poly):.2f}\")\n",
        "print(f\"Precision: {precision_score(y_test, y_pred_poly, average='weighted'):.2f}\")\n",
        "print(f\"Recall: {recall_score(y_test, y_pred_poly, average='weighted'):.2f}\")\n"
      ],
      "metadata": {
        "colab": {
          "base_uri": "https://localhost:8080/"
        },
        "id": "azbRxJoMj7ny",
        "outputId": "dde1e2f3-0143-4082-baca-8d46f45dff24"
      },
      "id": "azbRxJoMj7ny",
      "execution_count": 26,
      "outputs": [
        {
          "metadata": {
            "tags": null
          },
          "name": "stdout",
          "output_type": "stream",
          "text": [
            "Polynomial Kernel:\n",
            "Accuracy: 1.00\n",
            "Precision: 1.00\n",
            "Recall: 1.00\n"
          ]
        }
      ]
    },
    {
      "cell_type": "code",
      "source": [
        "# SVM avec noyau RBF\n",
        "svm_rbf = SVC(kernel='rbf', C=1)\n",
        "svm_rbf.fit(X_train, y_train)\n",
        "y_pred_rbf = svm_rbf.predict(X_test)\n",
        "\n",
        "print(\"\\nRBF Kernel:\")\n",
        "print(f\"Accuracy: {accuracy_score(y_test, y_pred_rbf):.2f}\")\n",
        "print(f\"Precision: {precision_score(y_test, y_pred_rbf, average='weighted'):.2f}\")\n",
        "print(f\"Recall: {recall_score(y_test, y_pred_rbf, average='weighted'):.2f}\")\n"
      ],
      "metadata": {
        "id": "P_78g4z_j_iD"
      },
      "id": "P_78g4z_j_iD",
      "execution_count": null,
      "outputs": []
    },
    {
      "cell_type": "code",
      "source": [
        "# SVM avec noyau sigmoïde\n",
        "svm_sigmoid = SVC(kernel='sigmoid', C=1)\n",
        "svm_sigmoid.fit(X_train, y_train)\n",
        "y_pred_sigmoid = svm_sigmoid.predict(X_test)\n",
        "\n",
        "print(\"\\nSigmoid Kernel:\")\n",
        "print(f\"Accuracy: {accuracy_score(y_test, y_pred_sigmoid):.2f}\")\n",
        "print(f\"Precision: {precision_score(y_test, y_pred_sigmoid, average='weighted'):.2f}\")\n",
        "print(f\"Recall: {recall_score(y_test, y_pred_sigmoid, average='weighted'):.2f}\")\n"
      ],
      "metadata": {
        "id": "YS2zX4vCkChM"
      },
      "id": "YS2zX4vCkChM",
      "execution_count": null,
      "outputs": []
    },
    {
      "cell_type": "code",
      "source": [
        "C_values = [0.1, 1, 1000]\n",
        "\n",
        "for C in C_values:\n",
        "    svm_rbf_c = SVC(kernel='rbf', C=C)\n",
        "    svm_rbf_c.fit(X_train, y_train)\n",
        "    y_pred_rbf_c = svm_rbf_c.predict(X_test)\n",
        "\n",
        "    print(f\"\\nRBF Kernel with C={C}:\")\n",
        "    print(f\"Accuracy: {accuracy_score(y_test, y_pred_rbf_c):.2f}\")\n",
        "    print(f\"Precision: {precision_score(y_test, y_pred_rbf_c, average='weighted'):.2f}\")\n",
        "    print(f\"Recall: {recall_score(y_test, y_pred_rbf_c, average='weighted'):.2f}\")\n"
      ],
      "metadata": {
        "id": "bOAPjw4TkGXC"
      },
      "id": "bOAPjw4TkGXC",
      "execution_count": null,
      "outputs": []
    },
    {
      "cell_type": "code",
      "source": [
        "gamma_values = [0.01, 0.1, 1]\n",
        "\n",
        "for gamma in gamma_values:\n",
        "    svm_rbf_gamma = SVC(kernel='rbf', C=1, gamma=gamma)\n",
        "    svm_rbf_gamma.fit(X_train, y_train)\n",
        "    y_pred_rbf_gamma = svm_rbf_gamma.predict(X_test)\n",
        "\n",
        "    print(f\"\\nRBF Kernel with gamma={gamma}:\")\n",
        "    print(f\"Accuracy: {accuracy_score(y_test, y_pred_rbf_gamma):.2f}\")\n",
        "    print(f\"Precision: {precision_score(y_test, y_pred_rbf_gamma, average='weighted'):.2f}\")\n",
        "    print(f\"Recall: {recall_score(y_test, y_pred_rbf_gamma, average='weighted'):.2f}\")\n"
      ],
      "metadata": {
        "id": "Rg9W2tg-kIzB"
      },
      "id": "Rg9W2tg-kIzB",
      "execution_count": null,
      "outputs": []
    },
    {
      "cell_type": "markdown",
      "id": "24deafa9-863f-4ffa-be9a-67adfcd920c8",
      "metadata": {
        "id": "24deafa9-863f-4ffa-be9a-67adfcd920c8"
      },
      "source": [
        "### Exercise 12: SVR on the \"Boston Housing\" Dataset\n",
        "Perform Support Vector Regression (SVR) on the Boston Housing dataset to predict housing prices. Experiment with different kernels and parameters to optimize the model's performance.\n",
        "\n",
        "Instructions:\n",
        "\n",
        "1. **Load the Boston Housing Dataset**: Use the `load_boston()` function from `sklearn.datasets` to load the Boston Housing dataset.\n",
        "2. **SVR with Different Kernels**: Modify the code to use SVR with linear (`kernel='linear'`), polynomial (`kernel='poly'`), and RBF (`kernel='rbf'`) kernels. Observe the changes in mean squared error and R^2 score.\n",
        "3. **Tune the C Parameter**: Experiment with different values of the `C` parameter (e.g., `C=0.1`, `C=1`, `C=1000`). Observe how it affects the model's performance.\n",
        "4. **Tune the Gamma Parameter**: For the RBF kernel, experiment with different values of the `gamma` parameter (e.g., `gamma=0.01`, `gamma=0.1`, `gamma=1`). Observe how it affects the model's performance.\n"
      ]
    },
    {
      "cell_type": "code",
      "source": [
        "import numpy as np\n",
        "import pandas as pd\n",
        "from sklearn.datasets import load_boston\n",
        "from sklearn.model_selection import train_test_split\n",
        "from sklearn.svm import SVR\n",
        "from sklearn.metrics import mean_squared_error, r2_score\n",
        "\n",
        "# Charger le dataset Boston Housing\n",
        "boston = load_boston()\n",
        "X = boston.data\n",
        "y = boston.target\n",
        "\n",
        "# Diviser le dataset\n",
        "X_train, X_test, y_train, y_test = train_test_split(X, y, test_size=0.2, random_state=42)\n"
      ],
      "metadata": {
        "id": "0HTOX5jJlPO8"
      },
      "id": "0HTOX5jJlPO8",
      "execution_count": null,
      "outputs": []
    },
    {
      "cell_type": "code",
      "source": [
        "# SVR avec noyau linéaire\n",
        "svr_linear = SVR(kernel='linear')\n",
        "svr_linear.fit(X_train, y_train)\n",
        "y_pred_linear = svr_linear.predict(X_test)\n",
        "\n",
        "mse_linear = mean_squared_error(y_test, y_pred_linear)\n",
        "r2_linear = r2_score(y_test, y_pred_linear)\n",
        "\n",
        "print(\"Linear Kernel:\")\n",
        "print(f\"Mean Squared Error: {mse_linear:.2f}\")\n",
        "print(f\"R^2 Score: {r2_linear:.2f}\")\n"
      ],
      "metadata": {
        "id": "jwBPn32TlSlA"
      },
      "id": "jwBPn32TlSlA",
      "execution_count": null,
      "outputs": []
    },
    {
      "cell_type": "code",
      "source": [
        "# SVR avec noyau polynomial\n",
        "svr_poly = SVR(kernel='poly')\n",
        "svr_poly.fit(X_train, y_train)\n",
        "y_pred_poly = svr_poly.predict(X_test)\n",
        "\n",
        "mse_poly = mean_squared_error(y_test, y_pred_poly)\n",
        "r2_poly = r2_score(y_test, y_pred_poly)\n",
        "\n",
        "print(\"\\nPolynomial Kernel:\")\n",
        "print(f\"Mean Squared Error: {mse_poly:.2f}\")\n",
        "print(f\"R^2 Score: {r2_poly:.2f}\")\n"
      ],
      "metadata": {
        "id": "kv3cMttelVmO"
      },
      "id": "kv3cMttelVmO",
      "execution_count": null,
      "outputs": []
    },
    {
      "cell_type": "code",
      "source": [
        "# SVR avec noyau RBF\n",
        "svr_rbf = SVR(kernel='rbf')\n",
        "svr_rbf.fit(X_train, y_train)\n",
        "y_pred_rbf = svr_rbf.predict(X_test)\n",
        "\n",
        "mse_rbf = mean_squared_error(y_test, y_pred_rbf)\n",
        "r2_rbf = r2_score(y_test, y_pred_rbf)\n",
        "\n",
        "print(\"\\nRBF Kernel:\")\n",
        "print(f\"Mean Squared Error: {mse_rbf:.2f}\")\n",
        "print(f\"R^2 Score: {r2_rbf:.2f}\")\n"
      ],
      "metadata": {
        "id": "qCJ7jwU0lYbx"
      },
      "id": "qCJ7jwU0lYbx",
      "execution_count": null,
      "outputs": []
    },
    {
      "cell_type": "code",
      "source": [
        "C_values = [0.1, 1, 1000]\n",
        "\n",
        "for C in C_values:\n",
        "    svr_rbf_c = SVR(kernel='rbf', C=C)\n",
        "    svr_rbf_c.fit(X_train, y_train)\n",
        "    y_pred_rbf_c = svr_rbf_c.predict(X_test)\n",
        "\n",
        "    mse_rbf_c = mean_squared_error(y_test, y_pred_rbf_c)\n",
        "    r2_rbf_c = r2_score(y_test, y_pred_rbf_c)\n",
        "\n",
        "    print(f\"\\nRBF Kernel with C={C}:\")\n",
        "    print(f\"Mean Squared Error: {mse_rbf_c:.2f}\")\n",
        "    print(f\"R^2 Score: {r2_rbf_c:.2f}\")\n"
      ],
      "metadata": {
        "id": "2y-L8AAvlbez"
      },
      "id": "2y-L8AAvlbez",
      "execution_count": null,
      "outputs": []
    },
    {
      "cell_type": "code",
      "source": [
        "gamma_values = [0.01, 0.1, 1]\n",
        "\n",
        "for gamma in gamma_values:\n",
        "    svr_rbf_gamma = SVR(kernel='rbf', C=1, gamma=gamma)\n",
        "    svr_rbf_gamma.fit(X_train, y_train)\n",
        "    y_pred_rbf_gamma = svr_rbf_gamma.predict(X_test)\n",
        "\n",
        "    mse_rbf_gamma = mean_squared_error(y_test, y_pred_rbf_gamma)\n",
        "    r2_rbf_gamma = r2_score(y_test, y_pred_rbf_gamma)\n",
        "\n",
        "    print(f\"\\nRBF Kernel with gamma={gamma}:\")\n",
        "    print(f\"Mean Squared Error: {mse_rbf_gamma:.2f}\")\n",
        "    print(f\"R^2 Score: {r2_rbf_gamma:.2f}\")\n"
      ],
      "metadata": {
        "id": "66J-ZYMRlfrg"
      },
      "id": "66J-ZYMRlfrg",
      "execution_count": null,
      "outputs": []
    },
    {
      "cell_type": "markdown",
      "id": "9dccf404-91e6-4000-a994-ab7e13ee099b",
      "metadata": {
        "id": "9dccf404-91e6-4000-a994-ab7e13ee099b"
      },
      "source": [
        "### Exercise 13: SVM Classification on the \"Wine\" Dataset\n",
        "Perform SVM classification on the Wine dataset to classify the type of wine. Experiment with different kernels and parameters to optimize the model's performance.\n",
        "\n",
        "Instructions:\n",
        "\n",
        "1. **Load the Wine Dataset**: Use the `load_wine()` function from `sklearn.datasets` to load the Wine dataset.\n",
        "2. **Experiment with Different Kernels**: Modify the code to use polynomial (`kernel='poly'`), RBF (`kernel='rbf'`), and sigmoid (`kernel='sigmoid'`) kernels. Observe the changes in accuracy, precision, and recall.\n",
        "3. **Tune the C Parameter**: Experiment with different values of the `C` parameter (e.g., `C=0.1`, `C=1`, `C=1000`). Observe how it affects the model's performance.\n",
        "4. **Tune the Gamma Parameter**: For the RBF kernel, experiment with different values of the `gamma` parameter (e.g., `gamma=0.01`, `gamma=0.1`, `gamma=1`). Observe how it affects the model's performance."
      ]
    },
    {
      "cell_type": "code",
      "source": [
        "import numpy as np\n",
        "import pandas as pd\n",
        "from sklearn.datasets import load_wine\n",
        "from sklearn.model_selection import train_test_split\n",
        "from sklearn.svm import SVC\n",
        "from sklearn.metrics import accuracy_score, precision_score, recall_score\n",
        "\n",
        "# Charger le dataset Wine\n",
        "wine = load_wine()\n",
        "X = wine.data\n",
        "y = wine.target\n",
        "\n",
        "# Diviser le dataset\n",
        "X_train, X_test, y_train, y_test = train_test_split(X, y, test_size=0.2, random_state=42)\n"
      ],
      "metadata": {
        "id": "mnsENkN6lm2I"
      },
      "id": "mnsENkN6lm2I",
      "execution_count": null,
      "outputs": []
    },
    {
      "cell_type": "code",
      "source": [
        "# SVM avec noyau polynomial\n",
        "svm_poly = SVC(kernel='poly', C=1)\n",
        "svm_poly.fit(X_train, y_train)\n",
        "y_pred_poly = svm_poly.predict(X_test)\n",
        "\n",
        "print(\"Polynomial Kernel:\")\n",
        "print(f\"Accuracy: {accuracy_score(y_test, y_pred_poly):.2f}\")\n",
        "print(f\"Precision: {precision_score(y_test, y_pred_poly, average='weighted'):.2f}\")\n",
        "print(f\"Recall: {recall_score(y_test, y_pred_poly, average='weighted'):.2f}\")\n"
      ],
      "metadata": {
        "id": "4InjDH8lnaIm"
      },
      "id": "4InjDH8lnaIm",
      "execution_count": null,
      "outputs": []
    },
    {
      "cell_type": "code",
      "source": [
        "# SVM avec noyau RBF\n",
        "svm_rbf = SVC(kernel='rbf', C=1)\n",
        "svm_rbf.fit(X_train, y_train)\n",
        "y_pred_rbf = svm_rbf.predict(X_test)\n",
        "\n",
        "print(\"\\nRBF Kernel:\")\n",
        "print(f\"Accuracy: {accuracy_score(y_test, y_pred_rbf):.2f}\")\n",
        "print(f\"Precision: {precision_score(y_test, y_pred_rbf, average='weighted'):.2f}\")\n",
        "print(f\"Recall: {recall_score(y_test, y_pred_rbf, average='weighted'):.2f}\")\n"
      ],
      "metadata": {
        "id": "EaGZ9_osneK9"
      },
      "id": "EaGZ9_osneK9",
      "execution_count": null,
      "outputs": []
    },
    {
      "cell_type": "code",
      "source": [
        "# SVM avec noyau sigmoïde\n",
        "svm_sigmoid = SVC(kernel='sigmoid', C=1)\n",
        "svm_sigmoid.fit(X_train, y_train)\n",
        "y_pred_sigmoid = svm_sigmoid.predict(X_test)\n",
        "\n",
        "print(\"\\nSigmoid Kernel:\")\n",
        "print(f\"Accuracy: {accuracy_score(y_test, y_pred_sigmoid):.2f}\")\n",
        "print(f\"Precision: {precision_score(y_test, y_pred_sigmoid, average='weighted'):.2f}\")\n",
        "print(f\"Recall: {recall_score(y_test, y_pred_sigmoid, average='weighted'):.2f}\")\n"
      ],
      "metadata": {
        "id": "I6jJ89amnhe9"
      },
      "id": "I6jJ89amnhe9",
      "execution_count": null,
      "outputs": []
    },
    {
      "cell_type": "code",
      "source": [
        "C_values = [0.1, 1, 1000]\n",
        "\n",
        "for C in C_values:\n",
        "    svm_rbf_c = SVC(kernel='rbf', C=C)\n",
        "    svm_rbf_c.fit(X_train, y_train)\n",
        "    y_pred_rbf_c = svm_rbf_c.predict(X_test)\n",
        "\n",
        "    print(f\"\\nRBF Kernel with C={C}:\")\n",
        "    print(f\"Accuracy: {accuracy_score(y_test, y_pred_rbf_c):.2f}\")\n",
        "    print(f\"Precision: {precision_score(y_test, y_pred_rbf_c, average='weighted'):.2f}\")\n",
        "    print(f\"Recall: {recall_score(y_test, y_pred_rbf_c, average='weighted'):.2f}\")\n"
      ],
      "metadata": {
        "id": "w0qk9R5NnkNK"
      },
      "id": "w0qk9R5NnkNK",
      "execution_count": null,
      "outputs": []
    },
    {
      "cell_type": "code",
      "source": [
        "gamma_values = [0.01, 0.1, 1]\n",
        "\n",
        "for gamma in gamma_values:\n",
        "    svm_rbf_gamma = SVC(kernel='rbf', C=1, gamma=gamma)\n",
        "    svm_rbf_gamma.fit(X_train, y_train)\n",
        "    y_pred_rbf_gamma = svm_rbf_gamma.predict(X_test)\n",
        "\n",
        "    print(f\"\\nRBF Kernel with gamma={gamma}:\")\n",
        "    print(f\"Accuracy: {accuracy_score(y_test, y_pred_rbf_gamma):.2f}\")\n",
        "    print(f\"Precision: {precision_score(y_test, y_pred_rbf_gamma, average='weighted'):.2f}\")\n",
        "    print(f\"Recall: {recall_score(y_test, y_pred_rbf_gamma, average='weighted'):.2f}\")\n"
      ],
      "metadata": {
        "id": "-PXPmvWWnoAq"
      },
      "id": "-PXPmvWWnoAq",
      "execution_count": null,
      "outputs": []
    },
    {
      "cell_type": "markdown",
      "id": "a9105232-9cbc-4c48-afad-84d1578332c3",
      "metadata": {
        "id": "a9105232-9cbc-4c48-afad-84d1578332c3"
      },
      "source": [
        "### Exercise 14: SVR on the \"Diabetes\" Dataset\n",
        "Perform Support Vector Regression (SVR) on the Diabetes dataset to predict disease progression. Experiment with different kernels and parameters to optimize the model's performance.\n",
        "\n",
        "Instructions:\n",
        "\n",
        "1. **Load the Diabetes Dataset**: Use the `load_diabetes()` function from `sklearn.datasets` to load the Diabetes dataset.\n",
        "2. **SVR with Different Kernels**: Modify the code to use SVR with linear (`kernel='linear'`), polynomial (`kernel='poly'`), and RBF (`kernel='rbf'`) kernels. Observe the changes in mean squared error and R^2 score.\n",
        "3. **Tune the C Parameter**: Experiment with different values of the `C` parameter (e.g., `C=0.1`, `C=1`, `C=1000`). Observe how it affects the model's performance.\n",
        "4. **Tune the Gamma Parameter**: For the RBF kernel, experiment with different values of the `gamma` parameter (e.g., `gamma=0.01`, `gamma=0.1`, `gamma=1`). Observe how it affects the model's performance."
      ]
    },
    {
      "cell_type": "code",
      "source": [
        "import numpy as np\n",
        "import pandas as pd\n",
        "from sklearn.datasets import load_diabetes\n",
        "from sklearn.model_selection import train_test_split\n",
        "from sklearn.svm import SVR\n",
        "from sklearn.metrics import mean_squared_error, r2_score\n",
        "\n",
        "# Charger le dataset Diabetes\n",
        "diabetes = load_diabetes()\n",
        "X = diabetes.data\n",
        "y = diabetes.target\n",
        "\n",
        "# Diviser le dataset\n",
        "X_train, X_test, y_train, y_test = train_test_split(X, y, test_size=0.2, random_state=42)\n"
      ],
      "metadata": {
        "id": "rUX1uESnnrXw"
      },
      "id": "rUX1uESnnrXw",
      "execution_count": null,
      "outputs": []
    },
    {
      "cell_type": "code",
      "source": [
        "# SVR avec noyau linéaire\n",
        "svr_linear = SVR(kernel='linear')\n",
        "svr_linear.fit(X_train, y_train)\n",
        "y_pred_linear = svr_linear.predict(X_test)\n",
        "\n",
        "mse_linear = mean_squared_error(y_test, y_pred_linear)\n",
        "r2_linear = r2_score(y_test, y_pred_linear)\n",
        "\n",
        "print(\"Linear Kernel:\")\n",
        "print(f\"Mean Squared Error: {mse_linear:.2f}\")\n",
        "print(f\"R^2 Score: {r2_linear:.2f}\")\n"
      ],
      "metadata": {
        "id": "i9zN3us-n548"
      },
      "id": "i9zN3us-n548",
      "execution_count": null,
      "outputs": []
    },
    {
      "cell_type": "code",
      "source": [
        "# SVR avec noyau polynomial\n",
        "svr_poly = SVR(kernel='poly')\n",
        "svr_poly.fit(X_train, y_train)\n",
        "y_pred_poly = svr_poly.predict(X_test)\n",
        "\n",
        "mse_poly = mean_squared_error(y_test, y_pred_poly)\n",
        "r2_poly = r2_score(y_test, y_pred_poly)\n",
        "\n",
        "print(\"\\nPolynomial Kernel:\")\n",
        "print(f\"Mean Squared Error: {mse_poly:.2f}\")\n",
        "print(f\"R^2 Score: {r2_poly:.2f}\")\n"
      ],
      "metadata": {
        "id": "kMOg1inJn8uL"
      },
      "id": "kMOg1inJn8uL",
      "execution_count": null,
      "outputs": []
    },
    {
      "cell_type": "code",
      "source": [
        "# SVR avec noyau RBF\n",
        "svr_rbf = SVR(kernel='rbf')\n",
        "svr_rbf.fit(X_train, y_train)\n",
        "y_pred_rbf = svr_rbf.predict(X_test)\n",
        "\n",
        "mse_rbf = mean_squared_error(y_test, y_pred_rbf)\n",
        "r2_rbf = r2_score(y_test, y_pred_rbf)\n",
        "\n",
        "print(\"\\nRBF Kernel:\")\n",
        "print(f\"Mean Squared Error: {mse_rbf:.2f}\")\n",
        "print(f\"R^2 Score: {r2_rbf:.2f}\")\n"
      ],
      "metadata": {
        "id": "mphlmKJ7oAzZ"
      },
      "id": "mphlmKJ7oAzZ",
      "execution_count": null,
      "outputs": []
    },
    {
      "cell_type": "code",
      "source": [
        "C_values = [0.1, 1, 1000]\n",
        "\n",
        "for C in C_values:\n",
        "    svr_rbf_c = SVR(kernel='rbf', C=C)\n",
        "    svr_rbf_c.fit(X_train, y_train)\n",
        "    y_pred_rbf_c = svr_rbf_c.predict(X_test)\n",
        "\n",
        "    mse_rbf_c = mean_squared_error(y_test, y_pred_rbf_c)\n",
        "    r2_rbf_c = r2_score(y_test, y_pred_rbf_c)\n",
        "\n",
        "    print(f\"\\nRBF Kernel with C={C}:\")\n",
        "    print(f\"Mean Squared Error: {mse_rbf_c:.2f}\")\n",
        "    print(f\"R^2 Score: {r2_rbf_c:.2f}\")\n"
      ],
      "metadata": {
        "id": "IJsBg_9_oPDG"
      },
      "id": "IJsBg_9_oPDG",
      "execution_count": null,
      "outputs": []
    },
    {
      "cell_type": "code",
      "source": [
        "gamma_values = [0.01, 0.1, 1]\n",
        "\n",
        "for gamma in gamma_values:\n",
        "    svr_rbf_gamma = SVR(kernel='rbf', C=1, gamma=gamma)\n",
        "    svr_rbf_gamma.fit(X_train, y_train)\n",
        "    y_pred_rbf_gamma = svr_rbf_gamma.predict(X_test)\n",
        "\n",
        "    mse_rbf_gamma = mean_squared_error(y_test, y_pred_rbf_gamma)\n",
        "    r2_rbf_gamma = r2_score(y_test, y_pred_rbf_gamma)\n",
        "\n",
        "    print(f\"\\nRBF Kernel with gamma={gamma}:\")\n",
        "    print(f\"Mean Squared Error: {mse_rbf_gamma:.2f}\")\n",
        "    print(f\"R^2 Score: {r2_rbf_gamma:.2f}\")\n"
      ],
      "metadata": {
        "id": "XtGQukD9oQxh"
      },
      "id": "XtGQukD9oQxh",
      "execution_count": null,
      "outputs": []
    }
  ],
  "metadata": {
    "kernelspec": {
      "display_name": "Python 3 (ipykernel)",
      "language": "python",
      "name": "python3"
    },
    "language_info": {
      "codemirror_mode": {
        "name": "ipython",
        "version": 3
      },
      "file_extension": ".py",
      "mimetype": "text/x-python",
      "name": "python",
      "nbconvert_exporter": "python",
      "pygments_lexer": "ipython3",
      "version": "3.11.7"
    },
    "colab": {
      "provenance": []
    }
  },
  "nbformat": 4,
  "nbformat_minor": 5
}